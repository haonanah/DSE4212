{
 "cells": [
  {
   "cell_type": "code",
   "execution_count": null,
   "metadata": {},
   "outputs": [],
   "source": [
    "# !sudo apt install swig"
   ]
  },
  {
   "cell_type": "code",
   "execution_count": null,
   "metadata": {},
   "outputs": [],
   "source": [
    "# !pip install quantstats\n",
    "# !pip install scikit-learn\n",
    "# !pip install torch\n",
    "# !pip install git+https://github.com/AI4Finance-Foundation/FinRL.git"
   ]
  },
  {
   "cell_type": "markdown",
   "metadata": {},
   "source": [
    "# Initializing"
   ]
  },
  {
   "cell_type": "code",
   "execution_count": 1,
   "metadata": {},
   "outputs": [],
   "source": [
    "import logging\n",
    "logging.getLogger('matplotlib.font_manager').disabled = True\n",
    "import torch\n",
    "\n",
    "import numpy as np\n",
    "import pandas as pd\n",
    "\n",
    "from sklearn.preprocessing import MaxAbsScaler\n",
    "from finrl.meta.preprocessor.yahoodownloader import YahooDownloader\n",
    "from finrl.meta.preprocessor.preprocessors import GroupByScaler\n",
    "from utils import PortfolioOptimizationEnv, custom_reward_function, sharpe_ratio_reward_function\n",
    "from finrl.agents.portfolio_optimization.models import DRLAgent\n",
    "from finrl.agents.portfolio_optimization.architectures import EIIE\n",
    "\n",
    "device = 'cuda:0' if torch.cuda.is_available() else 'cpu'"
   ]
  },
  {
   "cell_type": "markdown",
   "metadata": {},
   "source": [
    "# Data Import and Preprocessing"
   ]
  },
  {
   "cell_type": "code",
   "execution_count": 2,
   "metadata": {},
   "outputs": [
    {
     "name": "stdout",
     "output_type": "stream",
     "text": [
      "10\n"
     ]
    },
    {
     "name": "stderr",
     "output_type": "stream",
     "text": [
      "[*********************100%***********************]  1 of 1 completed\n",
      "[*********************100%***********************]  1 of 1 completed\n",
      "[*********************100%***********************]  1 of 1 completed\n",
      "[*********************100%***********************]  1 of 1 completed\n",
      "[*********************100%***********************]  1 of 1 completed\n",
      "[*********************100%***********************]  1 of 1 completed\n",
      "[*********************100%***********************]  1 of 1 completed\n",
      "[*********************100%***********************]  1 of 1 completed\n",
      "[*********************100%***********************]  1 of 1 completed\n",
      "[*********************100%***********************]  1 of 1 completed\n"
     ]
    },
    {
     "name": "stdout",
     "output_type": "stream",
     "text": [
      "Shape of DataFrame:  (32700, 8)\n"
     ]
    }
   ],
   "source": [
    "TEST_SET = [\n",
    "    \"AAPL\", \"CVX\", \"GS\", \"JNJ\",\n",
    "    \"JPM\", \"MSFT\", \"PFE\", \"PG\",\n",
    "    \"GOOG\", \"XOM\"\n",
    "]\n",
    "START_DATE = '2011-01-01'\n",
    "END_DATE = '2023-12-31'\n",
    "print(len(TEST_SET))\n",
    "\n",
    "##COVARIATE 1: PRICES\n",
    "\n",
    "portfolio_raw_df = YahooDownloader(start_date = START_DATE,\n",
    "                                end_date = END_DATE,\n",
    "                                ticker_list = TEST_SET).fetch_data()"
   ]
  },
  {
   "cell_type": "code",
   "execution_count": 3,
   "metadata": {
    "scrolled": false
   },
   "outputs": [],
   "source": [
    "##COVARIATES 2,3: VIX, FEAR/GREED INDEX\n",
    "\n",
    "combined_spy_vix_fear_greed = pd.read_csv('datasets/VIX_feargreed/spy_vix_fear_greed_2011_2023.csv')\n",
    "\n",
    "\n",
    "portfolio_raw_df['date'] = pd.to_datetime(portfolio_raw_df['date'])\n",
    "combined_spy_vix_fear_greed['Date'] = pd.to_datetime(combined_spy_vix_fear_greed['Date'])\n",
    "\n",
    "\n",
    "df_portfolio_comb = pd.merge(portfolio_raw_df, combined_spy_vix_fear_greed, left_on='date', right_on='Date', how='left')\n",
    "\n",
    "\n",
    "df_portfolio_comb = df_portfolio_comb.drop(columns=['Date'])\n",
    "df_portfolio_comb['date'] = df_portfolio_comb['date'].dt.strftime('%Y-%m-%d')"
   ]
  },
  {
   "cell_type": "code",
   "execution_count": 4,
   "metadata": {
    "scrolled": true
   },
   "outputs": [],
   "source": [
    "##COVARIATE 4: STOCK HISTORICAL RATINGS\n",
    "\n",
    "FMP_historical_ratings = pd.read_csv('datasets/historical_ratings/FMP_historical_ratings.csv')\n",
    "\n",
    "df_portfolio_comb_2 = df_portfolio_comb.merge(\n",
    "    FMP_historical_ratings[['date', 'symbol', 'ratingScore', 'ratingDetailsDCFScore', 'ratingDetailsROEScore', 'ratingDetailsROAScore', 'ratingDetailsPEScore', 'ratingDetailsPBScore']],\n",
    "    left_on=['date', 'tic'],\n",
    "    right_on=['date', 'symbol'],\n",
    "    how='left' )\n",
    "\n",
    "df_portfolio_comb_2.drop(columns=['symbol'], inplace=True)"
   ]
  },
  {
   "cell_type": "code",
   "execution_count": 5,
   "metadata": {},
   "outputs": [],
   "source": [
    "##COVARIATE 5: Macro Indicators\n",
    "\n",
    "expenses = pd.read_csv('datasets/macro_indicators/expenses.csv')\n",
    "gdp = pd.read_csv('datasets/macro_indicators/gdp.csv')\n",
    "goods_services = pd.read_csv('datasets/macro_indicators/goods_and_services.csv')\n",
    "pound_dollar = pd.read_csv('datasets/macro_indicators/pound-dollar-exchange-rate-historical-chart.csv')\n",
    "unemployment = pd.read_csv('datasets/macro_indicators/unemployment.csv')\n",
    "index_consumer_services = pd.read_csv('datasets/macro_indicators/index_consumer_services.csv')\n",
    "\n",
    "df_portfolio_comb_2['date'] = pd.to_datetime(df_portfolio_comb_2['date'])\n",
    "expenses['date'] = pd.to_datetime(unemployment['date'])\n",
    "gdp['date'] = pd.to_datetime(gdp['DATE'])\n",
    "goods_services['date'] = pd.to_datetime(goods_services['date'])\n",
    "pound_dollar['date'] = pd.to_datetime(pound_dollar['date'])\n",
    "unemployment['date'] = pd.to_datetime(unemployment['date'])\n",
    "index_consumer_services['date'] = pd.to_datetime(index_consumer_services['date'])\n",
    "\n",
    "df_portfolio_comb_3 = pd.merge(df_portfolio_comb_2, expenses, on='date', how='left')\n",
    "df_portfolio_comb_3 = pd.merge(df_portfolio_comb_3, gdp, on='date', how='left')\n",
    "df_portfolio_comb_3 = pd.merge(df_portfolio_comb_3, goods_services, on='date', how='left')\n",
    "df_portfolio_comb_3 = pd.merge(df_portfolio_comb_3, pound_dollar, on='date', how='left')\n",
    "df_portfolio_comb_3 = pd.merge(df_portfolio_comb_3, unemployment, on='date', how='left')\n",
    "df_portfolio_comb_3 = pd.merge(df_portfolio_comb_3, index_consumer_services, on='date', how='left')\n",
    "\n",
    "# Sort the dataframe by date (and optionally 'tic' if needed)\n",
    "df_portfolio_comb_3 = df_portfolio_comb_3.sort_values(by=['date', 'tic'])\n",
    "\n",
    "# Forward fill missing data\n",
    "df_portfolio_comb_3['expenses'] = df_portfolio_comb_3['expenses'].ffill()\n",
    "df_portfolio_comb_3['GDP'] = df_portfolio_comb_3['GDP'].ffill()\n",
    "df_portfolio_comb_3['exports'] = df_portfolio_comb_3['exports'].ffill()\n",
    "df_portfolio_comb_3['imports'] = df_portfolio_comb_3['imports'].ffill()\n",
    "df_portfolio_comb_3['pound_dollar_exchange_rate'] = df_portfolio_comb_3['pound_dollar_exchange_rate'].ffill()\n",
    "df_portfolio_comb_3['unemployment'] = df_portfolio_comb_3['unemployment'].ffill()\n",
    "df_portfolio_comb_3['ics'] = df_portfolio_comb_3['ics'].ffill()\n",
    "df_portfolio_comb_3.drop(columns=['DATE'], inplace=True)"
   ]
  },
  {
   "cell_type": "code",
   "execution_count": 6,
   "metadata": {
    "scrolled": true
   },
   "outputs": [
    {
     "name": "stderr",
     "output_type": "stream",
     "text": [
      "C:\\Users\\limyi\\AppData\\Local\\Temp\\ipykernel_11120\\1570567354.py:11: UserWarning: Parsing dates in %d/%m/%Y format when dayfirst=False (the default) was specified. Pass `dayfirst=True` or specify a format to silence this warning.\n",
      "  DBITDA_ratio['date'] = pd.to_datetime(DBITDA_ratio['date'])\n",
      "C:\\Users\\limyi\\AppData\\Local\\Temp\\ipykernel_11120\\1570567354.py:12: UserWarning: Parsing dates in %d/%m/%Y format when dayfirst=False (the default) was specified. Pass `dayfirst=True` or specify a format to silence this warning.\n",
      "  PB_ratio['date'] = pd.to_datetime(PB_ratio['date'])\n",
      "C:\\Users\\limyi\\AppData\\Local\\Temp\\ipykernel_11120\\1570567354.py:13: UserWarning: Parsing dates in %d/%m/%Y format when dayfirst=False (the default) was specified. Pass `dayfirst=True` or specify a format to silence this warning.\n",
      "  PE_ratio['date'] = pd.to_datetime(PE_ratio['date'])\n",
      "C:\\Users\\limyi\\AppData\\Local\\Temp\\ipykernel_11120\\1570567354.py:14: UserWarning: Parsing dates in %d/%m/%Y format when dayfirst=False (the default) was specified. Pass `dayfirst=True` or specify a format to silence this warning.\n",
      "  PS_ratio['date'] = pd.to_datetime(PS_ratio['date'])\n",
      "C:\\Users\\limyi\\AppData\\Local\\Temp\\ipykernel_11120\\1570567354.py:15: UserWarning: Parsing dates in %d/%m/%Y format when dayfirst=False (the default) was specified. Pass `dayfirst=True` or specify a format to silence this warning.\n",
      "  quarterly_data['date'] = pd.to_datetime(quarterly_data['date'])\n",
      "C:\\Users\\limyi\\AppData\\Local\\Temp\\ipykernel_11120\\1570567354.py:16: UserWarning: Parsing dates in %d/%m/%Y format when dayfirst=False (the default) was specified. Pass `dayfirst=True` or specify a format to silence this warning.\n",
      "  ROE['date'] = pd.to_datetime(ROE['date'])\n"
     ]
    }
   ],
   "source": [
    "##COVARIATE 6: Fundamental Indicators\n",
    "\n",
    "DBITDA_ratio = pd.read_csv('datasets/fundemental indicators/DBITDA_ratio.csv')\n",
    "PB_ratio = pd.read_csv('datasets/fundemental indicators/PB_ratio.csv')\n",
    "PE_ratio = pd.read_csv('datasets/fundemental indicators/PE_ratio.csv')\n",
    "PS_ratio = pd.read_csv('datasets/fundemental indicators/PS_ratio.csv')\n",
    "quarterly_data = pd.read_csv('datasets/fundemental indicators/quaterlydata.csv')\n",
    "ROE = pd.read_csv('datasets/fundemental indicators/ROE.csv')\n",
    "\n",
    "df_portfolio_comb_3['date'] = pd.to_datetime(df_portfolio_comb_3['date'])\n",
    "DBITDA_ratio['date'] = pd.to_datetime(DBITDA_ratio['date'])\n",
    "PB_ratio['date'] = pd.to_datetime(PB_ratio['date'])\n",
    "PE_ratio['date'] = pd.to_datetime(PE_ratio['date'])\n",
    "PS_ratio['date'] = pd.to_datetime(PS_ratio['date'])\n",
    "quarterly_data['date'] = pd.to_datetime(quarterly_data['date'])\n",
    "ROE['date'] = pd.to_datetime(ROE['date'])\n",
    "\n",
    "df_portfolio_comb_4 = df_portfolio_comb_3\n",
    "\n",
    "df_portfolio_comb_4 = pd.merge(df_portfolio_comb_4, DBITDA_ratio, left_on=['tic', 'date'], right_on=['ticker', 'date'], how='left')\n",
    "df_portfolio_comb_4 = df_portfolio_comb_4.drop(columns=['ticker'])\n",
    "df_portfolio_comb_4 = pd.merge(df_portfolio_comb_4, PB_ratio, left_on=['tic', 'date'], right_on=['ticker', 'date'], how='left')\n",
    "df_portfolio_comb_4 = df_portfolio_comb_4.drop(columns=['ticker','Stock Price'])\n",
    "df_portfolio_comb_4 = pd.merge(df_portfolio_comb_4, PE_ratio, left_on=['tic', 'date'], right_on=['ticker', 'date'], how='left')\n",
    "df_portfolio_comb_4 = df_portfolio_comb_4.drop(columns=['ticker','Stock Price'])\n",
    "df_portfolio_comb_4 = pd.merge(df_portfolio_comb_4, PS_ratio, left_on=['tic', 'date'], right_on=['ticker', 'date'], how='left')\n",
    "df_portfolio_comb_4 = df_portfolio_comb_4.drop(columns=['ticker','Stock Price'])\n",
    "df_portfolio_comb_4 = pd.merge(df_portfolio_comb_4, quarterly_data, left_on=['tic', 'date'], right_on=['ticker', 'date'], how='left')\n",
    "df_portfolio_comb_4 = df_portfolio_comb_4.drop(columns=['ticker'])\n",
    "df_portfolio_comb_4 = pd.merge(df_portfolio_comb_4, ROE, left_on=['tic', 'date'], right_on=['ticker', 'date'], how='left')\n",
    "df_portfolio_comb_4 = df_portfolio_comb_4.drop(columns=['ticker'])\n",
    "\n",
    "# Sort the dataframe by date (and optionally 'tic' if needed)\n",
    "df_portfolio_comb_4 = df_portfolio_comb_4.sort_values(by=['tic', 'date'])\n",
    "\n",
    "# Forward fill missing data\n",
    "df_portfolio_comb_4['TTM Revenue(Billion)'] = df_portfolio_comb_4['TTM Revenue(Billion)'].ffill()\n",
    "df_portfolio_comb_4['TTM EBITDA(Billion)'] = df_portfolio_comb_4['TTM EBITDA(Billion)'].ffill()\n",
    "df_portfolio_comb_4['EBITDA Margin'] = df_portfolio_comb_4['EBITDA Margin'].ffill()\n",
    "df_portfolio_comb_4['Price to Book Ratio'] = df_portfolio_comb_4['Price to Book Ratio'].ffill()\n",
    "df_portfolio_comb_4['PE Ratio'] = df_portfolio_comb_4['PE Ratio'].ffill()\n",
    "df_portfolio_comb_4['Price to Sales Ratio'] = df_portfolio_comb_4['Price to Sales Ratio'].ffill()\n",
    "df_portfolio_comb_4['Assets'] = df_portfolio_comb_4['Assets'].ffill()\n",
    "df_portfolio_comb_4['NetIncomeLoss'] = df_portfolio_comb_4['NetIncomeLoss'].ffill()\n",
    "df_portfolio_comb_4['Return on Equity(%)'] = df_portfolio_comb_4['Return on Equity(%)'].ffill()"
   ]
  },
  {
   "cell_type": "code",
   "execution_count": 7,
   "metadata": {},
   "outputs": [],
   "source": [
    "df_portfolio_final = df_portfolio_comb_4"
   ]
  },
  {
   "cell_type": "code",
   "execution_count": 8,
   "metadata": {},
   "outputs": [
    {
     "name": "stdout",
     "output_type": "stream",
     "text": [
      "date                              datetime64[ns]\n",
      "open                                     float64\n",
      "high                                     float64\n",
      "low                                      float64\n",
      "close                                    float64\n",
      "volume                                     int64\n",
      "tic                                       object\n",
      "day                                        int32\n",
      "Open_VIX                                 float64\n",
      "High_VIX                                 float64\n",
      "Low_VIX                                  float64\n",
      "Close_VIX                                float64\n",
      "Adj Close_VIX                            float64\n",
      "Open_SPY                                 float64\n",
      "High_SPY                                 float64\n",
      "Low_SPY                                  float64\n",
      "Close_SPY                                float64\n",
      "Adj Close_SPY                            float64\n",
      "Volume_SPY                                 int64\n",
      "Fear Greed                               float64\n",
      "ratingScore                              float64\n",
      "ratingDetailsDCFScore                    float64\n",
      "ratingDetailsROEScore                    float64\n",
      "ratingDetailsROAScore                    float64\n",
      "ratingDetailsPEScore                     float64\n",
      "ratingDetailsPBScore                     float64\n",
      "expenses                                  object\n",
      "GDP                                      float64\n",
      "net_export_goods_and_services             object\n",
      "exports                                   object\n",
      "exports_goods                             object\n",
      "exports_services                          object\n",
      "imports                                   object\n",
      "imports_goods                             object\n",
      "imports_services                          object\n",
      "pound_dollar_exchange_rate               float64\n",
      "unemployment                             float64\n",
      "ics                                      float64\n",
      "TTM Revenue(Billion)                     float64\n",
      "TTM EBITDA(Billion)                      float64\n",
      "EBITDA Margin                            float64\n",
      "Book Value per Share                     float64\n",
      "Price to Book Ratio                      float64\n",
      "Net EPS                                  float64\n",
      "PE Ratio                                 float64\n",
      "TTM Sales per Share                      float64\n",
      "Price to Sales Ratio                     float64\n",
      "Assets                                   float64\n",
      "NetIncomeLoss                            float64\n",
      "TTM Net Income (Billions)                float64\n",
      "Shareholder's Equity (Billion)           float64\n",
      "Return on Equity(%)                      float64\n",
      "dtype: object\n"
     ]
    }
   ],
   "source": [
    "# Check the data types of all columns in the DataFrame\n",
    "print(df_portfolio_final.dtypes)"
   ]
  },
  {
   "cell_type": "code",
   "execution_count": 9,
   "metadata": {},
   "outputs": [],
   "source": [
    "#Convert Str to Float64\n",
    "df_portfolio_final['net_export_goods_and_services'] = df_portfolio_final['net_export_goods_and_services'].str.replace(',', '').astype('float64')\n",
    "df_portfolio_final['expenses'] = df_portfolio_final['expenses'].str.replace(',', '').astype('float64')\n",
    "df_portfolio_final['exports'] = df_portfolio_final['exports'].str.replace(',', '').astype('float64')\n",
    "df_portfolio_final['exports_goods'] = df_portfolio_final['exports_goods'].str.replace(',', '').astype('float64')\n",
    "df_portfolio_final['exports_services'] = df_portfolio_final['exports_services'].str.replace(',', '').astype('float64')\n",
    "df_portfolio_final['imports'] = df_portfolio_final['imports'].str.replace(',', '').astype('float64')\n",
    "df_portfolio_final['imports_goods'] = df_portfolio_final['imports_goods'].str.replace(',', '').astype('float64')\n",
    "df_portfolio_final['imports_services'] = df_portfolio_final['imports_services'].str.replace(',', '').astype('float64')\n",
    "\n",
    "#Convert rest to Float64\n",
    "df_portfolio_final[df_portfolio_final.columns.difference(['date', 'tic'])] = df_portfolio_final[df_portfolio_final.columns.difference(['date', 'tic'])].astype('float64')\n",
    "\n",
    "#Convert date back\n",
    "df_portfolio_final['date'] = df_portfolio_final['date'].dt.strftime('%Y-%m-%d')"
   ]
  },
  {
   "cell_type": "code",
   "execution_count": 10,
   "metadata": {},
   "outputs": [],
   "source": [
    "# Filling NaN values with 0\n",
    "df_portfolio_final.fillna(0, inplace=True)"
   ]
  },
  {
   "cell_type": "code",
   "execution_count": 11,
   "metadata": {
    "scrolled": true
   },
   "outputs": [
    {
     "data": {
      "text/html": [
       "<div>\n",
       "<style scoped>\n",
       "    .dataframe tbody tr th:only-of-type {\n",
       "        vertical-align: middle;\n",
       "    }\n",
       "\n",
       "    .dataframe tbody tr th {\n",
       "        vertical-align: top;\n",
       "    }\n",
       "\n",
       "    .dataframe thead th {\n",
       "        text-align: right;\n",
       "    }\n",
       "</style>\n",
       "<table border=\"1\" class=\"dataframe\">\n",
       "  <thead>\n",
       "    <tr style=\"text-align: right;\">\n",
       "      <th></th>\n",
       "      <th>date</th>\n",
       "      <th>open</th>\n",
       "      <th>high</th>\n",
       "      <th>low</th>\n",
       "      <th>close</th>\n",
       "      <th>volume</th>\n",
       "      <th>tic</th>\n",
       "      <th>day</th>\n",
       "      <th>Open_VIX</th>\n",
       "      <th>High_VIX</th>\n",
       "      <th>...</th>\n",
       "      <th>Price to Book Ratio</th>\n",
       "      <th>Net EPS</th>\n",
       "      <th>PE Ratio</th>\n",
       "      <th>TTM Sales per Share</th>\n",
       "      <th>Price to Sales Ratio</th>\n",
       "      <th>Assets</th>\n",
       "      <th>NetIncomeLoss</th>\n",
       "      <th>TTM Net Income (Billions)</th>\n",
       "      <th>Shareholder's Equity (Billion)</th>\n",
       "      <th>Return on Equity(%)</th>\n",
       "    </tr>\n",
       "  </thead>\n",
       "  <tbody>\n",
       "    <tr>\n",
       "      <th>0</th>\n",
       "      <td>2011-01-03</td>\n",
       "      <td>0.058731</td>\n",
       "      <td>0.059087</td>\n",
       "      <td>0.058891</td>\n",
       "      <td>0.050363</td>\n",
       "      <td>0.236650</td>\n",
       "      <td>AAPL</td>\n",
       "      <td>0.00</td>\n",
       "      <td>0.216955</td>\n",
       "      <td>0.210015</td>\n",
       "      <td>...</td>\n",
       "      <td>0.000000</td>\n",
       "      <td>0.0</td>\n",
       "      <td>0.000000</td>\n",
       "      <td>0.0</td>\n",
       "      <td>0.000000</td>\n",
       "      <td>0.000000</td>\n",
       "      <td>0.000000</td>\n",
       "      <td>0.0</td>\n",
       "      <td>0.0</td>\n",
       "      <td>0.000000</td>\n",
       "    </tr>\n",
       "    <tr>\n",
       "      <th>10</th>\n",
       "      <td>2011-01-04</td>\n",
       "      <td>0.059958</td>\n",
       "      <td>0.059488</td>\n",
       "      <td>0.059491</td>\n",
       "      <td>0.050626</td>\n",
       "      <td>0.164317</td>\n",
       "      <td>AAPL</td>\n",
       "      <td>0.25</td>\n",
       "      <td>0.209699</td>\n",
       "      <td>0.213408</td>\n",
       "      <td>...</td>\n",
       "      <td>0.000000</td>\n",
       "      <td>0.0</td>\n",
       "      <td>0.000000</td>\n",
       "      <td>0.0</td>\n",
       "      <td>0.000000</td>\n",
       "      <td>0.000000</td>\n",
       "      <td>0.000000</td>\n",
       "      <td>0.0</td>\n",
       "      <td>0.0</td>\n",
       "      <td>0.000000</td>\n",
       "    </tr>\n",
       "    <tr>\n",
       "      <th>20</th>\n",
       "      <td>2011-01-05</td>\n",
       "      <td>0.059437</td>\n",
       "      <td>0.059817</td>\n",
       "      <td>0.059735</td>\n",
       "      <td>0.051040</td>\n",
       "      <td>0.135843</td>\n",
       "      <td>AAPL</td>\n",
       "      <td>0.50</td>\n",
       "      <td>0.215383</td>\n",
       "      <td>0.210015</td>\n",
       "      <td>...</td>\n",
       "      <td>0.000000</td>\n",
       "      <td>0.0</td>\n",
       "      <td>0.000000</td>\n",
       "      <td>0.0</td>\n",
       "      <td>0.000000</td>\n",
       "      <td>0.000000</td>\n",
       "      <td>0.000000</td>\n",
       "      <td>0.0</td>\n",
       "      <td>0.0</td>\n",
       "      <td>0.000000</td>\n",
       "    </tr>\n",
       "    <tr>\n",
       "      <th>30</th>\n",
       "      <td>2011-01-06</td>\n",
       "      <td>0.060369</td>\n",
       "      <td>0.059980</td>\n",
       "      <td>0.060352</td>\n",
       "      <td>0.050999</td>\n",
       "      <td>0.159718</td>\n",
       "      <td>AAPL</td>\n",
       "      <td>0.75</td>\n",
       "      <td>0.203168</td>\n",
       "      <td>0.205452</td>\n",
       "      <td>...</td>\n",
       "      <td>0.000000</td>\n",
       "      <td>0.0</td>\n",
       "      <td>0.000000</td>\n",
       "      <td>0.0</td>\n",
       "      <td>0.000000</td>\n",
       "      <td>0.000000</td>\n",
       "      <td>0.000000</td>\n",
       "      <td>0.0</td>\n",
       "      <td>0.0</td>\n",
       "      <td>0.000000</td>\n",
       "    </tr>\n",
       "    <tr>\n",
       "      <th>40</th>\n",
       "      <td>2011-01-07</td>\n",
       "      <td>0.060237</td>\n",
       "      <td>0.060177</td>\n",
       "      <td>0.060170</td>\n",
       "      <td>0.051364</td>\n",
       "      <td>0.165833</td>\n",
       "      <td>AAPL</td>\n",
       "      <td>1.00</td>\n",
       "      <td>0.209336</td>\n",
       "      <td>0.211419</td>\n",
       "      <td>...</td>\n",
       "      <td>0.000000</td>\n",
       "      <td>0.0</td>\n",
       "      <td>0.000000</td>\n",
       "      <td>0.0</td>\n",
       "      <td>0.000000</td>\n",
       "      <td>0.000000</td>\n",
       "      <td>0.000000</td>\n",
       "      <td>0.0</td>\n",
       "      <td>0.0</td>\n",
       "      <td>0.000000</td>\n",
       "    </tr>\n",
       "    <tr>\n",
       "      <th>...</th>\n",
       "      <td>...</td>\n",
       "      <td>...</td>\n",
       "      <td>...</td>\n",
       "      <td>...</td>\n",
       "      <td>...</td>\n",
       "      <td>...</td>\n",
       "      <td>...</td>\n",
       "      <td>...</td>\n",
       "      <td>...</td>\n",
       "      <td>...</td>\n",
       "      <td>...</td>\n",
       "      <td>...</td>\n",
       "      <td>...</td>\n",
       "      <td>...</td>\n",
       "      <td>...</td>\n",
       "      <td>...</td>\n",
       "      <td>...</td>\n",
       "      <td>...</td>\n",
       "      <td>...</td>\n",
       "      <td>...</td>\n",
       "      <td>...</td>\n",
       "    </tr>\n",
       "    <tr>\n",
       "      <th>32659</th>\n",
       "      <td>2023-12-22</td>\n",
       "      <td>0.852725</td>\n",
       "      <td>0.852858</td>\n",
       "      <td>0.861494</td>\n",
       "      <td>0.855590</td>\n",
       "      <td>0.152474</td>\n",
       "      <td>XOM</td>\n",
       "      <td>1.00</td>\n",
       "      <td>0.165921</td>\n",
       "      <td>0.163332</td>\n",
       "      <td>...</td>\n",
       "      <td>0.269648</td>\n",
       "      <td>0.0</td>\n",
       "      <td>0.223856</td>\n",
       "      <td>0.0</td>\n",
       "      <td>0.253363</td>\n",
       "      <td>0.963788</td>\n",
       "      <td>0.561798</td>\n",
       "      <td>0.0</td>\n",
       "      <td>0.0</td>\n",
       "      <td>0.807644</td>\n",
       "    </tr>\n",
       "    <tr>\n",
       "      <th>32669</th>\n",
       "      <td>2023-12-26</td>\n",
       "      <td>0.856309</td>\n",
       "      <td>0.853604</td>\n",
       "      <td>0.864032</td>\n",
       "      <td>0.857521</td>\n",
       "      <td>0.198649</td>\n",
       "      <td>XOM</td>\n",
       "      <td>0.25</td>\n",
       "      <td>0.166526</td>\n",
       "      <td>0.161460</td>\n",
       "      <td>...</td>\n",
       "      <td>0.269648</td>\n",
       "      <td>0.0</td>\n",
       "      <td>0.223856</td>\n",
       "      <td>0.0</td>\n",
       "      <td>0.253363</td>\n",
       "      <td>0.963788</td>\n",
       "      <td>0.561798</td>\n",
       "      <td>0.0</td>\n",
       "      <td>0.0</td>\n",
       "      <td>0.807644</td>\n",
       "    </tr>\n",
       "    <tr>\n",
       "      <th>32679</th>\n",
       "      <td>2023-12-27</td>\n",
       "      <td>0.850475</td>\n",
       "      <td>0.849627</td>\n",
       "      <td>0.857433</td>\n",
       "      <td>0.853491</td>\n",
       "      <td>0.171790</td>\n",
       "      <td>XOM</td>\n",
       "      <td>0.50</td>\n",
       "      <td>0.157456</td>\n",
       "      <td>0.152568</td>\n",
       "      <td>...</td>\n",
       "      <td>0.269648</td>\n",
       "      <td>0.0</td>\n",
       "      <td>0.223856</td>\n",
       "      <td>0.0</td>\n",
       "      <td>0.253363</td>\n",
       "      <td>0.963788</td>\n",
       "      <td>0.561798</td>\n",
       "      <td>0.0</td>\n",
       "      <td>0.0</td>\n",
       "      <td>0.807644</td>\n",
       "    </tr>\n",
       "    <tr>\n",
       "      <th>32689</th>\n",
       "      <td>2023-12-28</td>\n",
       "      <td>0.845057</td>\n",
       "      <td>0.841839</td>\n",
       "      <td>0.847195</td>\n",
       "      <td>0.841150</td>\n",
       "      <td>0.192681</td>\n",
       "      <td>XOM</td>\n",
       "      <td>0.75</td>\n",
       "      <td>0.150441</td>\n",
       "      <td>0.148005</td>\n",
       "      <td>...</td>\n",
       "      <td>0.269648</td>\n",
       "      <td>0.0</td>\n",
       "      <td>0.223856</td>\n",
       "      <td>0.0</td>\n",
       "      <td>0.253363</td>\n",
       "      <td>0.963788</td>\n",
       "      <td>0.561798</td>\n",
       "      <td>0.0</td>\n",
       "      <td>0.0</td>\n",
       "      <td>0.807644</td>\n",
       "    </tr>\n",
       "    <tr>\n",
       "      <th>32699</th>\n",
       "      <td>2023-12-29</td>\n",
       "      <td>0.836556</td>\n",
       "      <td>0.833389</td>\n",
       "      <td>0.842880</td>\n",
       "      <td>0.839387</td>\n",
       "      <td>0.209343</td>\n",
       "      <td>XOM</td>\n",
       "      <td>1.00</td>\n",
       "      <td>0.151772</td>\n",
       "      <td>0.154323</td>\n",
       "      <td>...</td>\n",
       "      <td>0.269648</td>\n",
       "      <td>0.0</td>\n",
       "      <td>0.223856</td>\n",
       "      <td>0.0</td>\n",
       "      <td>0.253363</td>\n",
       "      <td>0.963788</td>\n",
       "      <td>0.561798</td>\n",
       "      <td>0.0</td>\n",
       "      <td>0.0</td>\n",
       "      <td>0.807644</td>\n",
       "    </tr>\n",
       "  </tbody>\n",
       "</table>\n",
       "<p>32700 rows × 52 columns</p>\n",
       "</div>"
      ],
      "text/plain": [
       "             date      open      high       low     close    volume   tic  \\\n",
       "0      2011-01-03  0.058731  0.059087  0.058891  0.050363  0.236650  AAPL   \n",
       "10     2011-01-04  0.059958  0.059488  0.059491  0.050626  0.164317  AAPL   \n",
       "20     2011-01-05  0.059437  0.059817  0.059735  0.051040  0.135843  AAPL   \n",
       "30     2011-01-06  0.060369  0.059980  0.060352  0.050999  0.159718  AAPL   \n",
       "40     2011-01-07  0.060237  0.060177  0.060170  0.051364  0.165833  AAPL   \n",
       "...           ...       ...       ...       ...       ...       ...   ...   \n",
       "32659  2023-12-22  0.852725  0.852858  0.861494  0.855590  0.152474   XOM   \n",
       "32669  2023-12-26  0.856309  0.853604  0.864032  0.857521  0.198649   XOM   \n",
       "32679  2023-12-27  0.850475  0.849627  0.857433  0.853491  0.171790   XOM   \n",
       "32689  2023-12-28  0.845057  0.841839  0.847195  0.841150  0.192681   XOM   \n",
       "32699  2023-12-29  0.836556  0.833389  0.842880  0.839387  0.209343   XOM   \n",
       "\n",
       "        day  Open_VIX  High_VIX  ...  Price to Book Ratio  Net EPS  PE Ratio  \\\n",
       "0      0.00  0.216955  0.210015  ...             0.000000      0.0  0.000000   \n",
       "10     0.25  0.209699  0.213408  ...             0.000000      0.0  0.000000   \n",
       "20     0.50  0.215383  0.210015  ...             0.000000      0.0  0.000000   \n",
       "30     0.75  0.203168  0.205452  ...             0.000000      0.0  0.000000   \n",
       "40     1.00  0.209336  0.211419  ...             0.000000      0.0  0.000000   \n",
       "...     ...       ...       ...  ...                  ...      ...       ...   \n",
       "32659  1.00  0.165921  0.163332  ...             0.269648      0.0  0.223856   \n",
       "32669  0.25  0.166526  0.161460  ...             0.269648      0.0  0.223856   \n",
       "32679  0.50  0.157456  0.152568  ...             0.269648      0.0  0.223856   \n",
       "32689  0.75  0.150441  0.148005  ...             0.269648      0.0  0.223856   \n",
       "32699  1.00  0.151772  0.154323  ...             0.269648      0.0  0.223856   \n",
       "\n",
       "       TTM Sales per Share  Price to Sales Ratio    Assets  NetIncomeLoss  \\\n",
       "0                      0.0              0.000000  0.000000       0.000000   \n",
       "10                     0.0              0.000000  0.000000       0.000000   \n",
       "20                     0.0              0.000000  0.000000       0.000000   \n",
       "30                     0.0              0.000000  0.000000       0.000000   \n",
       "40                     0.0              0.000000  0.000000       0.000000   \n",
       "...                    ...                   ...       ...            ...   \n",
       "32659                  0.0              0.253363  0.963788       0.561798   \n",
       "32669                  0.0              0.253363  0.963788       0.561798   \n",
       "32679                  0.0              0.253363  0.963788       0.561798   \n",
       "32689                  0.0              0.253363  0.963788       0.561798   \n",
       "32699                  0.0              0.253363  0.963788       0.561798   \n",
       "\n",
       "       TTM Net Income (Billions)  Shareholder's Equity (Billion)  \\\n",
       "0                            0.0                             0.0   \n",
       "10                           0.0                             0.0   \n",
       "20                           0.0                             0.0   \n",
       "30                           0.0                             0.0   \n",
       "40                           0.0                             0.0   \n",
       "...                          ...                             ...   \n",
       "32659                        0.0                             0.0   \n",
       "32669                        0.0                             0.0   \n",
       "32679                        0.0                             0.0   \n",
       "32689                        0.0                             0.0   \n",
       "32699                        0.0                             0.0   \n",
       "\n",
       "       Return on Equity(%)  \n",
       "0                 0.000000  \n",
       "10                0.000000  \n",
       "20                0.000000  \n",
       "30                0.000000  \n",
       "40                0.000000  \n",
       "...                    ...  \n",
       "32659             0.807644  \n",
       "32669             0.807644  \n",
       "32679             0.807644  \n",
       "32689             0.807644  \n",
       "32699             0.807644  \n",
       "\n",
       "[32700 rows x 52 columns]"
      ]
     },
     "execution_count": 11,
     "metadata": {},
     "output_type": "execute_result"
    }
   ],
   "source": [
    "portfolio_norm_df = GroupByScaler(by=\"tic\", scaler=MaxAbsScaler).fit_transform(df_portfolio_final)\n",
    "portfolio_norm_df"
   ]
  },
  {
   "cell_type": "code",
   "execution_count": 12,
   "metadata": {},
   "outputs": [],
   "source": [
    "df_portfolio = portfolio_norm_df[[\"date\", \n",
    "                                  \"tic\", \n",
    "                                  \"close\",\n",
    "                                  \"high\", \n",
    "                                  \"low\",\n",
    "                                  'High_VIX',\n",
    "                                  'Low_VIX',\n",
    "                                  'Close_VIX',\n",
    "                                  'High_SPY',\n",
    "                                  'Low_SPY',\n",
    "                                  'Close_SPY',\n",
    "                                  'Volume_SPY',\n",
    "                                  'Fear Greed', \n",
    "                                  'ratingScore',\n",
    "                                  'ratingDetailsDCFScore',\n",
    "                                  'ratingDetailsROEScore',\n",
    "                                  'ratingDetailsROAScore',\n",
    "                                  'ratingDetailsPEScore',\n",
    "                                  'ratingDetailsPBScore',\n",
    "                                  'expenses',\n",
    "                                  'GDP', \n",
    "                                  'exports', \n",
    "                                  'imports',\n",
    "                                  'pound_dollar_exchange_rate', \n",
    "                                  'unemployment',\n",
    "                                  'ics',\n",
    "                                  'TTM Revenue(Billion)',\n",
    "                                  'TTM EBITDA(Billion)',\n",
    "                                  'EBITDA Margin',\n",
    "                                  'Price to Book Ratio',\n",
    "                                  'PE Ratio',\n",
    "                                  'Price to Sales Ratio',\n",
    "                                  'Assets',\n",
    "                                  'NetIncomeLoss',\n",
    "                                  'Return on Equity(%)']]"
   ]
  },
  {
   "cell_type": "code",
   "execution_count": 13,
   "metadata": {},
   "outputs": [],
   "source": [
    "df_portfolio_train = df_portfolio[(df_portfolio[\"date\"] >= START_DATE) & (df_portfolio[\"date\"] < \"2020-12-31\")]\n",
    "df_portfolio_2021 = df_portfolio[(df_portfolio[\"date\"] >= \"2021-01-01\") & (df_portfolio[\"date\"] < \"2021-12-31\")]\n",
    "df_portfolio_2022 = df_portfolio[(df_portfolio[\"date\"] >= \"2022-01-01\") & (df_portfolio[\"date\"] < \"2022-12-31\")]\n",
    "df_portfolio_2023 = df_portfolio[(df_portfolio[\"date\"] >= \"2023-01-01\") & (df_portfolio[\"date\"] < END_DATE)]"
   ]
  },
  {
   "cell_type": "markdown",
   "metadata": {},
   "source": [
    "# Feature Selection and DRL Model Parameters"
   ]
  },
  {
   "cell_type": "code",
   "execution_count": 19,
   "metadata": {},
   "outputs": [],
   "source": [
    "import pandas as pd\n",
    "from itertools import product\n",
    "import numpy as np  # for NaN\n",
    "import torch\n",
    "\n",
    "FEATURE_NAMES = [\"close\",\n",
    "                  #\"high\", \n",
    "                  #\"low\",\n",
    "                  #'High_VIX',\n",
    "                  #'Low_VIX',\n",
    "                  #'Close_VIX',\n",
    "                  'High_SPY',\n",
    "                  #'Low_SPY',\n",
    "                  'Close_SPY',\n",
    "                  #'Volume_SPY',\n",
    "                  'Fear Greed', \n",
    "                  'ratingScore',\n",
    "                  #'ratingDetailsDCFScore',\n",
    "                  #'ratingDetailsROEScore',\n",
    "                  #'ratingDetailsROAScore',\n",
    "                  #'ratingDetailsPEScore',\n",
    "                  #'ratingDetailsPBScore',\n",
    "                  #'expenses',\n",
    "                  #'GDP', \n",
    "                  #'exports', \n",
    "                  #'imports',\n",
    "                  'pound_dollar_exchange_rate', \n",
    "                  'unemployment',\n",
    "                  #'ics',\n",
    "                  #'TTM Revenue(Billion)',\n",
    "                  #'TTM EBITDA(Billion)',\n",
    "                  'EBITDA Margin',\n",
    "                  'Price to Book Ratio',\n",
    "                  'PE Ratio',\n",
    "                  #'Price to Sales Ratio',\n",
    "                  #'Assets',\n",
    "                  #'NetIncomeLoss',\n",
    "                  'Return on Equity(%)']\n",
    "\n",
    "COMISSION_FEE = 0.0025\n",
    "\n",
    "# Define hyperparameter ranges\n",
    "time_windows = [10, 25]\n",
    "k_sizes = [3,4,5]\n",
    "conv_mids = [5,10]\n",
    "conv_finals = [5,10,20]\n",
    "\n",
    "# Function to calculate the final accumulative portfolio value\n",
    "def calculate_cumulative_value(portfolio_values):\n",
    "    initial_value = portfolio_values[0]\n",
    "    final_value = portfolio_values[-1]\n",
    "    return final_value / initial_value\n",
    "\n",
    "# Function to calculate the maximum drawdown\n",
    "def calculate_max_drawdown(portfolio_values):\n",
    "    portfolio_values = np.array(portfolio_values)\n",
    "    running_max = np.maximum.accumulate(portfolio_values)\n",
    "    drawdowns = (portfolio_values - running_max) / running_max\n",
    "    max_drawdown = drawdowns.min()\n",
    "    \n",
    "    return max_drawdown\n",
    "\n",
    "# Function to calculate the Sharpe ratio\n",
    "def calculate_sharpe_ratio(portfolio_values, risk_free_rate=0):\n",
    "    returns = np.diff(portfolio_values) / portfolio_values[:-1]\n",
    "    excess_returns = returns - risk_free_rate\n",
    "    sharpe_ratio = np.mean(excess_returns) / np.std(excess_returns)\n",
    "    sharpe_ratio_annualized = sharpe_ratio * np.sqrt(252)\n",
    "    \n",
    "    return sharpe_ratio_annualized\n",
    "\n",
    "\n",
    "# Define a function to calculate the metrics (this is just a placeholder; replace with actual functions)\n",
    "def calculate_metrics(environment):\n",
    "    final_portfolio_value = environment._asset_memory[\"final\"][-1]\n",
    "    max_drawdown = calculate_max_drawdown(environment._asset_memory[\"final\"])\n",
    "    sharpe_ratio = calculate_sharpe_ratio(environment._asset_memory[\"final\"])\n",
    "    cumulative_value = calculate_cumulative_value(environment._asset_memory[\"final\"])\n",
    "    return final_portfolio_value, max_drawdown, sharpe_ratio, cumulative_value\n",
    "\n",
    "# DataFrame to store results\n",
    "columns = [\"TIME_WINDOW\", \"K_SIZE\", \"CONV_MID\", \"CONV_FINAL\", \n",
    "        'train_portfolio_value', '2021_portfolio_value', '2022_portfolio_value', '2023_portfolio_value',\n",
    "        'train_drawdown', '2021_drawdown', '2022_drawdown', '2023_drawdown',\n",
    "        'train_sharpe', '2021_sharpe', '2022_sharpe', '2023_sharpe',\n",
    "        'train_cumulative', '2021_cumulative', '2022_cumulative', '2023_cumulative']\n",
    "\n",
    "results_df2 = pd.read_csv('results_df.csv')"
   ]
  },
  {
   "cell_type": "code",
   "execution_count": 21,
   "metadata": {},
   "outputs": [
    {
     "name": "stderr",
     "output_type": "stream",
     "text": [
      "\r",
      "  0%|                                                                                           | 0/10 [00:00<?, ?it/s]"
     ]
    },
    {
     "name": "stdout",
     "output_type": "stream",
     "text": [
      "=================================\n",
      "Initial portfolio value:100000\n",
      "Final portfolio value: 359889.59375\n",
      "Final accumulative portfolio value: 3.5988959375\n",
      "Maximum DrawDown: -0.3297335084334768\n",
      "Sharpe ratio: 0.8373872236486734\n",
      "=================================\n"
     ]
    },
    {
     "name": "stderr",
     "output_type": "stream",
     "text": [
      "\r",
      " 10%|████████▎                                                                          | 1/10 [01:16<11:24, 76.02s/it]"
     ]
    },
    {
     "name": "stdout",
     "output_type": "stream",
     "text": [
      "=================================\n",
      "Initial portfolio value:100000\n",
      "Final portfolio value: 493240.0\n",
      "Final accumulative portfolio value: 4.9324\n",
      "Maximum DrawDown: -0.3100639104124727\n",
      "Sharpe ratio: 0.9629930243496052\n",
      "=================================\n"
     ]
    },
    {
     "name": "stderr",
     "output_type": "stream",
     "text": [
      "\r",
      " 20%|████████████████▌                                                                  | 2/10 [02:33<10:15, 76.94s/it]"
     ]
    },
    {
     "name": "stdout",
     "output_type": "stream",
     "text": [
      "=================================\n",
      "Initial portfolio value:100000\n",
      "Final portfolio value: 688958.4375\n",
      "Final accumulative portfolio value: 6.889584375\n",
      "Maximum DrawDown: -0.3149202581312971\n",
      "Sharpe ratio: 1.071569197010763\n",
      "=================================\n"
     ]
    },
    {
     "name": "stderr",
     "output_type": "stream",
     "text": [
      "\r",
      " 30%|████████████████████████▉                                                          | 3/10 [03:53<09:07, 78.27s/it]"
     ]
    },
    {
     "name": "stdout",
     "output_type": "stream",
     "text": [
      "=================================\n",
      "Initial portfolio value:100000\n",
      "Final portfolio value: 978378.5\n",
      "Final accumulative portfolio value: 9.783785\n",
      "Maximum DrawDown: -0.3350772177160115\n",
      "Sharpe ratio: 1.1581279548325185\n",
      "=================================\n"
     ]
    },
    {
     "name": "stderr",
     "output_type": "stream",
     "text": [
      "\r",
      " 40%|█████████████████████████████████▏                                                 | 4/10 [05:13<07:54, 79.10s/it]"
     ]
    },
    {
     "name": "stdout",
     "output_type": "stream",
     "text": [
      "=================================\n",
      "Initial portfolio value:100000\n",
      "Final portfolio value: 1407865.625\n",
      "Final accumulative portfolio value: 14.07865625\n",
      "Maximum DrawDown: -0.32186407379147564\n",
      "Sharpe ratio: 1.2386970625241662\n",
      "=================================\n"
     ]
    },
    {
     "name": "stderr",
     "output_type": "stream",
     "text": [
      "\r",
      " 50%|█████████████████████████████████████████▌                                         | 5/10 [06:24<06:20, 76.09s/it]"
     ]
    },
    {
     "name": "stdout",
     "output_type": "stream",
     "text": [
      "=================================\n",
      "Initial portfolio value:100000\n",
      "Final portfolio value: 1798465.75\n",
      "Final accumulative portfolio value: 17.9846575\n",
      "Maximum DrawDown: -0.3152232245534231\n",
      "Sharpe ratio: 1.3033045354529813\n",
      "=================================\n"
     ]
    },
    {
     "name": "stderr",
     "output_type": "stream",
     "text": [
      "\r",
      " 60%|█████████████████████████████████████████████████▊                                 | 6/10 [07:33<04:55, 73.77s/it]"
     ]
    },
    {
     "name": "stdout",
     "output_type": "stream",
     "text": [
      "=================================\n",
      "Initial portfolio value:100000\n",
      "Final portfolio value: 2031046.25\n",
      "Final accumulative portfolio value: 20.3104625\n",
      "Maximum DrawDown: -0.31444762549912997\n",
      "Sharpe ratio: 1.3185857230232083\n",
      "=================================\n"
     ]
    },
    {
     "name": "stderr",
     "output_type": "stream",
     "text": [
      "\r",
      " 70%|██████████████████████████████████████████████████████████                         | 7/10 [08:44<03:38, 72.90s/it]"
     ]
    },
    {
     "name": "stdout",
     "output_type": "stream",
     "text": [
      "=================================\n",
      "Initial portfolio value:100000\n",
      "Final portfolio value: 2194400.0\n",
      "Final accumulative portfolio value: 21.944\n",
      "Maximum DrawDown: -0.3143651647009077\n",
      "Sharpe ratio: 1.3274758324057732\n",
      "=================================\n"
     ]
    },
    {
     "name": "stderr",
     "output_type": "stream",
     "text": [
      "\r",
      " 80%|██████████████████████████████████████████████████████████████████▍                | 8/10 [09:56<02:25, 72.61s/it]"
     ]
    },
    {
     "name": "stdout",
     "output_type": "stream",
     "text": [
      "=================================\n",
      "Initial portfolio value:100000\n",
      "Final portfolio value: 2409448.0\n",
      "Final accumulative portfolio value: 24.09448\n",
      "Maximum DrawDown: -0.3143266594516443\n",
      "Sharpe ratio: 1.3559750783239901\n",
      "=================================\n"
     ]
    },
    {
     "name": "stderr",
     "output_type": "stream",
     "text": [
      "\r",
      " 90%|██████████████████████████████████████████████████████████████████████████▋        | 9/10 [11:08<01:12, 72.15s/it]"
     ]
    },
    {
     "name": "stdout",
     "output_type": "stream",
     "text": [
      "=================================\n",
      "Initial portfolio value:100000\n",
      "Final portfolio value: 2754874.0\n",
      "Final accumulative portfolio value: 27.54874\n",
      "Maximum DrawDown: -0.31429239924932684\n",
      "Sharpe ratio: 1.3978225966821638\n",
      "=================================\n"
     ]
    },
    {
     "name": "stderr",
     "output_type": "stream",
     "text": [
      "100%|██████████████████████████████████████████████████████████████████████████████████| 10/10 [12:20<00:00, 74.08s/it]\n"
     ]
    },
    {
     "name": "stdout",
     "output_type": "stream",
     "text": [
      "=================================\n",
      "Initial portfolio value:100000\n",
      "Final portfolio value: 368902.8125\n",
      "Final accumulative portfolio value: 3.689028125\n",
      "Maximum DrawDown: -0.29710966274083406\n",
      "Sharpe ratio: 0.8222609404175735\n",
      "=================================\n",
      "=================================\n",
      "Initial portfolio value:100000\n",
      "Final portfolio value: 134762.21875\n",
      "Final accumulative portfolio value: 1.3476221875\n",
      "Maximum DrawDown: -0.04219524373454808\n",
      "Sharpe ratio: 2.7628931829936447\n",
      "=================================\n",
      "=================================\n",
      "Initial portfolio value:100000\n",
      "Final portfolio value: 98734.8828125\n",
      "Final accumulative portfolio value: 0.987348828125\n",
      "Maximum DrawDown: -0.14075514561188907\n",
      "Sharpe ratio: 0.019842299125944277\n",
      "=================================\n",
      "=================================\n",
      "Initial portfolio value:100000\n",
      "Final portfolio value: 109273.8671875\n",
      "Final accumulative portfolio value: 1.092738671875\n",
      "Maximum DrawDown: -0.09089059650045928\n",
      "Sharpe ratio: 0.9149839886488094\n",
      "=================================\n"
     ]
    },
    {
     "name": "stderr",
     "output_type": "stream",
     "text": [
      "\r",
      "  0%|                                                                                           | 0/10 [00:00<?, ?it/s]"
     ]
    },
    {
     "name": "stdout",
     "output_type": "stream",
     "text": [
      "=================================\n",
      "Initial portfolio value:100000\n",
      "Final portfolio value: 324614.875\n",
      "Final accumulative portfolio value: 3.24614875\n",
      "Maximum DrawDown: -0.3282275084827415\n",
      "Sharpe ratio: 0.8012781418793119\n",
      "=================================\n"
     ]
    },
    {
     "name": "stderr",
     "output_type": "stream",
     "text": [
      "\r",
      " 10%|████████▎                                                                          | 1/10 [01:09<10:25, 69.47s/it]"
     ]
    },
    {
     "name": "stdout",
     "output_type": "stream",
     "text": [
      "=================================\n",
      "Initial portfolio value:100000\n",
      "Final portfolio value: 381928.375\n",
      "Final accumulative portfolio value: 3.81928375\n",
      "Maximum DrawDown: -0.32759026507369604\n",
      "Sharpe ratio: 0.8567149050259757\n",
      "=================================\n"
     ]
    },
    {
     "name": "stderr",
     "output_type": "stream",
     "text": [
      "\r",
      " 20%|████████████████▌                                                                  | 2/10 [02:20<09:23, 70.40s/it]"
     ]
    },
    {
     "name": "stdout",
     "output_type": "stream",
     "text": [
      "=================================\n",
      "Initial portfolio value:100000\n",
      "Final portfolio value: 515070.46875\n",
      "Final accumulative portfolio value: 5.1507046875\n",
      "Maximum DrawDown: -0.3083299062246867\n",
      "Sharpe ratio: 0.9777085600025978\n",
      "=================================\n"
     ]
    },
    {
     "name": "stderr",
     "output_type": "stream",
     "text": [
      "\r",
      " 30%|████████████████████████▉                                                          | 3/10 [03:31<08:14, 70.61s/it]"
     ]
    },
    {
     "name": "stdout",
     "output_type": "stream",
     "text": [
      "=================================\n",
      "Initial portfolio value:100000\n",
      "Final portfolio value: 688289.3125\n",
      "Final accumulative portfolio value: 6.882893125\n",
      "Maximum DrawDown: -0.30997528496769067\n",
      "Sharpe ratio: 1.0635240162988853\n",
      "=================================\n"
     ]
    },
    {
     "name": "stderr",
     "output_type": "stream",
     "text": [
      "\r",
      " 40%|█████████████████████████████████▏                                                 | 4/10 [04:42<07:05, 70.99s/it]"
     ]
    },
    {
     "name": "stdout",
     "output_type": "stream",
     "text": [
      "=================================\n",
      "Initial portfolio value:100000\n",
      "Final portfolio value: 885707.5\n",
      "Final accumulative portfolio value: 8.857075\n",
      "Maximum DrawDown: -0.3233161832902911\n",
      "Sharpe ratio: 1.1223925630770115\n",
      "=================================\n"
     ]
    },
    {
     "name": "stderr",
     "output_type": "stream",
     "text": [
      "\r",
      " 50%|█████████████████████████████████████████▌                                         | 5/10 [05:54<05:55, 71.15s/it]"
     ]
    },
    {
     "name": "stdout",
     "output_type": "stream",
     "text": [
      "=================================\n",
      "Initial portfolio value:100000\n",
      "Final portfolio value: 1081006.5\n",
      "Final accumulative portfolio value: 10.810065\n",
      "Maximum DrawDown: -0.3444534935160132\n",
      "Sharpe ratio: 1.1286536995715617\n",
      "=================================\n"
     ]
    },
    {
     "name": "stderr",
     "output_type": "stream",
     "text": [
      "\r",
      " 60%|█████████████████████████████████████████████████▊                                 | 6/10 [07:04<04:43, 70.92s/it]"
     ]
    },
    {
     "name": "stdout",
     "output_type": "stream",
     "text": [
      "=================================\n",
      "Initial portfolio value:100000\n",
      "Final portfolio value: 1292961.625\n",
      "Final accumulative portfolio value: 12.92961625\n",
      "Maximum DrawDown: -0.3262997522526174\n",
      "Sharpe ratio: 1.1720396310935135\n",
      "=================================\n"
     ]
    },
    {
     "name": "stderr",
     "output_type": "stream",
     "text": [
      "\r",
      " 70%|██████████████████████████████████████████████████████████                         | 7/10 [08:15<03:32, 70.73s/it]"
     ]
    },
    {
     "name": "stdout",
     "output_type": "stream",
     "text": [
      "=================================\n",
      "Initial portfolio value:100000\n",
      "Final portfolio value: 1440131.75\n",
      "Final accumulative portfolio value: 14.4013175\n",
      "Maximum DrawDown: -0.34748695121772044\n",
      "Sharpe ratio: 1.182342646245098\n",
      "=================================\n"
     ]
    },
    {
     "name": "stderr",
     "output_type": "stream",
     "text": [
      "\r",
      " 80%|██████████████████████████████████████████████████████████████████▍                | 8/10 [09:26<02:21, 71.00s/it]"
     ]
    },
    {
     "name": "stdout",
     "output_type": "stream",
     "text": [
      "=================================\n",
      "Initial portfolio value:100000\n",
      "Final portfolio value: 1533503.5\n",
      "Final accumulative portfolio value: 15.335035\n",
      "Maximum DrawDown: -0.3533500448697763\n",
      "Sharpe ratio: 1.1909331035800619\n",
      "=================================\n"
     ]
    },
    {
     "name": "stderr",
     "output_type": "stream",
     "text": [
      "\r",
      " 90%|██████████████████████████████████████████████████████████████████████████▋        | 9/10 [10:37<01:10, 70.87s/it]"
     ]
    },
    {
     "name": "stdout",
     "output_type": "stream",
     "text": [
      "=================================\n",
      "Initial portfolio value:100000\n",
      "Final portfolio value: 1696501.0\n",
      "Final accumulative portfolio value: 16.96501\n",
      "Maximum DrawDown: -0.33947411841500086\n",
      "Sharpe ratio: 1.2233918882317663\n",
      "=================================\n"
     ]
    },
    {
     "name": "stderr",
     "output_type": "stream",
     "text": [
      "100%|██████████████████████████████████████████████████████████████████████████████████| 10/10 [11:47<00:00, 70.70s/it]\n"
     ]
    },
    {
     "name": "stdout",
     "output_type": "stream",
     "text": [
      "=================================\n",
      "Initial portfolio value:100000\n",
      "Final portfolio value: 346994.28125\n",
      "Final accumulative portfolio value: 3.4699428125\n",
      "Maximum DrawDown: -0.30282994675717334\n",
      "Sharpe ratio: 0.7875743719146716\n",
      "=================================\n",
      "=================================\n",
      "Initial portfolio value:100000\n",
      "Final portfolio value: 135048.90625\n",
      "Final accumulative portfolio value: 1.3504890625\n",
      "Maximum DrawDown: -0.04112945152025649\n",
      "Sharpe ratio: 2.7675346869399147\n",
      "=================================\n",
      "=================================\n",
      "Initial portfolio value:100000\n",
      "Final portfolio value: 98919.4921875\n",
      "Final accumulative portfolio value: 0.989194921875\n",
      "Maximum DrawDown: -0.14559408060983092\n",
      "Sharpe ratio: 0.03628219549662298\n",
      "=================================\n",
      "=================================\n",
      "Initial portfolio value:100000\n",
      "Final portfolio value: 109499.328125\n",
      "Final accumulative portfolio value: 1.09499328125\n",
      "Maximum DrawDown: -0.09217366113192971\n",
      "Sharpe ratio: 0.9144906514679798\n",
      "=================================\n"
     ]
    },
    {
     "name": "stderr",
     "output_type": "stream",
     "text": [
      "\r",
      "  0%|                                                                                           | 0/10 [00:00<?, ?it/s]"
     ]
    },
    {
     "name": "stdout",
     "output_type": "stream",
     "text": [
      "=================================\n",
      "Initial portfolio value:100000\n",
      "Final portfolio value: 355593.03125\n",
      "Final accumulative portfolio value: 3.5559303125\n",
      "Maximum DrawDown: -0.3384787003936759\n",
      "Sharpe ratio: 0.8233319199782666\n",
      "=================================\n"
     ]
    },
    {
     "name": "stderr",
     "output_type": "stream",
     "text": [
      "\r",
      " 10%|████████▎                                                                          | 1/10 [01:10<10:34, 70.52s/it]"
     ]
    },
    {
     "name": "stdout",
     "output_type": "stream",
     "text": [
      "=================================\n",
      "Initial portfolio value:100000\n",
      "Final portfolio value: 539252.8125\n",
      "Final accumulative portfolio value: 5.392528125\n",
      "Maximum DrawDown: -0.31082902101823995\n",
      "Sharpe ratio: 0.9799205588012043\n",
      "=================================\n"
     ]
    },
    {
     "name": "stderr",
     "output_type": "stream",
     "text": [
      "\r",
      " 20%|████████████████▌                                                                  | 2/10 [02:19<09:18, 69.77s/it]"
     ]
    },
    {
     "name": "stdout",
     "output_type": "stream",
     "text": [
      "=================================\n",
      "Initial portfolio value:100000\n",
      "Final portfolio value: 921432.375\n",
      "Final accumulative portfolio value: 9.21432375\n",
      "Maximum DrawDown: -0.3389904376169738\n",
      "Sharpe ratio: 1.1187212140400697\n",
      "=================================\n"
     ]
    },
    {
     "name": "stderr",
     "output_type": "stream",
     "text": [
      "\r",
      " 30%|████████████████████████▉                                                          | 3/10 [03:27<08:02, 68.99s/it]"
     ]
    },
    {
     "name": "stdout",
     "output_type": "stream",
     "text": [
      "=================================\n",
      "Initial portfolio value:100000\n",
      "Final portfolio value: 1500053.125\n",
      "Final accumulative portfolio value: 15.00053125\n",
      "Maximum DrawDown: -0.32116077590789527\n",
      "Sharpe ratio: 1.2150284351444127\n",
      "=================================\n"
     ]
    },
    {
     "name": "stderr",
     "output_type": "stream",
     "text": [
      "\r",
      " 40%|█████████████████████████████████▏                                                 | 4/10 [04:36<06:52, 68.79s/it]"
     ]
    },
    {
     "name": "stdout",
     "output_type": "stream",
     "text": [
      "=================================\n",
      "Initial portfolio value:100000\n",
      "Final portfolio value: 1656138.875\n",
      "Final accumulative portfolio value: 16.56138875\n",
      "Maximum DrawDown: -0.3242385604634841\n",
      "Sharpe ratio: 1.239916639017668\n",
      "=================================\n"
     ]
    },
    {
     "name": "stderr",
     "output_type": "stream",
     "text": [
      "\r",
      " 50%|█████████████████████████████████████████▌                                         | 5/10 [05:45<05:44, 68.93s/it]"
     ]
    },
    {
     "name": "stdout",
     "output_type": "stream",
     "text": [
      "=================================\n",
      "Initial portfolio value:100000\n",
      "Final portfolio value: 2298630.5\n",
      "Final accumulative portfolio value: 22.986305\n",
      "Maximum DrawDown: -0.31441702292245677\n",
      "Sharpe ratio: 1.343058665677064\n",
      "=================================\n"
     ]
    },
    {
     "name": "stderr",
     "output_type": "stream",
     "text": [
      "\r",
      " 60%|█████████████████████████████████████████████████▊                                 | 6/10 [06:54<04:35, 68.93s/it]"
     ]
    },
    {
     "name": "stdout",
     "output_type": "stream",
     "text": [
      "=================================\n",
      "Initial portfolio value:100000\n",
      "Final portfolio value: 2221479.5\n",
      "Final accumulative portfolio value: 22.214795\n",
      "Maximum DrawDown: -0.31427358176633746\n",
      "Sharpe ratio: 1.3048849255088653\n",
      "=================================\n"
     ]
    },
    {
     "name": "stderr",
     "output_type": "stream",
     "text": [
      "\r",
      " 70%|██████████████████████████████████████████████████████████                         | 7/10 [08:03<03:26, 68.89s/it]"
     ]
    },
    {
     "name": "stdout",
     "output_type": "stream",
     "text": [
      "=================================\n",
      "Initial portfolio value:100000\n",
      "Final portfolio value: 2266499.0\n",
      "Final accumulative portfolio value: 22.66499\n",
      "Maximum DrawDown: -0.3142741431529533\n",
      "Sharpe ratio: 1.3240901011150343\n",
      "=================================\n"
     ]
    },
    {
     "name": "stderr",
     "output_type": "stream",
     "text": [
      "\r",
      " 80%|██████████████████████████████████████████████████████████████████▍                | 8/10 [09:11<02:17, 68.79s/it]"
     ]
    },
    {
     "name": "stdout",
     "output_type": "stream",
     "text": [
      "=================================\n",
      "Initial portfolio value:100000\n",
      "Final portfolio value: 2407488.0\n",
      "Final accumulative portfolio value: 24.07488\n",
      "Maximum DrawDown: -0.31427379752713414\n",
      "Sharpe ratio: 1.3237168903039214\n",
      "=================================\n"
     ]
    },
    {
     "name": "stderr",
     "output_type": "stream",
     "text": [
      "\r",
      " 90%|██████████████████████████████████████████████████████████████████████████▋        | 9/10 [10:20<01:08, 68.75s/it]"
     ]
    },
    {
     "name": "stdout",
     "output_type": "stream",
     "text": [
      "=================================\n",
      "Initial portfolio value:100000\n",
      "Final portfolio value: 2799089.0\n",
      "Final accumulative portfolio value: 27.99089\n",
      "Maximum DrawDown: -0.3142734240874371\n",
      "Sharpe ratio: 1.388536981783183\n",
      "=================================\n"
     ]
    },
    {
     "name": "stderr",
     "output_type": "stream",
     "text": [
      "100%|██████████████████████████████████████████████████████████████████████████████████| 10/10 [11:29<00:00, 68.92s/it]\n"
     ]
    },
    {
     "name": "stdout",
     "output_type": "stream",
     "text": [
      "=================================\n",
      "Initial portfolio value:100000\n",
      "Final portfolio value: 355158.65625\n",
      "Final accumulative portfolio value: 3.5515865625\n",
      "Maximum DrawDown: -0.30528025988682306\n",
      "Sharpe ratio: 0.7572333513415426\n",
      "=================================\n",
      "=================================\n",
      "Initial portfolio value:100000\n",
      "Final portfolio value: 134991.34375\n",
      "Final accumulative portfolio value: 1.3499134375\n",
      "Maximum DrawDown: -0.04126080833224155\n",
      "Sharpe ratio: 2.754467868788231\n",
      "=================================\n",
      "=================================\n",
      "Initial portfolio value:100000\n",
      "Final portfolio value: 98550.25\n",
      "Final accumulative portfolio value: 0.9855025\n",
      "Maximum DrawDown: -0.1457042919454482\n",
      "Sharpe ratio: 0.01576270386908462\n",
      "=================================\n",
      "=================================\n",
      "Initial portfolio value:100000\n",
      "Final portfolio value: 109244.875\n",
      "Final accumulative portfolio value: 1.09244875\n",
      "Maximum DrawDown: -0.09165610496321142\n",
      "Sharpe ratio: 0.89642810026123\n",
      "=================================\n"
     ]
    },
    {
     "name": "stderr",
     "output_type": "stream",
     "text": [
      "\r",
      "  0%|                                                                                           | 0/10 [00:00<?, ?it/s]"
     ]
    },
    {
     "name": "stdout",
     "output_type": "stream",
     "text": [
      "=================================\n",
      "Initial portfolio value:100000\n",
      "Final portfolio value: 334203.90625\n",
      "Final accumulative portfolio value: 3.3420390625\n",
      "Maximum DrawDown: -0.3347690104843071\n",
      "Sharpe ratio: 0.8010537911874789\n",
      "=================================\n"
     ]
    },
    {
     "name": "stderr",
     "output_type": "stream",
     "text": [
      "\r",
      " 10%|████████▎                                                                          | 1/10 [01:10<10:32, 70.24s/it]"
     ]
    },
    {
     "name": "stdout",
     "output_type": "stream",
     "text": [
      "=================================\n",
      "Initial portfolio value:100000\n",
      "Final portfolio value: 338483.25\n",
      "Final accumulative portfolio value: 3.3848325\n",
      "Maximum DrawDown: -0.33736850103106497\n",
      "Sharpe ratio: 0.8019403500681878\n",
      "=================================\n"
     ]
    },
    {
     "name": "stderr",
     "output_type": "stream",
     "text": [
      "\r",
      " 20%|████████████████▌                                                                  | 2/10 [02:20<09:22, 70.34s/it]"
     ]
    },
    {
     "name": "stdout",
     "output_type": "stream",
     "text": [
      "=================================\n",
      "Initial portfolio value:100000\n",
      "Final portfolio value: 341322.53125\n",
      "Final accumulative portfolio value: 3.4132253125\n",
      "Maximum DrawDown: -0.3394622923262519\n",
      "Sharpe ratio: 0.8020516465043172\n",
      "=================================\n"
     ]
    },
    {
     "name": "stderr",
     "output_type": "stream",
     "text": [
      "\r",
      " 30%|████████████████████████▉                                                          | 3/10 [03:31<08:12, 70.35s/it]"
     ]
    },
    {
     "name": "stdout",
     "output_type": "stream",
     "text": [
      "=================================\n",
      "Initial portfolio value:100000\n",
      "Final portfolio value: 343641.125\n",
      "Final accumulative portfolio value: 3.43641125\n",
      "Maximum DrawDown: -0.34116479221230533\n",
      "Sharpe ratio: 0.80214755669236\n",
      "=================================\n"
     ]
    },
    {
     "name": "stderr",
     "output_type": "stream",
     "text": [
      "\r",
      " 40%|█████████████████████████████████▏                                                 | 4/10 [04:40<07:01, 70.19s/it]"
     ]
    },
    {
     "name": "stdout",
     "output_type": "stream",
     "text": [
      "=================================\n",
      "Initial portfolio value:100000\n",
      "Final portfolio value: 345547.3125\n",
      "Final accumulative portfolio value: 3.455473125\n",
      "Maximum DrawDown: -0.34256364157864294\n",
      "Sharpe ratio: 0.802216855720226\n",
      "=================================\n"
     ]
    },
    {
     "name": "stderr",
     "output_type": "stream",
     "text": [
      "\r",
      " 50%|█████████████████████████████████████████▌                                         | 5/10 [05:50<05:49, 69.96s/it]"
     ]
    },
    {
     "name": "stdout",
     "output_type": "stream",
     "text": [
      "=================================\n",
      "Initial portfolio value:100000\n",
      "Final portfolio value: 347142.3125\n",
      "Final accumulative portfolio value: 3.471423125\n",
      "Maximum DrawDown: -0.34372522548973494\n",
      "Sharpe ratio: 0.8022862577329296\n",
      "=================================\n"
     ]
    },
    {
     "name": "stderr",
     "output_type": "stream",
     "text": [
      "\r",
      " 60%|█████████████████████████████████████████████████▊                                 | 6/10 [07:00<04:40, 70.01s/it]"
     ]
    },
    {
     "name": "stdout",
     "output_type": "stream",
     "text": [
      "=================================\n",
      "Initial portfolio value:100000\n",
      "Final portfolio value: 348452.8125\n",
      "Final accumulative portfolio value: 3.484528125\n",
      "Maximum DrawDown: -0.3447031216285651\n",
      "Sharpe ratio: 0.8022935458727035\n",
      "=================================\n"
     ]
    },
    {
     "name": "stderr",
     "output_type": "stream",
     "text": [
      "\r",
      " 70%|██████████████████████████████████████████████████████████                         | 7/10 [08:11<03:30, 70.24s/it]"
     ]
    },
    {
     "name": "stdout",
     "output_type": "stream",
     "text": [
      "=================================\n",
      "Initial portfolio value:100000\n",
      "Final portfolio value: 349575.6875\n",
      "Final accumulative portfolio value: 3.495756875\n",
      "Maximum DrawDown: -0.3455326233159136\n",
      "Sharpe ratio: 0.8023164228483587\n",
      "=================================\n"
     ]
    },
    {
     "name": "stderr",
     "output_type": "stream",
     "text": [
      "\r",
      " 80%|██████████████████████████████████████████████████████████████████▍                | 8/10 [09:21<02:20, 70.16s/it]"
     ]
    },
    {
     "name": "stdout",
     "output_type": "stream",
     "text": [
      "=================================\n",
      "Initial portfolio value:100000\n",
      "Final portfolio value: 350559.9375\n",
      "Final accumulative portfolio value: 3.505599375\n",
      "Maximum DrawDown: -0.3462401072140219\n",
      "Sharpe ratio: 0.8023743213908909\n",
      "=================================\n"
     ]
    },
    {
     "name": "stderr",
     "output_type": "stream",
     "text": [
      "\r",
      " 90%|██████████████████████████████████████████████████████████████████████████▋        | 9/10 [10:30<01:09, 69.88s/it]"
     ]
    },
    {
     "name": "stdout",
     "output_type": "stream",
     "text": [
      "=================================\n",
      "Initial portfolio value:100000\n",
      "Final portfolio value: 351381.53125\n",
      "Final accumulative portfolio value: 3.5138153125\n",
      "Maximum DrawDown: -0.34685258097789273\n",
      "Sharpe ratio: 0.8023791909088135\n",
      "=================================\n"
     ]
    },
    {
     "name": "stderr",
     "output_type": "stream",
     "text": [
      "100%|██████████████████████████████████████████████████████████████████████████████████| 10/10 [11:41<00:00, 70.19s/it]\n"
     ]
    },
    {
     "name": "stdout",
     "output_type": "stream",
     "text": [
      "=================================\n",
      "Initial portfolio value:100000\n",
      "Final portfolio value: 308680.09375\n",
      "Final accumulative portfolio value: 3.0868009375\n",
      "Maximum DrawDown: -0.31016465097123436\n",
      "Sharpe ratio: 0.7332016335713595\n",
      "=================================\n",
      "=================================\n",
      "Initial portfolio value:100000\n",
      "Final portfolio value: 134006.59375\n",
      "Final accumulative portfolio value: 1.3400659375\n",
      "Maximum DrawDown: -0.042587477738621815\n",
      "Sharpe ratio: 2.7272175098001785\n",
      "=================================\n",
      "=================================\n",
      "Initial portfolio value:100000\n",
      "Final portfolio value: 98928.953125\n",
      "Final accumulative portfolio value: 0.98928953125\n",
      "Maximum DrawDown: -0.1319705244503051\n",
      "Sharpe ratio: 0.022555943680082072\n",
      "=================================\n",
      "=================================\n",
      "Initial portfolio value:100000\n",
      "Final portfolio value: 108770.5234375\n",
      "Final accumulative portfolio value: 1.087705234375\n",
      "Maximum DrawDown: -0.08762483847164348\n",
      "Sharpe ratio: 0.8916060640915698\n",
      "=================================\n"
     ]
    },
    {
     "name": "stderr",
     "output_type": "stream",
     "text": [
      "\r",
      "  0%|                                                                                           | 0/10 [00:00<?, ?it/s]"
     ]
    },
    {
     "name": "stdout",
     "output_type": "stream",
     "text": [
      "=================================\n",
      "Initial portfolio value:100000\n",
      "Final portfolio value: 347485.90625\n",
      "Final accumulative portfolio value: 3.4748590625\n",
      "Maximum DrawDown: -0.3397129314473898\n",
      "Sharpe ratio: 0.8130400966727455\n",
      "=================================\n"
     ]
    },
    {
     "name": "stderr",
     "output_type": "stream",
     "text": [
      "\r",
      " 10%|████████▎                                                                          | 1/10 [01:09<10:26, 69.57s/it]"
     ]
    },
    {
     "name": "stdout",
     "output_type": "stream",
     "text": [
      "=================================\n",
      "Initial portfolio value:100000\n",
      "Final portfolio value: 528628.3125\n",
      "Final accumulative portfolio value: 5.286283125\n",
      "Maximum DrawDown: -0.3174316165335265\n",
      "Sharpe ratio: 0.9704606197498397\n",
      "=================================\n"
     ]
    },
    {
     "name": "stderr",
     "output_type": "stream",
     "text": [
      "\r",
      " 20%|████████████████▌                                                                  | 2/10 [02:20<09:21, 70.24s/it]"
     ]
    },
    {
     "name": "stdout",
     "output_type": "stream",
     "text": [
      "=================================\n",
      "Initial portfolio value:100000\n",
      "Final portfolio value: 912299.5625\n",
      "Final accumulative portfolio value: 9.122995625\n",
      "Maximum DrawDown: -0.353178287145402\n",
      "Sharpe ratio: 1.081388995572458\n",
      "=================================\n"
     ]
    },
    {
     "name": "stderr",
     "output_type": "stream",
     "text": [
      "\r",
      " 30%|████████████████████████▉                                                          | 3/10 [03:29<08:08, 69.79s/it]"
     ]
    },
    {
     "name": "stdout",
     "output_type": "stream",
     "text": [
      "=================================\n",
      "Initial portfolio value:100000\n",
      "Final portfolio value: 1414979.75\n",
      "Final accumulative portfolio value: 14.1497975\n",
      "Maximum DrawDown: -0.3172455493593951\n",
      "Sharpe ratio: 1.1961319074774868\n",
      "=================================\n"
     ]
    },
    {
     "name": "stderr",
     "output_type": "stream",
     "text": [
      "\r",
      " 40%|█████████████████████████████████▏                                                 | 4/10 [04:39<06:58, 69.80s/it]"
     ]
    },
    {
     "name": "stdout",
     "output_type": "stream",
     "text": [
      "=================================\n",
      "Initial portfolio value:100000\n",
      "Final portfolio value: 1921310.25\n",
      "Final accumulative portfolio value: 19.2131025\n",
      "Maximum DrawDown: -0.31483218346147346\n",
      "Sharpe ratio: 1.2898801856175033\n",
      "=================================\n"
     ]
    },
    {
     "name": "stderr",
     "output_type": "stream",
     "text": [
      "\r",
      " 50%|█████████████████████████████████████████▌                                         | 5/10 [05:49<05:49, 69.83s/it]"
     ]
    },
    {
     "name": "stdout",
     "output_type": "stream",
     "text": [
      "=================================\n",
      "Initial portfolio value:100000\n",
      "Final portfolio value: 2463615.25\n",
      "Final accumulative portfolio value: 24.6361525\n",
      "Maximum DrawDown: -0.31432013797118585\n",
      "Sharpe ratio: 1.3660077943114415\n",
      "=================================\n"
     ]
    },
    {
     "name": "stderr",
     "output_type": "stream",
     "text": [
      "\r",
      " 60%|█████████████████████████████████████████████████▊                                 | 6/10 [06:58<04:38, 69.72s/it]"
     ]
    },
    {
     "name": "stdout",
     "output_type": "stream",
     "text": [
      "=================================\n",
      "Initial portfolio value:100000\n",
      "Final portfolio value: 2154413.0\n",
      "Final accumulative portfolio value: 21.54413\n",
      "Maximum DrawDown: -0.31427894061518735\n",
      "Sharpe ratio: 1.2983344549559235\n",
      "=================================\n"
     ]
    },
    {
     "name": "stderr",
     "output_type": "stream",
     "text": [
      "\r",
      " 70%|██████████████████████████████████████████████████████████                         | 7/10 [08:08<03:29, 69.81s/it]"
     ]
    },
    {
     "name": "stdout",
     "output_type": "stream",
     "text": [
      "=================================\n",
      "Initial portfolio value:100000\n",
      "Final portfolio value: 2692758.0\n",
      "Final accumulative portfolio value: 26.92758\n",
      "Maximum DrawDown: -0.3142724119727842\n",
      "Sharpe ratio: 1.3761194916751323\n",
      "=================================\n"
     ]
    },
    {
     "name": "stderr",
     "output_type": "stream",
     "text": [
      "\r",
      " 80%|██████████████████████████████████████████████████████████████████▍                | 8/10 [09:17<02:19, 69.61s/it]"
     ]
    },
    {
     "name": "stdout",
     "output_type": "stream",
     "text": [
      "=================================\n",
      "Initial portfolio value:100000\n",
      "Final portfolio value: 2298169.0\n",
      "Final accumulative portfolio value: 22.98169\n",
      "Maximum DrawDown: -0.31427223095909573\n",
      "Sharpe ratio: 1.3270651139218912\n",
      "=================================\n"
     ]
    },
    {
     "name": "stderr",
     "output_type": "stream",
     "text": [
      "\r",
      " 90%|██████████████████████████████████████████████████████████████████████████▋        | 9/10 [10:30<01:10, 70.51s/it]"
     ]
    },
    {
     "name": "stdout",
     "output_type": "stream",
     "text": [
      "=================================\n",
      "Initial portfolio value:100000\n",
      "Final portfolio value: 2480241.0\n",
      "Final accumulative portfolio value: 24.80241\n",
      "Maximum DrawDown: -0.3142730857685233\n",
      "Sharpe ratio: 1.3238906164563036\n",
      "=================================\n"
     ]
    },
    {
     "name": "stderr",
     "output_type": "stream",
     "text": [
      "100%|██████████████████████████████████████████████████████████████████████████████████| 10/10 [11:40<00:00, 70.07s/it]\n"
     ]
    },
    {
     "name": "stdout",
     "output_type": "stream",
     "text": [
      "=================================\n",
      "Initial portfolio value:100000\n",
      "Final portfolio value: 401473.65625\n",
      "Final accumulative portfolio value: 4.0147365625\n",
      "Maximum DrawDown: -0.29298217837099805\n",
      "Sharpe ratio: 0.8451667312917582\n",
      "=================================\n",
      "=================================\n",
      "Initial portfolio value:100000\n",
      "Final portfolio value: 135566.484375\n",
      "Final accumulative portfolio value: 1.35566484375\n",
      "Maximum DrawDown: -0.04222186191065436\n",
      "Sharpe ratio: 2.7629114615580685\n",
      "=================================\n",
      "=================================\n",
      "Initial portfolio value:100000\n",
      "Final portfolio value: 98397.5234375\n",
      "Final accumulative portfolio value: 0.983975234375\n",
      "Maximum DrawDown: -0.14987384984591767\n",
      "Sharpe ratio: 0.012221622658286597\n",
      "=================================\n",
      "=================================\n",
      "Initial portfolio value:100000\n",
      "Final portfolio value: 109925.71875\n",
      "Final accumulative portfolio value: 1.0992571875\n",
      "Maximum DrawDown: -0.09609668833250284\n",
      "Sharpe ratio: 0.9320608368720533\n",
      "=================================\n"
     ]
    },
    {
     "name": "stderr",
     "output_type": "stream",
     "text": [
      "\r",
      "  0%|                                                                                           | 0/10 [00:00<?, ?it/s]"
     ]
    },
    {
     "name": "stdout",
     "output_type": "stream",
     "text": [
      "=================================\n",
      "Initial portfolio value:100000\n",
      "Final portfolio value: 373717.625\n",
      "Final accumulative portfolio value: 3.73717625\n",
      "Maximum DrawDown: -0.3229973311111214\n",
      "Sharpe ratio: 0.8495155968990835\n",
      "=================================\n"
     ]
    },
    {
     "name": "stderr",
     "output_type": "stream",
     "text": [
      "\r",
      " 10%|████████▎                                                                          | 1/10 [01:08<10:15, 68.37s/it]"
     ]
    },
    {
     "name": "stdout",
     "output_type": "stream",
     "text": [
      "=================================\n",
      "Initial portfolio value:100000\n",
      "Final portfolio value: 572917.1875\n",
      "Final accumulative portfolio value: 5.729171875\n",
      "Maximum DrawDown: -0.3068671738145494\n",
      "Sharpe ratio: 1.0062555308199719\n",
      "=================================\n"
     ]
    },
    {
     "name": "stderr",
     "output_type": "stream",
     "text": [
      "\r",
      " 20%|████████████████▌                                                                  | 2/10 [02:17<09:08, 68.57s/it]"
     ]
    },
    {
     "name": "stdout",
     "output_type": "stream",
     "text": [
      "=================================\n",
      "Initial portfolio value:100000\n",
      "Final portfolio value: 789657.0625\n",
      "Final accumulative portfolio value: 7.896570625\n",
      "Maximum DrawDown: -0.35690283216913976\n",
      "Sharpe ratio: 1.0184307567564819\n",
      "=================================\n"
     ]
    },
    {
     "name": "stderr",
     "output_type": "stream",
     "text": [
      "\r",
      " 30%|████████████████████████▉                                                          | 3/10 [03:25<08:00, 68.59s/it]"
     ]
    },
    {
     "name": "stdout",
     "output_type": "stream",
     "text": [
      "=================================\n",
      "Initial portfolio value:100000\n",
      "Final portfolio value: 934106.25\n",
      "Final accumulative portfolio value: 9.3410625\n",
      "Maximum DrawDown: -0.2869876418233671\n",
      "Sharpe ratio: 1.0594120165342984\n",
      "=================================\n"
     ]
    },
    {
     "name": "stderr",
     "output_type": "stream",
     "text": [
      "\r",
      " 40%|█████████████████████████████████▏                                                 | 4/10 [04:34<06:52, 68.83s/it]"
     ]
    },
    {
     "name": "stdout",
     "output_type": "stream",
     "text": [
      "=================================\n",
      "Initial portfolio value:100000\n",
      "Final portfolio value: 950683.375\n",
      "Final accumulative portfolio value: 9.50683375\n",
      "Maximum DrawDown: -0.40389308615357633\n",
      "Sharpe ratio: 0.9987591255779522\n",
      "=================================\n"
     ]
    },
    {
     "name": "stderr",
     "output_type": "stream",
     "text": [
      "\r",
      " 50%|█████████████████████████████████████████▌                                         | 5/10 [05:43<05:43, 68.74s/it]"
     ]
    },
    {
     "name": "stdout",
     "output_type": "stream",
     "text": [
      "=================================\n",
      "Initial portfolio value:100000\n",
      "Final portfolio value: 1153299.625\n",
      "Final accumulative portfolio value: 11.53299625\n",
      "Maximum DrawDown: -0.2808885154129137\n",
      "Sharpe ratio: 1.0807995589027066\n",
      "=================================\n"
     ]
    },
    {
     "name": "stderr",
     "output_type": "stream",
     "text": [
      "\r",
      " 60%|█████████████████████████████████████████████████▊                                 | 6/10 [06:51<04:33, 68.40s/it]"
     ]
    },
    {
     "name": "stdout",
     "output_type": "stream",
     "text": [
      "=================================\n",
      "Initial portfolio value:100000\n",
      "Final portfolio value: 1238692.375\n",
      "Final accumulative portfolio value: 12.38692375\n",
      "Maximum DrawDown: -0.3389684314001826\n",
      "Sharpe ratio: 1.0769520333072542\n",
      "=================================\n"
     ]
    },
    {
     "name": "stderr",
     "output_type": "stream",
     "text": [
      "\r",
      " 70%|██████████████████████████████████████████████████████████                         | 7/10 [07:59<03:25, 68.38s/it]"
     ]
    },
    {
     "name": "stdout",
     "output_type": "stream",
     "text": [
      "=================================\n",
      "Initial portfolio value:100000\n",
      "Final portfolio value: 1008308.0625\n",
      "Final accumulative portfolio value: 10.083080625\n",
      "Maximum DrawDown: -0.30769372879416435\n",
      "Sharpe ratio: 1.0249292831010486\n",
      "=================================\n"
     ]
    },
    {
     "name": "stderr",
     "output_type": "stream",
     "text": [
      "\r",
      " 80%|██████████████████████████████████████████████████████████████████▍                | 8/10 [09:08<02:16, 68.46s/it]"
     ]
    },
    {
     "name": "stdout",
     "output_type": "stream",
     "text": [
      "=================================\n",
      "Initial portfolio value:100000\n",
      "Final portfolio value: 1266468.375\n",
      "Final accumulative portfolio value: 12.66468375\n",
      "Maximum DrawDown: -0.33171453063877543\n",
      "Sharpe ratio: 1.0887134009701849\n",
      "=================================\n"
     ]
    },
    {
     "name": "stderr",
     "output_type": "stream",
     "text": [
      "\r",
      " 90%|██████████████████████████████████████████████████████████████████████████▋        | 9/10 [10:16<01:08, 68.53s/it]"
     ]
    },
    {
     "name": "stdout",
     "output_type": "stream",
     "text": [
      "=================================\n",
      "Initial portfolio value:100000\n",
      "Final portfolio value: 1161683.625\n",
      "Final accumulative portfolio value: 11.61683625\n",
      "Maximum DrawDown: -0.36276479808694584\n",
      "Sharpe ratio: 1.0372092380926565\n",
      "=================================\n"
     ]
    },
    {
     "name": "stderr",
     "output_type": "stream",
     "text": [
      "100%|██████████████████████████████████████████████████████████████████████████████████| 10/10 [11:25<00:00, 68.52s/it]\n"
     ]
    },
    {
     "name": "stdout",
     "output_type": "stream",
     "text": [
      "=================================\n",
      "Initial portfolio value:100000\n",
      "Final portfolio value: 307600.59375\n",
      "Final accumulative portfolio value: 3.0760059375\n",
      "Maximum DrawDown: -0.29207189732017746\n",
      "Sharpe ratio: 0.7085191472546772\n",
      "=================================\n",
      "=================================\n",
      "Initial portfolio value:100000\n",
      "Final portfolio value: 134241.21875\n",
      "Final accumulative portfolio value: 1.3424121875\n",
      "Maximum DrawDown: -0.04225986812645599\n",
      "Sharpe ratio: 2.7177363764710254\n",
      "=================================\n",
      "=================================\n",
      "Initial portfolio value:100000\n",
      "Final portfolio value: 99804.8359375\n",
      "Final accumulative portfolio value: 0.998048359375\n",
      "Maximum DrawDown: -0.13987718207867428\n",
      "Sharpe ratio: 0.08284499005600515\n",
      "=================================\n",
      "=================================\n",
      "Initial portfolio value:100000\n",
      "Final portfolio value: 110164.1640625\n",
      "Final accumulative portfolio value: 1.101641640625\n",
      "Maximum DrawDown: -0.09261281078277495\n",
      "Sharpe ratio: 0.9785277649446732\n",
      "=================================\n"
     ]
    },
    {
     "name": "stderr",
     "output_type": "stream",
     "text": [
      "\r",
      "  0%|                                                                                           | 0/10 [00:00<?, ?it/s]"
     ]
    },
    {
     "name": "stdout",
     "output_type": "stream",
     "text": [
      "=================================\n",
      "Initial portfolio value:100000\n",
      "Final portfolio value: 359667.0625\n",
      "Final accumulative portfolio value: 3.596670625\n",
      "Maximum DrawDown: -0.33223245580981886\n",
      "Sharpe ratio: 0.8294297046839706\n",
      "=================================\n"
     ]
    },
    {
     "name": "stderr",
     "output_type": "stream",
     "text": [
      "\r",
      " 10%|████████▎                                                                          | 1/10 [01:11<10:42, 71.36s/it]"
     ]
    },
    {
     "name": "stdout",
     "output_type": "stream",
     "text": [
      "=================================\n",
      "Initial portfolio value:100000\n",
      "Final portfolio value: 456490.1875\n",
      "Final accumulative portfolio value: 4.564901875\n",
      "Maximum DrawDown: -0.30999376616712404\n",
      "Sharpe ratio: 0.9375875125088707\n",
      "=================================\n"
     ]
    },
    {
     "name": "stderr",
     "output_type": "stream",
     "text": [
      "\r",
      " 20%|████████████████▌                                                                  | 2/10 [02:22<09:28, 71.02s/it]"
     ]
    },
    {
     "name": "stdout",
     "output_type": "stream",
     "text": [
      "=================================\n",
      "Initial portfolio value:100000\n",
      "Final portfolio value: 603439.875\n",
      "Final accumulative portfolio value: 6.03439875\n",
      "Maximum DrawDown: -0.3047060463800215\n",
      "Sharpe ratio: 1.0373936377880646\n",
      "=================================\n"
     ]
    },
    {
     "name": "stderr",
     "output_type": "stream",
     "text": [
      "\r",
      " 30%|████████████████████████▉                                                          | 3/10 [03:33<08:16, 70.98s/it]"
     ]
    },
    {
     "name": "stdout",
     "output_type": "stream",
     "text": [
      "=================================\n",
      "Initial portfolio value:100000\n",
      "Final portfolio value: 778744.9375\n",
      "Final accumulative portfolio value: 7.787449375\n",
      "Maximum DrawDown: -0.315324817498438\n",
      "Sharpe ratio: 1.106467747392508\n",
      "=================================\n"
     ]
    },
    {
     "name": "stderr",
     "output_type": "stream",
     "text": [
      "\r",
      " 40%|█████████████████████████████████▏                                                 | 4/10 [04:42<07:03, 70.51s/it]"
     ]
    },
    {
     "name": "stdout",
     "output_type": "stream",
     "text": [
      "=================================\n",
      "Initial portfolio value:100000\n",
      "Final portfolio value: 964266.125\n",
      "Final accumulative portfolio value: 9.64266125\n",
      "Maximum DrawDown: -0.335742807311079\n",
      "Sharpe ratio: 1.1409266738729844\n",
      "=================================\n"
     ]
    },
    {
     "name": "stderr",
     "output_type": "stream",
     "text": [
      "\r",
      " 50%|█████████████████████████████████████████▌                                         | 5/10 [05:53<05:52, 70.56s/it]"
     ]
    },
    {
     "name": "stdout",
     "output_type": "stream",
     "text": [
      "=================================\n",
      "Initial portfolio value:100000\n",
      "Final portfolio value: 1183825.75\n",
      "Final accumulative portfolio value: 11.8382575\n",
      "Maximum DrawDown: -0.3358747127093519\n",
      "Sharpe ratio: 1.164714661213713\n",
      "=================================\n"
     ]
    },
    {
     "name": "stderr",
     "output_type": "stream",
     "text": [
      "\r",
      " 60%|█████████████████████████████████████████████████▊                                 | 6/10 [07:04<04:42, 70.67s/it]"
     ]
    },
    {
     "name": "stdout",
     "output_type": "stream",
     "text": [
      "=================================\n",
      "Initial portfolio value:100000\n",
      "Final portfolio value: 1436112.375\n",
      "Final accumulative portfolio value: 14.36112375\n",
      "Maximum DrawDown: -0.3207689471331867\n",
      "Sharpe ratio: 1.2209458606120465\n",
      "=================================\n"
     ]
    },
    {
     "name": "stderr",
     "output_type": "stream",
     "text": [
      "\r",
      " 70%|██████████████████████████████████████████████████████████                         | 7/10 [08:15<03:32, 70.83s/it]"
     ]
    },
    {
     "name": "stdout",
     "output_type": "stream",
     "text": [
      "=================================\n",
      "Initial portfolio value:100000\n",
      "Final portfolio value: 1692399.0\n",
      "Final accumulative portfolio value: 16.92399\n",
      "Maximum DrawDown: -0.31671644052376446\n",
      "Sharpe ratio: 1.2658339070210112\n",
      "=================================\n"
     ]
    },
    {
     "name": "stderr",
     "output_type": "stream",
     "text": [
      "\r",
      " 80%|██████████████████████████████████████████████████████████████████▍                | 8/10 [09:26<02:21, 70.94s/it]"
     ]
    },
    {
     "name": "stdout",
     "output_type": "stream",
     "text": [
      "=================================\n",
      "Initial portfolio value:100000\n",
      "Final portfolio value: 2076757.625\n",
      "Final accumulative portfolio value: 20.76757625\n",
      "Maximum DrawDown: -0.31498852500389707\n",
      "Sharpe ratio: 1.3390447970438197\n",
      "=================================\n"
     ]
    },
    {
     "name": "stderr",
     "output_type": "stream",
     "text": [
      "\r",
      " 90%|██████████████████████████████████████████████████████████████████████████▋        | 9/10 [10:37<01:10, 70.92s/it]"
     ]
    },
    {
     "name": "stdout",
     "output_type": "stream",
     "text": [
      "=================================\n",
      "Initial portfolio value:100000\n",
      "Final portfolio value: 2354881.0\n",
      "Final accumulative portfolio value: 23.54881\n",
      "Maximum DrawDown: -0.3143964395407015\n",
      "Sharpe ratio: 1.3616508898355257\n",
      "=================================\n"
     ]
    },
    {
     "name": "stderr",
     "output_type": "stream",
     "text": [
      "100%|██████████████████████████████████████████████████████████████████████████████████| 10/10 [11:48<00:00, 70.83s/it]\n"
     ]
    },
    {
     "name": "stdout",
     "output_type": "stream",
     "text": [
      "=================================\n",
      "Initial portfolio value:100000\n",
      "Final portfolio value: 360264.59375\n",
      "Final accumulative portfolio value: 3.6026459375\n",
      "Maximum DrawDown: -0.3123655936520182\n",
      "Sharpe ratio: 0.8074209611117324\n",
      "=================================\n",
      "=================================\n",
      "Initial portfolio value:100000\n",
      "Final portfolio value: 136008.375\n",
      "Final accumulative portfolio value: 1.36008375\n",
      "Maximum DrawDown: -0.04198665929077772\n",
      "Sharpe ratio: 2.7718599731596543\n",
      "=================================\n",
      "=================================\n",
      "Initial portfolio value:100000\n",
      "Final portfolio value: 98548.65625\n",
      "Final accumulative portfolio value: 0.9854865625\n",
      "Maximum DrawDown: -0.14984959761296857\n",
      "Sharpe ratio: 0.02097579773840067\n",
      "=================================\n",
      "=================================\n",
      "Initial portfolio value:100000\n",
      "Final portfolio value: 109630.6953125\n",
      "Final accumulative portfolio value: 1.096306953125\n",
      "Maximum DrawDown: -0.0930194133542539\n",
      "Sharpe ratio: 0.9123598617650218\n",
      "=================================\n"
     ]
    },
    {
     "name": "stderr",
     "output_type": "stream",
     "text": [
      "\r",
      "  0%|                                                                                           | 0/10 [00:00<?, ?it/s]"
     ]
    },
    {
     "name": "stdout",
     "output_type": "stream",
     "text": [
      "=================================\n",
      "Initial portfolio value:100000\n",
      "Final portfolio value: 347858.84375\n",
      "Final accumulative portfolio value: 3.4785884375\n",
      "Maximum DrawDown: -0.33699863289480403\n",
      "Sharpe ratio: 0.8170714225054031\n",
      "=================================\n"
     ]
    },
    {
     "name": "stderr",
     "output_type": "stream",
     "text": [
      "\r",
      " 10%|████████▎                                                                          | 1/10 [01:10<10:35, 70.61s/it]"
     ]
    },
    {
     "name": "stdout",
     "output_type": "stream",
     "text": [
      "=================================\n",
      "Initial portfolio value:100000\n",
      "Final portfolio value: 495929.9375\n",
      "Final accumulative portfolio value: 4.959299375\n",
      "Maximum DrawDown: -0.3202321512079115\n",
      "Sharpe ratio: 0.9550595707323328\n",
      "=================================\n"
     ]
    },
    {
     "name": "stderr",
     "output_type": "stream",
     "text": [
      "\r",
      " 20%|████████████████▌                                                                  | 2/10 [02:21<09:25, 70.65s/it]"
     ]
    },
    {
     "name": "stdout",
     "output_type": "stream",
     "text": [
      "=================================\n",
      "Initial portfolio value:100000\n",
      "Final portfolio value: 808381.75\n",
      "Final accumulative portfolio value: 8.0838175\n",
      "Maximum DrawDown: -0.35570648462516685\n",
      "Sharpe ratio: 1.0818679842530181\n",
      "=================================\n"
     ]
    },
    {
     "name": "stderr",
     "output_type": "stream",
     "text": [
      "\r",
      " 30%|████████████████████████▉                                                          | 3/10 [03:30<08:11, 70.21s/it]"
     ]
    },
    {
     "name": "stdout",
     "output_type": "stream",
     "text": [
      "=================================\n",
      "Initial portfolio value:100000\n",
      "Final portfolio value: 1244760.375\n",
      "Final accumulative portfolio value: 12.44760375\n",
      "Maximum DrawDown: -0.3236614287623395\n",
      "Sharpe ratio: 1.1867308993421617\n",
      "=================================\n"
     ]
    },
    {
     "name": "stderr",
     "output_type": "stream",
     "text": [
      "\r",
      " 40%|█████████████████████████████████▏                                                 | 4/10 [04:41<07:01, 70.20s/it]"
     ]
    },
    {
     "name": "stdout",
     "output_type": "stream",
     "text": [
      "=================================\n",
      "Initial portfolio value:100000\n",
      "Final portfolio value: 1757239.125\n",
      "Final accumulative portfolio value: 17.57239125\n",
      "Maximum DrawDown: -0.3150871772250968\n",
      "Sharpe ratio: 1.2904072065155976\n",
      "=================================\n"
     ]
    },
    {
     "name": "stderr",
     "output_type": "stream",
     "text": [
      "\r",
      " 50%|█████████████████████████████████████████▌                                         | 5/10 [05:51<05:51, 70.22s/it]"
     ]
    },
    {
     "name": "stdout",
     "output_type": "stream",
     "text": [
      "=================================\n",
      "Initial portfolio value:100000\n",
      "Final portfolio value: 2001676.0\n",
      "Final accumulative portfolio value: 20.01676\n",
      "Maximum DrawDown: -0.31435595277809425\n",
      "Sharpe ratio: 1.3073561989201823\n",
      "=================================\n"
     ]
    },
    {
     "name": "stderr",
     "output_type": "stream",
     "text": [
      "\r",
      " 60%|█████████████████████████████████████████████████▊                                 | 6/10 [07:02<04:42, 70.64s/it]"
     ]
    },
    {
     "name": "stdout",
     "output_type": "stream",
     "text": [
      "=================================\n",
      "Initial portfolio value:100000\n",
      "Final portfolio value: 2191958.5\n",
      "Final accumulative portfolio value: 21.919585\n",
      "Maximum DrawDown: -0.31431053977027457\n",
      "Sharpe ratio: 1.3262473498878233\n",
      "=================================\n"
     ]
    },
    {
     "name": "stderr",
     "output_type": "stream",
     "text": [
      "\r",
      " 70%|██████████████████████████████████████████████████████████                         | 7/10 [08:13<03:31, 70.55s/it]"
     ]
    },
    {
     "name": "stdout",
     "output_type": "stream",
     "text": [
      "=================================\n",
      "Initial portfolio value:100000\n",
      "Final portfolio value: 2621298.25\n",
      "Final accumulative portfolio value: 26.2129825\n",
      "Maximum DrawDown: -0.31427923965164994\n",
      "Sharpe ratio: 1.3826475547064463\n",
      "=================================\n"
     ]
    },
    {
     "name": "stderr",
     "output_type": "stream",
     "text": [
      "\r",
      " 80%|██████████████████████████████████████████████████████████████████▍                | 8/10 [10:17<02:55, 87.53s/it]"
     ]
    },
    {
     "name": "stdout",
     "output_type": "stream",
     "text": [
      "=================================\n",
      "Initial portfolio value:100000\n",
      "Final portfolio value: 2846481.75\n",
      "Final accumulative portfolio value: 28.4648175\n",
      "Maximum DrawDown: -0.3142887235903534\n",
      "Sharpe ratio: 1.4025881429191482\n",
      "=================================\n"
     ]
    },
    {
     "name": "stderr",
     "output_type": "stream",
     "text": [
      "\r",
      " 90%|██████████████████████████████████████████████████████████████████████████▋        | 9/10 [11:27<01:22, 82.23s/it]"
     ]
    },
    {
     "name": "stdout",
     "output_type": "stream",
     "text": [
      "=================================\n",
      "Initial portfolio value:100000\n",
      "Final portfolio value: 3111691.5\n",
      "Final accumulative portfolio value: 31.116915\n",
      "Maximum DrawDown: -0.3142836278246024\n",
      "Sharpe ratio: 1.421592882093175\n",
      "=================================\n"
     ]
    },
    {
     "name": "stderr",
     "output_type": "stream",
     "text": [
      "100%|██████████████████████████████████████████████████████████████████████████████████| 10/10 [12:37<00:00, 75.75s/it]\n"
     ]
    },
    {
     "name": "stdout",
     "output_type": "stream",
     "text": [
      "=================================\n",
      "Initial portfolio value:100000\n",
      "Final portfolio value: 393179.5625\n",
      "Final accumulative portfolio value: 3.931795625\n",
      "Maximum DrawDown: -0.3666290229859901\n",
      "Sharpe ratio: 0.7514584463236129\n",
      "=================================\n",
      "=================================\n",
      "Initial portfolio value:100000\n",
      "Final portfolio value: 135514.953125\n",
      "Final accumulative portfolio value: 1.35514953125\n",
      "Maximum DrawDown: -0.04277261170574109\n",
      "Sharpe ratio: 2.719656718157794\n",
      "=================================\n",
      "=================================\n",
      "Initial portfolio value:100000\n",
      "Final portfolio value: 99178.6640625\n",
      "Final accumulative portfolio value: 0.991786640625\n",
      "Maximum DrawDown: -0.15020124016965508\n",
      "Sharpe ratio: 0.055459504824043875\n",
      "=================================\n",
      "=================================\n",
      "Initial portfolio value:100000\n",
      "Final portfolio value: 110069.25\n",
      "Final accumulative portfolio value: 1.1006925\n",
      "Maximum DrawDown: -0.09575991216284852\n",
      "Sharpe ratio: 0.9354163181104163\n",
      "=================================\n"
     ]
    },
    {
     "name": "stderr",
     "output_type": "stream",
     "text": [
      "\r",
      "  0%|                                                                                           | 0/10 [00:00<?, ?it/s]"
     ]
    },
    {
     "name": "stdout",
     "output_type": "stream",
     "text": [
      "=================================\n",
      "Initial portfolio value:100000\n",
      "Final portfolio value: 381615.5625\n",
      "Final accumulative portfolio value: 3.816155625\n",
      "Maximum DrawDown: -0.3198524317147684\n",
      "Sharpe ratio: 0.8614312945906258\n",
      "=================================\n"
     ]
    },
    {
     "name": "stderr",
     "output_type": "stream",
     "text": [
      "\r",
      " 10%|████████▎                                                                          | 1/10 [01:08<10:18, 68.75s/it]"
     ]
    },
    {
     "name": "stdout",
     "output_type": "stream",
     "text": [
      "=================================\n",
      "Initial portfolio value:100000\n",
      "Final portfolio value: 609147.875\n",
      "Final accumulative portfolio value: 6.09147875\n",
      "Maximum DrawDown: -0.32681887754624117\n",
      "Sharpe ratio: 1.0220805215500215\n",
      "=================================\n"
     ]
    },
    {
     "name": "stderr",
     "output_type": "stream",
     "text": [
      "\r",
      " 20%|████████████████▌                                                                  | 2/10 [02:16<09:06, 68.37s/it]"
     ]
    },
    {
     "name": "stdout",
     "output_type": "stream",
     "text": [
      "=================================\n",
      "Initial portfolio value:100000\n",
      "Final portfolio value: 880193.1875\n",
      "Final accumulative portfolio value: 8.801931875\n",
      "Maximum DrawDown: -0.37150324485440567\n",
      "Sharpe ratio: 1.032955318578345\n",
      "=================================\n"
     ]
    },
    {
     "name": "stderr",
     "output_type": "stream",
     "text": [
      "\r",
      " 30%|████████████████████████▉                                                          | 3/10 [03:24<07:57, 68.23s/it]"
     ]
    },
    {
     "name": "stdout",
     "output_type": "stream",
     "text": [
      "=================================\n",
      "Initial portfolio value:100000\n",
      "Final portfolio value: 1195619.875\n",
      "Final accumulative portfolio value: 11.95619875\n",
      "Maximum DrawDown: -0.3165845105815427\n",
      "Sharpe ratio: 1.1569761765253062\n",
      "=================================\n"
     ]
    },
    {
     "name": "stderr",
     "output_type": "stream",
     "text": [
      "\r",
      " 40%|█████████████████████████████████▏                                                 | 4/10 [04:32<06:47, 67.84s/it]"
     ]
    },
    {
     "name": "stdout",
     "output_type": "stream",
     "text": [
      "=================================\n",
      "Initial portfolio value:100000\n",
      "Final portfolio value: 1894759.375\n",
      "Final accumulative portfolio value: 18.94759375\n",
      "Maximum DrawDown: -0.3143141638866278\n",
      "Sharpe ratio: 1.301756533629042\n",
      "=================================\n"
     ]
    },
    {
     "name": "stderr",
     "output_type": "stream",
     "text": [
      "\r",
      " 50%|█████████████████████████████████████████▌                                         | 5/10 [05:40<05:39, 67.95s/it]"
     ]
    },
    {
     "name": "stdout",
     "output_type": "stream",
     "text": [
      "=================================\n",
      "Initial portfolio value:100000\n",
      "Final portfolio value: 2012648.5\n",
      "Final accumulative portfolio value: 20.126485\n",
      "Maximum DrawDown: -0.31429289010495365\n",
      "Sharpe ratio: 1.2976475808364345\n",
      "=================================\n"
     ]
    },
    {
     "name": "stderr",
     "output_type": "stream",
     "text": [
      "\r",
      " 60%|█████████████████████████████████████████████████▊                                 | 6/10 [06:48<04:31, 67.87s/it]"
     ]
    },
    {
     "name": "stdout",
     "output_type": "stream",
     "text": [
      "=================================\n",
      "Initial portfolio value:100000\n",
      "Final portfolio value: 2117362.0\n",
      "Final accumulative portfolio value: 21.17362\n",
      "Maximum DrawDown: -0.31427935924516204\n",
      "Sharpe ratio: 1.2995423746414358\n",
      "=================================\n"
     ]
    },
    {
     "name": "stderr",
     "output_type": "stream",
     "text": [
      "\r",
      " 70%|██████████████████████████████████████████████████████████                         | 7/10 [07:56<03:23, 67.95s/it]"
     ]
    },
    {
     "name": "stdout",
     "output_type": "stream",
     "text": [
      "=================================\n",
      "Initial portfolio value:100000\n",
      "Final portfolio value: 2373375.25\n",
      "Final accumulative portfolio value: 23.7337525\n",
      "Maximum DrawDown: -0.31427206984645883\n",
      "Sharpe ratio: 1.3379232843574307\n",
      "=================================\n"
     ]
    },
    {
     "name": "stderr",
     "output_type": "stream",
     "text": [
      "\r",
      " 80%|██████████████████████████████████████████████████████████████████▍                | 8/10 [09:04<02:15, 67.97s/it]"
     ]
    },
    {
     "name": "stdout",
     "output_type": "stream",
     "text": [
      "=================================\n",
      "Initial portfolio value:100000\n",
      "Final portfolio value: 2202717.5\n",
      "Final accumulative portfolio value: 22.027175\n",
      "Maximum DrawDown: -0.3142728417247216\n",
      "Sharpe ratio: 1.3141080085128969\n",
      "=================================\n"
     ]
    },
    {
     "name": "stderr",
     "output_type": "stream",
     "text": [
      "\r",
      " 90%|██████████████████████████████████████████████████████████████████████████▋        | 9/10 [10:11<01:07, 67.70s/it]"
     ]
    },
    {
     "name": "stdout",
     "output_type": "stream",
     "text": [
      "=================================\n",
      "Initial portfolio value:100000\n",
      "Final portfolio value: 2059480.125\n",
      "Final accumulative portfolio value: 20.59480125\n",
      "Maximum DrawDown: -0.3142728464263921\n",
      "Sharpe ratio: 1.2415511437251068\n",
      "=================================\n"
     ]
    },
    {
     "name": "stderr",
     "output_type": "stream",
     "text": [
      "100%|██████████████████████████████████████████████████████████████████████████████████| 10/10 [11:19<00:00, 67.92s/it]\n"
     ]
    },
    {
     "name": "stdout",
     "output_type": "stream",
     "text": [
      "=================================\n",
      "Initial portfolio value:100000\n",
      "Final portfolio value: 457612.59375\n",
      "Final accumulative portfolio value: 4.5761259375\n",
      "Maximum DrawDown: -0.43006595749716525\n",
      "Sharpe ratio: 0.7187891424918215\n",
      "=================================\n",
      "=================================\n",
      "Initial portfolio value:100000\n",
      "Final portfolio value: 135510.0625\n",
      "Final accumulative portfolio value: 1.355100625\n",
      "Maximum DrawDown: -0.04454346046359914\n",
      "Sharpe ratio: 2.7218503563730634\n",
      "=================================\n",
      "=================================\n",
      "Initial portfolio value:100000\n",
      "Final portfolio value: 98555.0234375\n",
      "Final accumulative portfolio value: 0.985550234375\n",
      "Maximum DrawDown: -0.1421618610207004\n",
      "Sharpe ratio: 0.01192172088617232\n",
      "=================================\n",
      "=================================\n",
      "Initial portfolio value:100000\n",
      "Final portfolio value: 109724.3515625\n",
      "Final accumulative portfolio value: 1.097243515625\n",
      "Maximum DrawDown: -0.09511860799553695\n",
      "Sharpe ratio: 0.9276283193021163\n",
      "=================================\n"
     ]
    },
    {
     "name": "stderr",
     "output_type": "stream",
     "text": [
      "\r",
      "  0%|                                                                                           | 0/10 [00:00<?, ?it/s]"
     ]
    },
    {
     "name": "stdout",
     "output_type": "stream",
     "text": [
      "=================================\n",
      "Initial portfolio value:100000\n",
      "Final portfolio value: 368604.375\n",
      "Final accumulative portfolio value: 3.68604375\n",
      "Maximum DrawDown: -0.3317799508290663\n",
      "Sharpe ratio: 0.8379751501038328\n",
      "=================================\n"
     ]
    },
    {
     "name": "stderr",
     "output_type": "stream",
     "text": [
      "\r",
      " 10%|████████▎                                                                          | 1/10 [01:09<10:25, 69.55s/it]"
     ]
    },
    {
     "name": "stdout",
     "output_type": "stream",
     "text": [
      "=================================\n",
      "Initial portfolio value:100000\n",
      "Final portfolio value: 541086.75\n",
      "Final accumulative portfolio value: 5.4108675\n",
      "Maximum DrawDown: -0.30335155132858715\n",
      "Sharpe ratio: 0.9910058765277132\n",
      "=================================\n"
     ]
    },
    {
     "name": "stderr",
     "output_type": "stream",
     "text": [
      "\r",
      " 20%|████████████████▌                                                                  | 2/10 [02:19<09:16, 69.59s/it]"
     ]
    },
    {
     "name": "stdout",
     "output_type": "stream",
     "text": [
      "=================================\n",
      "Initial portfolio value:100000\n",
      "Final portfolio value: 832290.3125\n",
      "Final accumulative portfolio value: 8.322903125\n",
      "Maximum DrawDown: -0.33253517322317594\n",
      "Sharpe ratio: 1.1190418516812581\n",
      "=================================\n"
     ]
    },
    {
     "name": "stderr",
     "output_type": "stream",
     "text": [
      "\r",
      " 30%|████████████████████████▉                                                          | 3/10 [03:28<08:05, 69.31s/it]"
     ]
    },
    {
     "name": "stdout",
     "output_type": "stream",
     "text": [
      "=================================\n",
      "Initial portfolio value:100000\n",
      "Final portfolio value: 1313031.5\n",
      "Final accumulative portfolio value: 13.130315\n",
      "Maximum DrawDown: -0.3242052954279532\n",
      "Sharpe ratio: 1.2093110134741618\n",
      "=================================\n"
     ]
    },
    {
     "name": "stderr",
     "output_type": "stream",
     "text": [
      "\r",
      " 40%|█████████████████████████████████▏                                                 | 4/10 [04:38<06:58, 69.73s/it]"
     ]
    },
    {
     "name": "stdout",
     "output_type": "stream",
     "text": [
      "=================================\n",
      "Initial portfolio value:100000\n",
      "Final portfolio value: 1723144.5\n",
      "Final accumulative portfolio value: 17.231445\n",
      "Maximum DrawDown: -0.3145680309865142\n",
      "Sharpe ratio: 1.2783785745481786\n",
      "=================================\n"
     ]
    },
    {
     "name": "stderr",
     "output_type": "stream",
     "text": [
      "\r",
      " 50%|█████████████████████████████████████████▌                                         | 5/10 [05:47<05:48, 69.62s/it]"
     ]
    },
    {
     "name": "stdout",
     "output_type": "stream",
     "text": [
      "=================================\n",
      "Initial portfolio value:100000\n",
      "Final portfolio value: 1998382.625\n",
      "Final accumulative portfolio value: 19.98382625\n",
      "Maximum DrawDown: -0.3143206853968793\n",
      "Sharpe ratio: 1.3111119743103958\n",
      "=================================\n"
     ]
    },
    {
     "name": "stderr",
     "output_type": "stream",
     "text": [
      "\r",
      " 60%|█████████████████████████████████████████████████▊                                 | 6/10 [06:57<04:38, 69.66s/it]"
     ]
    },
    {
     "name": "stdout",
     "output_type": "stream",
     "text": [
      "=================================\n",
      "Initial portfolio value:100000\n",
      "Final portfolio value: 2163042.5\n",
      "Final accumulative portfolio value: 21.630425\n",
      "Maximum DrawDown: -0.3142941289304534\n",
      "Sharpe ratio: 1.3200843112730445\n",
      "=================================\n"
     ]
    },
    {
     "name": "stderr",
     "output_type": "stream",
     "text": [
      "\r",
      " 70%|██████████████████████████████████████████████████████████                         | 7/10 [08:07<03:28, 69.61s/it]"
     ]
    },
    {
     "name": "stdout",
     "output_type": "stream",
     "text": [
      "=================================\n",
      "Initial portfolio value:100000\n",
      "Final portfolio value: 2670498.25\n",
      "Final accumulative portfolio value: 26.7049825\n",
      "Maximum DrawDown: -0.3142720484476399\n",
      "Sharpe ratio: 1.386166643085271\n",
      "=================================\n"
     ]
    },
    {
     "name": "stderr",
     "output_type": "stream",
     "text": [
      "\r",
      " 80%|██████████████████████████████████████████████████████████████████▍                | 8/10 [09:16<02:19, 69.55s/it]"
     ]
    },
    {
     "name": "stdout",
     "output_type": "stream",
     "text": [
      "=================================\n",
      "Initial portfolio value:100000\n",
      "Final portfolio value: 2359325.25\n",
      "Final accumulative portfolio value: 23.5932525\n",
      "Maximum DrawDown: -0.3142730125983383\n",
      "Sharpe ratio: 1.3164095925957862\n",
      "=================================\n"
     ]
    },
    {
     "name": "stderr",
     "output_type": "stream",
     "text": [
      "\r",
      " 90%|██████████████████████████████████████████████████████████████████████████▋        | 9/10 [10:25<01:09, 69.47s/it]"
     ]
    },
    {
     "name": "stdout",
     "output_type": "stream",
     "text": [
      "=================================\n",
      "Initial portfolio value:100000\n",
      "Final portfolio value: 2443683.0\n",
      "Final accumulative portfolio value: 24.43683\n",
      "Maximum DrawDown: -0.31427275749529415\n",
      "Sharpe ratio: 1.323711552008388\n",
      "=================================\n"
     ]
    },
    {
     "name": "stderr",
     "output_type": "stream",
     "text": [
      "100%|██████████████████████████████████████████████████████████████████████████████████| 10/10 [11:35<00:00, 69.54s/it]\n"
     ]
    },
    {
     "name": "stdout",
     "output_type": "stream",
     "text": [
      "=================================\n",
      "Initial portfolio value:100000\n",
      "Final portfolio value: 587407.6875\n",
      "Final accumulative portfolio value: 5.874076875\n",
      "Maximum DrawDown: -0.4287893577455312\n",
      "Sharpe ratio: 0.8312458177543277\n",
      "=================================\n",
      "=================================\n",
      "Initial portfolio value:100000\n",
      "Final portfolio value: 134507.421875\n",
      "Final accumulative portfolio value: 1.34507421875\n",
      "Maximum DrawDown: -0.04494336994145931\n",
      "Sharpe ratio: 2.6835716322657284\n",
      "=================================\n",
      "=================================\n",
      "Initial portfolio value:100000\n",
      "Final portfolio value: 98689.0\n",
      "Final accumulative portfolio value: 0.98689\n",
      "Maximum DrawDown: -0.13628394419534895\n",
      "Sharpe ratio: 0.012691296662735314\n",
      "=================================\n",
      "=================================\n",
      "Initial portfolio value:100000\n",
      "Final portfolio value: 110152.15625\n",
      "Final accumulative portfolio value: 1.1015215625\n",
      "Maximum DrawDown: -0.09625717272451206\n",
      "Sharpe ratio: 0.9809676567870945\n",
      "=================================\n"
     ]
    },
    {
     "name": "stderr",
     "output_type": "stream",
     "text": [
      "\r",
      "  0%|                                                                                           | 0/10 [00:00<?, ?it/s]"
     ]
    },
    {
     "name": "stdout",
     "output_type": "stream",
     "text": [
      "=================================\n",
      "Initial portfolio value:100000\n",
      "Final portfolio value: 380749.09375\n",
      "Final accumulative portfolio value: 3.8074909375\n",
      "Maximum DrawDown: -0.3248833383635047\n",
      "Sharpe ratio: 0.8569828171873807\n",
      "=================================\n"
     ]
    },
    {
     "name": "stderr",
     "output_type": "stream",
     "text": [
      "\r",
      " 10%|████████▎                                                                          | 1/10 [01:08<10:18, 68.67s/it]"
     ]
    },
    {
     "name": "stdout",
     "output_type": "stream",
     "text": [
      "=================================\n",
      "Initial portfolio value:100000\n",
      "Final portfolio value: 609169.0\n",
      "Final accumulative portfolio value: 6.09169\n",
      "Maximum DrawDown: -0.3080391846658308\n",
      "Sharpe ratio: 1.0300163471359969\n",
      "=================================\n"
     ]
    },
    {
     "name": "stderr",
     "output_type": "stream",
     "text": [
      "\r",
      " 20%|████████████████▌                                                                  | 2/10 [02:18<09:15, 69.38s/it]"
     ]
    },
    {
     "name": "stdout",
     "output_type": "stream",
     "text": [
      "=================================\n",
      "Initial portfolio value:100000\n",
      "Final portfolio value: 814713.75\n",
      "Final accumulative portfolio value: 8.1471375\n",
      "Maximum DrawDown: -0.36809732799264905\n",
      "Sharpe ratio: 1.022436253241958\n",
      "=================================\n"
     ]
    },
    {
     "name": "stderr",
     "output_type": "stream",
     "text": [
      "\r",
      " 30%|████████████████████████▉                                                          | 3/10 [03:27<08:05, 69.30s/it]"
     ]
    },
    {
     "name": "stdout",
     "output_type": "stream",
     "text": [
      "=================================\n",
      "Initial portfolio value:100000\n",
      "Final portfolio value: 959724.8125\n",
      "Final accumulative portfolio value: 9.597248125\n",
      "Maximum DrawDown: -0.2916370546333834\n",
      "Sharpe ratio: 1.0947913562093665\n",
      "=================================\n"
     ]
    },
    {
     "name": "stderr",
     "output_type": "stream",
     "text": [
      "\r",
      " 40%|█████████████████████████████████▏                                                 | 4/10 [04:37<06:55, 69.28s/it]"
     ]
    },
    {
     "name": "stdout",
     "output_type": "stream",
     "text": [
      "=================================\n",
      "Initial portfolio value:100000\n",
      "Final portfolio value: 881749.25\n",
      "Final accumulative portfolio value: 8.8174925\n",
      "Maximum DrawDown: -0.4213616875059466\n",
      "Sharpe ratio: 0.9837438469391772\n",
      "=================================\n"
     ]
    },
    {
     "name": "stderr",
     "output_type": "stream",
     "text": [
      "\r",
      " 50%|█████████████████████████████████████████▌                                         | 5/10 [05:46<05:47, 69.42s/it]"
     ]
    },
    {
     "name": "stdout",
     "output_type": "stream",
     "text": [
      "=================================\n",
      "Initial portfolio value:100000\n",
      "Final portfolio value: 957191.8125\n",
      "Final accumulative portfolio value: 9.571918125\n",
      "Maximum DrawDown: -0.3664523497790928\n",
      "Sharpe ratio: 1.0479076424065639\n",
      "=================================\n"
     ]
    },
    {
     "name": "stderr",
     "output_type": "stream",
     "text": [
      "\r",
      " 60%|█████████████████████████████████████████████████▊                                 | 6/10 [06:55<04:36, 69.20s/it]"
     ]
    },
    {
     "name": "stdout",
     "output_type": "stream",
     "text": [
      "=================================\n",
      "Initial portfolio value:100000\n",
      "Final portfolio value: 1081540.0\n",
      "Final accumulative portfolio value: 10.8154\n",
      "Maximum DrawDown: -0.2975152145137342\n",
      "Sharpe ratio: 1.1014195998385496\n",
      "=================================\n"
     ]
    },
    {
     "name": "stderr",
     "output_type": "stream",
     "text": [
      "\r",
      " 70%|██████████████████████████████████████████████████████████                         | 7/10 [08:04<03:27, 69.15s/it]"
     ]
    },
    {
     "name": "stdout",
     "output_type": "stream",
     "text": [
      "=================================\n",
      "Initial portfolio value:100000\n",
      "Final portfolio value: 1400605.875\n",
      "Final accumulative portfolio value: 14.00605875\n",
      "Maximum DrawDown: -0.362728665143504\n",
      "Sharpe ratio: 1.1848674676164668\n",
      "=================================\n"
     ]
    },
    {
     "name": "stderr",
     "output_type": "stream",
     "text": [
      "\r",
      " 80%|██████████████████████████████████████████████████████████████████▍                | 8/10 [09:13<02:18, 69.01s/it]"
     ]
    },
    {
     "name": "stdout",
     "output_type": "stream",
     "text": [
      "=================================\n",
      "Initial portfolio value:100000\n",
      "Final portfolio value: 1495570.625\n",
      "Final accumulative portfolio value: 14.95570625\n",
      "Maximum DrawDown: -0.3786586093326467\n",
      "Sharpe ratio: 1.1634577349820328\n",
      "=================================\n"
     ]
    },
    {
     "name": "stderr",
     "output_type": "stream",
     "text": [
      "\r",
      " 90%|██████████████████████████████████████████████████████████████████████████▋        | 9/10 [10:23<01:09, 69.33s/it]"
     ]
    },
    {
     "name": "stdout",
     "output_type": "stream",
     "text": [
      "=================================\n",
      "Initial portfolio value:100000\n",
      "Final portfolio value: 1654557.125\n",
      "Final accumulative portfolio value: 16.54557125\n",
      "Maximum DrawDown: -0.41511243335028625\n",
      "Sharpe ratio: 1.1845100334155851\n",
      "=================================\n"
     ]
    },
    {
     "name": "stderr",
     "output_type": "stream",
     "text": [
      "100%|██████████████████████████████████████████████████████████████████████████████████| 10/10 [11:32<00:00, 69.29s/it]\n"
     ]
    },
    {
     "name": "stdout",
     "output_type": "stream",
     "text": [
      "=================================\n",
      "Initial portfolio value:100000\n",
      "Final portfolio value: 306737.84375\n",
      "Final accumulative portfolio value: 3.0673784375\n",
      "Maximum DrawDown: -0.2974717621158891\n",
      "Sharpe ratio: 0.7075698564075086\n",
      "=================================\n",
      "=================================\n",
      "Initial portfolio value:100000\n",
      "Final portfolio value: 135074.625\n",
      "Final accumulative portfolio value: 1.35074625\n",
      "Maximum DrawDown: -0.04705867014194487\n",
      "Sharpe ratio: 2.748427806078132\n",
      "=================================\n",
      "=================================\n",
      "Initial portfolio value:100000\n",
      "Final portfolio value: 98916.3515625\n",
      "Final accumulative portfolio value: 0.989163515625\n",
      "Maximum DrawDown: -0.1404467310338996\n",
      "Sharpe ratio: 0.03013639445526562\n",
      "=================================\n",
      "=================================\n",
      "Initial portfolio value:100000\n",
      "Final portfolio value: 109420.53125\n",
      "Final accumulative portfolio value: 1.0942053125\n",
      "Maximum DrawDown: -0.09354021893849784\n",
      "Sharpe ratio: 0.9372006105343865\n",
      "=================================\n"
     ]
    },
    {
     "name": "stderr",
     "output_type": "stream",
     "text": [
      "\r",
      "  0%|                                                                                           | 0/10 [00:00<?, ?it/s]"
     ]
    },
    {
     "name": "stdout",
     "output_type": "stream",
     "text": [
      "=================================\n",
      "Initial portfolio value:100000\n",
      "Final portfolio value: 378649.46875\n",
      "Final accumulative portfolio value: 3.7864946875\n",
      "Maximum DrawDown: -0.3238827068829906\n",
      "Sharpe ratio: 0.8550698247434836\n",
      "=================================\n"
     ]
    },
    {
     "name": "stderr",
     "output_type": "stream",
     "text": [
      "\r",
      " 10%|████████▎                                                                          | 1/10 [01:07<10:10, 67.89s/it]"
     ]
    },
    {
     "name": "stdout",
     "output_type": "stream",
     "text": [
      "=================================\n",
      "Initial portfolio value:100000\n",
      "Final portfolio value: 577845.125\n",
      "Final accumulative portfolio value: 5.77845125\n",
      "Maximum DrawDown: -0.3084614384346578\n",
      "Sharpe ratio: 1.0099126409209302\n",
      "=================================\n"
     ]
    },
    {
     "name": "stderr",
     "output_type": "stream",
     "text": [
      "\r",
      " 20%|████████████████▌                                                                  | 2/10 [02:15<08:59, 67.49s/it]"
     ]
    },
    {
     "name": "stdout",
     "output_type": "stream",
     "text": [
      "=================================\n",
      "Initial portfolio value:100000\n",
      "Final portfolio value: 855551.875\n",
      "Final accumulative portfolio value: 8.55551875\n",
      "Maximum DrawDown: -0.33845417365907116\n",
      "Sharpe ratio: 1.092802361623132\n",
      "=================================\n"
     ]
    },
    {
     "name": "stderr",
     "output_type": "stream",
     "text": [
      "\r",
      " 30%|████████████████████████▉                                                          | 3/10 [03:22<07:50, 67.23s/it]"
     ]
    },
    {
     "name": "stdout",
     "output_type": "stream",
     "text": [
      "=================================\n",
      "Initial portfolio value:100000\n",
      "Final portfolio value: 1220905.75\n",
      "Final accumulative portfolio value: 12.2090575\n",
      "Maximum DrawDown: -0.3321007483727353\n",
      "Sharpe ratio: 1.1336806243194504\n",
      "=================================\n"
     ]
    },
    {
     "name": "stderr",
     "output_type": "stream",
     "text": [
      "\r",
      " 40%|█████████████████████████████████▏                                                 | 4/10 [04:30<06:47, 67.89s/it]"
     ]
    },
    {
     "name": "stdout",
     "output_type": "stream",
     "text": [
      "=================================\n",
      "Initial portfolio value:100000\n",
      "Final portfolio value: 1360172.25\n",
      "Final accumulative portfolio value: 13.6017225\n",
      "Maximum DrawDown: -0.34512389923545506\n",
      "Sharpe ratio: 1.1625682657664853\n",
      "=================================\n"
     ]
    },
    {
     "name": "stderr",
     "output_type": "stream",
     "text": [
      "\r",
      " 50%|█████████████████████████████████████████▌                                         | 5/10 [05:38<05:39, 67.94s/it]"
     ]
    },
    {
     "name": "stdout",
     "output_type": "stream",
     "text": [
      "=================================\n",
      "Initial portfolio value:100000\n",
      "Final portfolio value: 2033460.875\n",
      "Final accumulative portfolio value: 20.33460875\n",
      "Maximum DrawDown: -0.31467135244392785\n",
      "Sharpe ratio: 1.311415711592132\n",
      "=================================\n"
     ]
    },
    {
     "name": "stderr",
     "output_type": "stream",
     "text": [
      "\r",
      " 60%|█████████████████████████████████████████████████▊                                 | 6/10 [06:46<04:31, 67.95s/it]"
     ]
    },
    {
     "name": "stdout",
     "output_type": "stream",
     "text": [
      "=================================\n",
      "Initial portfolio value:100000\n",
      "Final portfolio value: 2102212.5\n",
      "Final accumulative portfolio value: 21.022125\n",
      "Maximum DrawDown: -0.314308193773182\n",
      "Sharpe ratio: 1.3050974758481402\n",
      "=================================\n"
     ]
    },
    {
     "name": "stderr",
     "output_type": "stream",
     "text": [
      "\r",
      " 70%|██████████████████████████████████████████████████████████                         | 7/10 [07:55<03:24, 68.07s/it]"
     ]
    },
    {
     "name": "stdout",
     "output_type": "stream",
     "text": [
      "=================================\n",
      "Initial portfolio value:100000\n",
      "Final portfolio value: 2535195.5\n",
      "Final accumulative portfolio value: 25.351955\n",
      "Maximum DrawDown: -0.31427280679379\n",
      "Sharpe ratio: 1.3668624652787216\n",
      "=================================\n"
     ]
    },
    {
     "name": "stderr",
     "output_type": "stream",
     "text": [
      "\r",
      " 80%|██████████████████████████████████████████████████████████████████▍                | 8/10 [09:02<02:15, 67.92s/it]"
     ]
    },
    {
     "name": "stdout",
     "output_type": "stream",
     "text": [
      "=================================\n",
      "Initial portfolio value:100000\n",
      "Final portfolio value: 2260827.5\n",
      "Final accumulative portfolio value: 22.608275\n",
      "Maximum DrawDown: -0.31427281015083\n",
      "Sharpe ratio: 1.2962731239581906\n",
      "=================================\n"
     ]
    },
    {
     "name": "stderr",
     "output_type": "stream",
     "text": [
      "\r",
      " 90%|██████████████████████████████████████████████████████████████████████████▋        | 9/10 [10:11<01:08, 68.07s/it]"
     ]
    },
    {
     "name": "stdout",
     "output_type": "stream",
     "text": [
      "=================================\n",
      "Initial portfolio value:100000\n",
      "Final portfolio value: 2883959.5\n",
      "Final accumulative portfolio value: 28.839595\n",
      "Maximum DrawDown: -0.3142730626395346\n",
      "Sharpe ratio: 1.3958912911856138\n",
      "=================================\n"
     ]
    },
    {
     "name": "stderr",
     "output_type": "stream",
     "text": [
      "100%|██████████████████████████████████████████████████████████████████████████████████| 10/10 [11:18<00:00, 67.85s/it]\n"
     ]
    },
    {
     "name": "stdout",
     "output_type": "stream",
     "text": [
      "=================================\n",
      "Initial portfolio value:100000\n",
      "Final portfolio value: 630860.6875\n",
      "Final accumulative portfolio value: 6.308606875\n",
      "Maximum DrawDown: -0.4297674788352932\n",
      "Sharpe ratio: 0.8574481069980687\n",
      "=================================\n",
      "=================================\n",
      "Initial portfolio value:100000\n",
      "Final portfolio value: 136406.84375\n",
      "Final accumulative portfolio value: 1.3640684375\n",
      "Maximum DrawDown: -0.04447093629108945\n",
      "Sharpe ratio: 2.7225532452546175\n",
      "=================================\n",
      "=================================\n",
      "Initial portfolio value:100000\n",
      "Final portfolio value: 98381.640625\n",
      "Final accumulative portfolio value: 0.98381640625\n",
      "Maximum DrawDown: -0.14793932063257176\n",
      "Sharpe ratio: 0.008152522303481355\n",
      "=================================\n",
      "=================================\n",
      "Initial portfolio value:100000\n",
      "Final portfolio value: 112161.7890625\n",
      "Final accumulative portfolio value: 1.121617890625\n",
      "Maximum DrawDown: -0.1017512656647448\n",
      "Sharpe ratio: 1.0846518852416265\n",
      "=================================\n"
     ]
    },
    {
     "name": "stderr",
     "output_type": "stream",
     "text": [
      "\r",
      "  0%|                                                                                           | 0/10 [00:00<?, ?it/s]"
     ]
    },
    {
     "name": "stdout",
     "output_type": "stream",
     "text": [
      "=================================\n",
      "Initial portfolio value:100000\n",
      "Final portfolio value: 327273.28125\n",
      "Final accumulative portfolio value: 3.2727328125\n",
      "Maximum DrawDown: -0.3245388732598471\n",
      "Sharpe ratio: 0.8110865320135304\n",
      "=================================\n"
     ]
    },
    {
     "name": "stderr",
     "output_type": "stream",
     "text": [
      "\r",
      " 10%|████████▎                                                                          | 1/10 [01:10<10:34, 70.50s/it]"
     ]
    },
    {
     "name": "stdout",
     "output_type": "stream",
     "text": [
      "=================================\n",
      "Initial portfolio value:100000\n",
      "Final portfolio value: 441460.21875\n",
      "Final accumulative portfolio value: 4.4146021875\n",
      "Maximum DrawDown: -0.30684120036991014\n",
      "Sharpe ratio: 0.923482102031661\n",
      "=================================\n"
     ]
    },
    {
     "name": "stderr",
     "output_type": "stream",
     "text": [
      "\r",
      " 20%|████████████████▌                                                                  | 2/10 [02:21<09:25, 70.73s/it]"
     ]
    },
    {
     "name": "stdout",
     "output_type": "stream",
     "text": [
      "=================================\n",
      "Initial portfolio value:100000\n",
      "Final portfolio value: 574145.125\n",
      "Final accumulative portfolio value: 5.74145125\n",
      "Maximum DrawDown: -0.3073185886486576\n",
      "Sharpe ratio: 1.012247815819079\n",
      "=================================\n"
     ]
    },
    {
     "name": "stderr",
     "output_type": "stream",
     "text": [
      "\r",
      " 30%|████████████████████████▉                                                          | 3/10 [03:32<08:16, 70.89s/it]"
     ]
    },
    {
     "name": "stdout",
     "output_type": "stream",
     "text": [
      "=================================\n",
      "Initial portfolio value:100000\n",
      "Final portfolio value: 719467.0625\n",
      "Final accumulative portfolio value: 7.194670625\n",
      "Maximum DrawDown: -0.32271479658309754\n",
      "Sharpe ratio: 1.0768796711903335\n",
      "=================================\n"
     ]
    },
    {
     "name": "stderr",
     "output_type": "stream",
     "text": [
      "\r",
      " 40%|█████████████████████████████████▏                                                 | 4/10 [04:42<07:03, 70.57s/it]"
     ]
    },
    {
     "name": "stdout",
     "output_type": "stream",
     "text": [
      "=================================\n",
      "Initial portfolio value:100000\n",
      "Final portfolio value: 926028.0\n",
      "Final accumulative portfolio value: 9.26028\n",
      "Maximum DrawDown: -0.34556980084813715\n",
      "Sharpe ratio: 1.1256779028371067\n",
      "=================================\n"
     ]
    },
    {
     "name": "stderr",
     "output_type": "stream",
     "text": [
      "\r",
      " 50%|█████████████████████████████████████████▌                                         | 5/10 [05:52<05:52, 70.42s/it]"
     ]
    },
    {
     "name": "stdout",
     "output_type": "stream",
     "text": [
      "=================================\n",
      "Initial portfolio value:100000\n",
      "Final portfolio value: 1244227.75\n",
      "Final accumulative portfolio value: 12.4422775\n",
      "Maximum DrawDown: -0.32924608098626806\n",
      "Sharpe ratio: 1.1915146146858484\n",
      "=================================\n"
     ]
    },
    {
     "name": "stderr",
     "output_type": "stream",
     "text": [
      "\r",
      " 60%|█████████████████████████████████████████████████▊                                 | 6/10 [07:03<04:42, 70.65s/it]"
     ]
    },
    {
     "name": "stdout",
     "output_type": "stream",
     "text": [
      "=================================\n",
      "Initial portfolio value:100000\n",
      "Final portfolio value: 1636181.125\n",
      "Final accumulative portfolio value: 16.36181125\n",
      "Maximum DrawDown: -0.31700498049858317\n",
      "Sharpe ratio: 1.2808685061877736\n",
      "=================================\n"
     ]
    },
    {
     "name": "stderr",
     "output_type": "stream",
     "text": [
      "\r",
      " 70%|██████████████████████████████████████████████████████████                         | 7/10 [08:14<03:31, 70.53s/it]"
     ]
    },
    {
     "name": "stdout",
     "output_type": "stream",
     "text": [
      "=================================\n",
      "Initial portfolio value:100000\n",
      "Final portfolio value: 2042499.375\n",
      "Final accumulative portfolio value: 20.42499375\n",
      "Maximum DrawDown: -0.3144975759211379\n",
      "Sharpe ratio: 1.329889626126276\n",
      "=================================\n"
     ]
    },
    {
     "name": "stderr",
     "output_type": "stream",
     "text": [
      "\r",
      " 80%|██████████████████████████████████████████████████████████████████▍                | 8/10 [09:24<02:21, 70.50s/it]"
     ]
    },
    {
     "name": "stdout",
     "output_type": "stream",
     "text": [
      "=================================\n",
      "Initial portfolio value:100000\n",
      "Final portfolio value: 2170316.0\n",
      "Final accumulative portfolio value: 21.70316\n",
      "Maximum DrawDown: -0.3143691737225588\n",
      "Sharpe ratio: 1.3335052575023598\n",
      "=================================\n"
     ]
    },
    {
     "name": "stderr",
     "output_type": "stream",
     "text": [
      "\r",
      " 90%|██████████████████████████████████████████████████████████████████████████▋        | 9/10 [10:36<01:10, 70.81s/it]"
     ]
    },
    {
     "name": "stdout",
     "output_type": "stream",
     "text": [
      "=================================\n",
      "Initial portfolio value:100000\n",
      "Final portfolio value: 2424937.75\n",
      "Final accumulative portfolio value: 24.2493775\n",
      "Maximum DrawDown: -0.31432991833614965\n",
      "Sharpe ratio: 1.3627582098502649\n",
      "=================================\n"
     ]
    },
    {
     "name": "stderr",
     "output_type": "stream",
     "text": [
      "100%|██████████████████████████████████████████████████████████████████████████████████| 10/10 [11:45<00:00, 70.60s/it]\n"
     ]
    },
    {
     "name": "stdout",
     "output_type": "stream",
     "text": [
      "=================================\n",
      "Initial portfolio value:100000\n",
      "Final portfolio value: 327772.21875\n",
      "Final accumulative portfolio value: 3.2777221875\n",
      "Maximum DrawDown: -0.33306145573838597\n",
      "Sharpe ratio: 0.798435807508193\n",
      "=================================\n",
      "=================================\n",
      "Initial portfolio value:100000\n",
      "Final portfolio value: 134846.453125\n",
      "Final accumulative portfolio value: 1.34846453125\n",
      "Maximum DrawDown: -0.0409173629296693\n",
      "Sharpe ratio: 2.7707147853070664\n",
      "=================================\n",
      "=================================\n",
      "Initial portfolio value:100000\n",
      "Final portfolio value: 98625.546875\n",
      "Final accumulative portfolio value: 0.98625546875\n",
      "Maximum DrawDown: -0.14627775236909213\n",
      "Sharpe ratio: 0.02043183189276173\n",
      "=================================\n",
      "=================================\n",
      "Initial portfolio value:100000\n",
      "Final portfolio value: 109603.8203125\n",
      "Final accumulative portfolio value: 1.096038203125\n",
      "Maximum DrawDown: -0.09467152403536472\n",
      "Sharpe ratio: 0.9141096842644745\n",
      "=================================\n"
     ]
    },
    {
     "name": "stderr",
     "output_type": "stream",
     "text": [
      "\r",
      "  0%|                                                                                           | 0/10 [00:00<?, ?it/s]"
     ]
    },
    {
     "name": "stdout",
     "output_type": "stream",
     "text": [
      "=================================\n",
      "Initial portfolio value:100000\n",
      "Final portfolio value: 393804.09375\n",
      "Final accumulative portfolio value: 3.9380409375\n",
      "Maximum DrawDown: -0.3071213457008638\n",
      "Sharpe ratio: 0.8788378703122386\n",
      "=================================\n"
     ]
    },
    {
     "name": "stderr",
     "output_type": "stream",
     "text": [
      "\r",
      " 10%|████████▎                                                                          | 1/10 [01:11<10:39, 71.01s/it]"
     ]
    },
    {
     "name": "stdout",
     "output_type": "stream",
     "text": [
      "=================================\n",
      "Initial portfolio value:100000\n",
      "Final portfolio value: 610394.5625\n",
      "Final accumulative portfolio value: 6.103945625\n",
      "Maximum DrawDown: -0.2964278151870553\n",
      "Sharpe ratio: 1.038019638422461\n",
      "=================================\n"
     ]
    },
    {
     "name": "stderr",
     "output_type": "stream",
     "text": [
      "\r",
      " 20%|████████████████▌                                                                  | 2/10 [02:21<09:26, 70.81s/it]"
     ]
    },
    {
     "name": "stdout",
     "output_type": "stream",
     "text": [
      "=================================\n",
      "Initial portfolio value:100000\n",
      "Final portfolio value: 890321.6875\n",
      "Final accumulative portfolio value: 8.903216875\n",
      "Maximum DrawDown: -0.3120627385710002\n",
      "Sharpe ratio: 1.129256514217077\n",
      "=================================\n"
     ]
    },
    {
     "name": "stderr",
     "output_type": "stream",
     "text": [
      "\r",
      " 30%|████████████████████████▉                                                          | 3/10 [03:31<08:13, 70.53s/it]"
     ]
    },
    {
     "name": "stdout",
     "output_type": "stream",
     "text": [
      "=================================\n",
      "Initial portfolio value:100000\n",
      "Final portfolio value: 1019728.0625\n",
      "Final accumulative portfolio value: 10.197280625\n",
      "Maximum DrawDown: -0.347533215818281\n",
      "Sharpe ratio: 1.08310370344531\n",
      "=================================\n"
     ]
    },
    {
     "name": "stderr",
     "output_type": "stream",
     "text": [
      "\r",
      " 40%|█████████████████████████████████▏                                                 | 4/10 [04:42<07:02, 70.42s/it]"
     ]
    },
    {
     "name": "stdout",
     "output_type": "stream",
     "text": [
      "=================================\n",
      "Initial portfolio value:100000\n",
      "Final portfolio value: 1181550.75\n",
      "Final accumulative portfolio value: 11.8155075\n",
      "Maximum DrawDown: -0.3281590034639902\n",
      "Sharpe ratio: 1.1481933183791573\n",
      "=================================\n"
     ]
    },
    {
     "name": "stderr",
     "output_type": "stream",
     "text": [
      "\r",
      " 50%|█████████████████████████████████████████▌                                         | 5/10 [05:54<05:55, 71.13s/it]"
     ]
    },
    {
     "name": "stdout",
     "output_type": "stream",
     "text": [
      "=================================\n",
      "Initial portfolio value:100000\n",
      "Final portfolio value: 1319543.875\n",
      "Final accumulative portfolio value: 13.19543875\n",
      "Maximum DrawDown: -0.3631466494989254\n",
      "Sharpe ratio: 1.1305638244585587\n",
      "=================================\n"
     ]
    },
    {
     "name": "stderr",
     "output_type": "stream",
     "text": [
      "\r",
      " 60%|█████████████████████████████████████████████████▊                                 | 6/10 [07:04<04:43, 70.77s/it]"
     ]
    },
    {
     "name": "stdout",
     "output_type": "stream",
     "text": [
      "=================================\n",
      "Initial portfolio value:100000\n",
      "Final portfolio value: 1453848.875\n",
      "Final accumulative portfolio value: 14.53848875\n",
      "Maximum DrawDown: -0.37844778640735455\n",
      "Sharpe ratio: 1.1659828501262612\n",
      "=================================\n"
     ]
    },
    {
     "name": "stderr",
     "output_type": "stream",
     "text": [
      "\r",
      " 70%|██████████████████████████████████████████████████████████                         | 7/10 [08:14<03:31, 70.55s/it]"
     ]
    },
    {
     "name": "stdout",
     "output_type": "stream",
     "text": [
      "=================================\n",
      "Initial portfolio value:100000\n",
      "Final portfolio value: 1547334.75\n",
      "Final accumulative portfolio value: 15.4733475\n",
      "Maximum DrawDown: -0.4051816784509321\n",
      "Sharpe ratio: 1.1841086953282935\n",
      "=================================\n"
     ]
    },
    {
     "name": "stderr",
     "output_type": "stream",
     "text": [
      "\r",
      " 80%|██████████████████████████████████████████████████████████████████▍                | 8/10 [09:25<02:21, 70.76s/it]"
     ]
    },
    {
     "name": "stdout",
     "output_type": "stream",
     "text": [
      "=================================\n",
      "Initial portfolio value:100000\n",
      "Final portfolio value: 1725279.125\n",
      "Final accumulative portfolio value: 17.25279125\n",
      "Maximum DrawDown: -0.422441534485816\n",
      "Sharpe ratio: 1.1930500928279928\n",
      "=================================\n"
     ]
    },
    {
     "name": "stderr",
     "output_type": "stream",
     "text": [
      "\r",
      " 90%|██████████████████████████████████████████████████████████████████████████▋        | 9/10 [10:36<01:10, 70.69s/it]"
     ]
    },
    {
     "name": "stdout",
     "output_type": "stream",
     "text": [
      "=================================\n",
      "Initial portfolio value:100000\n",
      "Final portfolio value: 1739563.25\n",
      "Final accumulative portfolio value: 17.3956325\n",
      "Maximum DrawDown: -0.4328714151313344\n",
      "Sharpe ratio: 1.2041064939180184\n",
      "=================================\n"
     ]
    },
    {
     "name": "stderr",
     "output_type": "stream",
     "text": [
      "100%|██████████████████████████████████████████████████████████████████████████████████| 10/10 [11:47<00:00, 70.70s/it]\n"
     ]
    },
    {
     "name": "stdout",
     "output_type": "stream",
     "text": [
      "=================================\n",
      "Initial portfolio value:100000\n",
      "Final portfolio value: 389171.875\n",
      "Final accumulative portfolio value: 3.89171875\n",
      "Maximum DrawDown: -0.296021876024956\n",
      "Sharpe ratio: 0.8365012693958712\n",
      "=================================\n",
      "=================================\n",
      "Initial portfolio value:100000\n",
      "Final portfolio value: 134990.546875\n",
      "Final accumulative portfolio value: 1.34990546875\n",
      "Maximum DrawDown: -0.04146750436504021\n",
      "Sharpe ratio: 2.7684695474476415\n",
      "=================================\n",
      "=================================\n",
      "Initial portfolio value:100000\n",
      "Final portfolio value: 98556.6953125\n",
      "Final accumulative portfolio value: 0.985566953125\n",
      "Maximum DrawDown: -0.14166420412203384\n",
      "Sharpe ratio: 0.011134638951985265\n",
      "=================================\n",
      "=================================\n",
      "Initial portfolio value:100000\n",
      "Final portfolio value: 109105.8828125\n",
      "Final accumulative portfolio value: 1.091058828125\n",
      "Maximum DrawDown: -0.09105994388445293\n",
      "Sharpe ratio: 0.892612252174454\n",
      "=================================\n"
     ]
    },
    {
     "name": "stderr",
     "output_type": "stream",
     "text": [
      "\r",
      "  0%|                                                                                           | 0/10 [00:00<?, ?it/s]"
     ]
    },
    {
     "name": "stdout",
     "output_type": "stream",
     "text": [
      "=================================\n",
      "Initial portfolio value:100000\n",
      "Final portfolio value: 342953.65625\n",
      "Final accumulative portfolio value: 3.4295365625\n",
      "Maximum DrawDown: -0.3353722887836461\n",
      "Sharpe ratio: 0.8114913146182836\n",
      "=================================\n"
     ]
    },
    {
     "name": "stderr",
     "output_type": "stream",
     "text": [
      "\r",
      " 10%|████████▎                                                                          | 1/10 [01:09<10:22, 69.20s/it]"
     ]
    },
    {
     "name": "stdout",
     "output_type": "stream",
     "text": [
      "=================================\n",
      "Initial portfolio value:100000\n",
      "Final portfolio value: 460813.9375\n",
      "Final accumulative portfolio value: 4.608139375\n",
      "Maximum DrawDown: -0.31093454037061163\n",
      "Sharpe ratio: 0.9292750803870945\n",
      "=================================\n"
     ]
    },
    {
     "name": "stderr",
     "output_type": "stream",
     "text": [
      "\r",
      " 20%|████████████████▌                                                                  | 2/10 [02:18<09:12, 69.05s/it]"
     ]
    },
    {
     "name": "stdout",
     "output_type": "stream",
     "text": [
      "=================================\n",
      "Initial portfolio value:100000\n",
      "Final portfolio value: 700052.6875\n",
      "Final accumulative portfolio value: 7.000526875\n",
      "Maximum DrawDown: -0.32696275964051424\n",
      "Sharpe ratio: 1.0658450939110602\n",
      "=================================\n"
     ]
    },
    {
     "name": "stderr",
     "output_type": "stream",
     "text": [
      "\r",
      " 30%|████████████████████████▉                                                          | 3/10 [03:27<08:05, 69.31s/it]"
     ]
    },
    {
     "name": "stdout",
     "output_type": "stream",
     "text": [
      "=================================\n",
      "Initial portfolio value:100000\n",
      "Final portfolio value: 1007143.9375\n",
      "Final accumulative portfolio value: 10.071439375\n",
      "Maximum DrawDown: -0.35754564079369155\n",
      "Sharpe ratio: 1.083259974724144\n",
      "=================================\n"
     ]
    },
    {
     "name": "stderr",
     "output_type": "stream",
     "text": [
      "\r",
      " 40%|█████████████████████████████████▏                                                 | 4/10 [04:37<06:57, 69.56s/it]"
     ]
    },
    {
     "name": "stdout",
     "output_type": "stream",
     "text": [
      "=================================\n",
      "Initial portfolio value:100000\n",
      "Final portfolio value: 1279339.5\n",
      "Final accumulative portfolio value: 12.793395\n",
      "Maximum DrawDown: -0.31924515014264054\n",
      "Sharpe ratio: 1.1731514340577032\n",
      "=================================\n"
     ]
    },
    {
     "name": "stderr",
     "output_type": "stream",
     "text": [
      "\r",
      " 50%|█████████████████████████████████████████▌                                         | 5/10 [05:46<05:45, 69.11s/it]"
     ]
    },
    {
     "name": "stdout",
     "output_type": "stream",
     "text": [
      "=================================\n",
      "Initial portfolio value:100000\n",
      "Final portfolio value: 1601885.0\n",
      "Final accumulative portfolio value: 16.01885\n",
      "Maximum DrawDown: -0.3267661419215947\n",
      "Sharpe ratio: 1.221478677006984\n",
      "=================================\n"
     ]
    },
    {
     "name": "stderr",
     "output_type": "stream",
     "text": [
      "\r",
      " 60%|█████████████████████████████████████████████████▊                                 | 6/10 [06:55<04:36, 69.07s/it]"
     ]
    },
    {
     "name": "stdout",
     "output_type": "stream",
     "text": [
      "=================================\n",
      "Initial portfolio value:100000\n",
      "Final portfolio value: 1785286.25\n",
      "Final accumulative portfolio value: 17.8528625\n",
      "Maximum DrawDown: -0.33672854696294385\n",
      "Sharpe ratio: 1.259412571570674\n",
      "=================================\n"
     ]
    },
    {
     "name": "stderr",
     "output_type": "stream",
     "text": [
      "\r",
      " 70%|██████████████████████████████████████████████████████████                         | 7/10 [08:03<03:26, 68.98s/it]"
     ]
    },
    {
     "name": "stdout",
     "output_type": "stream",
     "text": [
      "=================================\n",
      "Initial portfolio value:100000\n",
      "Final portfolio value: 2328992.5\n",
      "Final accumulative portfolio value: 23.289925\n",
      "Maximum DrawDown: -0.31453151508733024\n",
      "Sharpe ratio: 1.3541562563421183\n",
      "=================================\n"
     ]
    },
    {
     "name": "stderr",
     "output_type": "stream",
     "text": [
      "\r",
      " 80%|██████████████████████████████████████████████████████████████████▍                | 8/10 [09:13<02:18, 69.12s/it]"
     ]
    },
    {
     "name": "stdout",
     "output_type": "stream",
     "text": [
      "=================================\n",
      "Initial portfolio value:100000\n",
      "Final portfolio value: 2365036.0\n",
      "Final accumulative portfolio value: 23.65036\n",
      "Maximum DrawDown: -0.31431601479805005\n",
      "Sharpe ratio: 1.3323459300862897\n",
      "=================================\n"
     ]
    },
    {
     "name": "stderr",
     "output_type": "stream",
     "text": [
      "\r",
      " 90%|██████████████████████████████████████████████████████████████████████████▋        | 9/10 [10:22<01:09, 69.06s/it]"
     ]
    },
    {
     "name": "stdout",
     "output_type": "stream",
     "text": [
      "=================================\n",
      "Initial portfolio value:100000\n",
      "Final portfolio value: 2331918.25\n",
      "Final accumulative portfolio value: 23.3191825\n",
      "Maximum DrawDown: -0.31427528558656914\n",
      "Sharpe ratio: 1.333288791252116\n",
      "=================================\n"
     ]
    },
    {
     "name": "stderr",
     "output_type": "stream",
     "text": [
      "100%|██████████████████████████████████████████████████████████████████████████████████| 10/10 [11:31<00:00, 69.10s/it]\n"
     ]
    },
    {
     "name": "stdout",
     "output_type": "stream",
     "text": [
      "=================================\n",
      "Initial portfolio value:100000\n",
      "Final portfolio value: 281228.9375\n",
      "Final accumulative portfolio value: 2.812289375\n",
      "Maximum DrawDown: -0.31979625324066696\n",
      "Sharpe ratio: 0.6753165739902744\n",
      "=================================\n",
      "=================================\n",
      "Initial portfolio value:100000\n",
      "Final portfolio value: 135235.078125\n",
      "Final accumulative portfolio value: 1.35235078125\n",
      "Maximum DrawDown: -0.04440151179041418\n",
      "Sharpe ratio: 2.737235573939742\n",
      "=================================\n",
      "=================================\n",
      "Initial portfolio value:100000\n",
      "Final portfolio value: 98016.265625\n",
      "Final accumulative portfolio value: 0.98016265625\n",
      "Maximum DrawDown: -0.12779752810633316\n",
      "Sharpe ratio: -0.03925210974357362\n",
      "=================================\n",
      "=================================\n",
      "Initial portfolio value:100000\n",
      "Final portfolio value: 109522.4375\n",
      "Final accumulative portfolio value: 1.095224375\n",
      "Maximum DrawDown: -0.09477788254452768\n",
      "Sharpe ratio: 0.9085460492625734\n",
      "=================================\n"
     ]
    },
    {
     "name": "stderr",
     "output_type": "stream",
     "text": [
      "\r",
      "  0%|                                                                                           | 0/10 [00:00<?, ?it/s]"
     ]
    },
    {
     "name": "stdout",
     "output_type": "stream",
     "text": [
      "=================================\n",
      "Initial portfolio value:100000\n",
      "Final portfolio value: 366667.65625\n",
      "Final accumulative portfolio value: 3.6666765625\n",
      "Maximum DrawDown: -0.32669717169531476\n",
      "Sharpe ratio: 0.842533361596148\n",
      "=================================\n"
     ]
    },
    {
     "name": "stderr",
     "output_type": "stream",
     "text": [
      "\r",
      " 10%|████████▎                                                                          | 1/10 [01:11<10:39, 71.11s/it]"
     ]
    },
    {
     "name": "stdout",
     "output_type": "stream",
     "text": [
      "=================================\n",
      "Initial portfolio value:100000\n",
      "Final portfolio value: 516394.125\n",
      "Final accumulative portfolio value: 5.16394125\n",
      "Maximum DrawDown: -0.30363936564024907\n",
      "Sharpe ratio: 0.9815509701202939\n",
      "=================================\n"
     ]
    },
    {
     "name": "stderr",
     "output_type": "stream",
     "text": [
      "\r",
      " 20%|████████████████▌                                                                  | 2/10 [02:21<09:25, 70.69s/it]"
     ]
    },
    {
     "name": "stdout",
     "output_type": "stream",
     "text": [
      "=================================\n",
      "Initial portfolio value:100000\n",
      "Final portfolio value: 715191.125\n",
      "Final accumulative portfolio value: 7.15191125\n",
      "Maximum DrawDown: -0.3136983127382599\n",
      "Sharpe ratio: 1.0768764546427065\n",
      "=================================\n"
     ]
    },
    {
     "name": "stderr",
     "output_type": "stream",
     "text": [
      "\r",
      " 30%|████████████████████████▉                                                          | 3/10 [03:31<08:14, 70.60s/it]"
     ]
    },
    {
     "name": "stdout",
     "output_type": "stream",
     "text": [
      "=================================\n",
      "Initial portfolio value:100000\n",
      "Final portfolio value: 900898.625\n",
      "Final accumulative portfolio value: 9.00898625\n",
      "Maximum DrawDown: -0.343557106240862\n",
      "Sharpe ratio: 1.1038124275284802\n",
      "=================================\n"
     ]
    },
    {
     "name": "stderr",
     "output_type": "stream",
     "text": [
      "\r",
      " 40%|█████████████████████████████████▏                                                 | 4/10 [04:42<07:04, 70.73s/it]"
     ]
    },
    {
     "name": "stdout",
     "output_type": "stream",
     "text": [
      "=================================\n",
      "Initial portfolio value:100000\n",
      "Final portfolio value: 1057725.375\n",
      "Final accumulative portfolio value: 10.57725375\n",
      "Maximum DrawDown: -0.3326339501913288\n",
      "Sharpe ratio: 1.1230986597867125\n",
      "=================================\n"
     ]
    },
    {
     "name": "stderr",
     "output_type": "stream",
     "text": [
      "\r",
      " 50%|█████████████████████████████████████████▌                                         | 5/10 [05:53<05:53, 70.79s/it]"
     ]
    },
    {
     "name": "stdout",
     "output_type": "stream",
     "text": [
      "=================================\n",
      "Initial portfolio value:100000\n",
      "Final portfolio value: 1267362.5\n",
      "Final accumulative portfolio value: 12.673625\n",
      "Maximum DrawDown: -0.3182834084520051\n",
      "Sharpe ratio: 1.1657598900153539\n",
      "=================================\n"
     ]
    },
    {
     "name": "stderr",
     "output_type": "stream",
     "text": [
      "\r",
      " 60%|█████████████████████████████████████████████████▊                                 | 6/10 [07:03<04:42, 70.51s/it]"
     ]
    },
    {
     "name": "stdout",
     "output_type": "stream",
     "text": [
      "=================================\n",
      "Initial portfolio value:100000\n",
      "Final portfolio value: 1431189.25\n",
      "Final accumulative portfolio value: 14.3118925\n",
      "Maximum DrawDown: -0.3361331539339203\n",
      "Sharpe ratio: 1.180543754049782\n",
      "=================================\n"
     ]
    },
    {
     "name": "stderr",
     "output_type": "stream",
     "text": [
      "\r",
      " 70%|██████████████████████████████████████████████████████████                         | 7/10 [08:13<03:31, 70.35s/it]"
     ]
    },
    {
     "name": "stdout",
     "output_type": "stream",
     "text": [
      "=================================\n",
      "Initial portfolio value:100000\n",
      "Final portfolio value: 1487195.0\n",
      "Final accumulative portfolio value: 14.87195\n",
      "Maximum DrawDown: -0.34515108041569076\n",
      "Sharpe ratio: 1.1784651549486385\n",
      "=================================\n"
     ]
    },
    {
     "name": "stderr",
     "output_type": "stream",
     "text": [
      "\r",
      " 80%|██████████████████████████████████████████████████████████████████▍                | 8/10 [09:24<02:20, 70.42s/it]"
     ]
    },
    {
     "name": "stdout",
     "output_type": "stream",
     "text": [
      "=================================\n",
      "Initial portfolio value:100000\n",
      "Final portfolio value: 1836093.125\n",
      "Final accumulative portfolio value: 18.36093125\n",
      "Maximum DrawDown: -0.31466678905029555\n",
      "Sharpe ratio: 1.2480626081250972\n",
      "=================================\n"
     ]
    },
    {
     "name": "stderr",
     "output_type": "stream",
     "text": [
      "\r",
      " 90%|██████████████████████████████████████████████████████████████████████████▋        | 9/10 [10:35<01:10, 70.79s/it]"
     ]
    },
    {
     "name": "stdout",
     "output_type": "stream",
     "text": [
      "=================================\n",
      "Initial portfolio value:100000\n",
      "Final portfolio value: 1701307.625\n",
      "Final accumulative portfolio value: 17.01307625\n",
      "Maximum DrawDown: -0.37253511254880467\n",
      "Sharpe ratio: 1.2143860018203823\n",
      "=================================\n"
     ]
    },
    {
     "name": "stderr",
     "output_type": "stream",
     "text": [
      "100%|██████████████████████████████████████████████████████████████████████████████████| 10/10 [11:46<00:00, 70.69s/it]\n"
     ]
    },
    {
     "name": "stdout",
     "output_type": "stream",
     "text": [
      "=================================\n",
      "Initial portfolio value:100000\n",
      "Final portfolio value: 358541.28125\n",
      "Final accumulative portfolio value: 3.5854128125\n",
      "Maximum DrawDown: -0.3003744891677351\n",
      "Sharpe ratio: 0.8076589414879395\n",
      "=================================\n",
      "=================================\n",
      "Initial portfolio value:100000\n",
      "Final portfolio value: 134136.5\n",
      "Final accumulative portfolio value: 1.341365\n",
      "Maximum DrawDown: -0.04065807984315639\n",
      "Sharpe ratio: 2.7677386460414968\n",
      "=================================\n",
      "=================================\n",
      "Initial portfolio value:100000\n",
      "Final portfolio value: 99048.84375\n",
      "Final accumulative portfolio value: 0.9904884375\n",
      "Maximum DrawDown: -0.1428162313855651\n",
      "Sharpe ratio: 0.04072438271204925\n",
      "=================================\n",
      "=================================\n",
      "Initial portfolio value:100000\n",
      "Final portfolio value: 109531.1640625\n",
      "Final accumulative portfolio value: 1.095311640625\n",
      "Maximum DrawDown: -0.09076152282097083\n",
      "Sharpe ratio: 0.9388798735035895\n",
      "=================================\n"
     ]
    },
    {
     "name": "stderr",
     "output_type": "stream",
     "text": [
      "\r",
      "  0%|                                                                                           | 0/10 [00:00<?, ?it/s]"
     ]
    },
    {
     "name": "stdout",
     "output_type": "stream",
     "text": [
      "=================================\n",
      "Initial portfolio value:100000\n",
      "Final portfolio value: 361597.625\n",
      "Final accumulative portfolio value: 3.61597625\n",
      "Maximum DrawDown: -0.3288323886633453\n",
      "Sharpe ratio: 0.8358946022211344\n",
      "=================================\n"
     ]
    },
    {
     "name": "stderr",
     "output_type": "stream",
     "text": [
      "\r",
      " 10%|████████▎                                                                          | 1/10 [01:10<10:34, 70.46s/it]"
     ]
    },
    {
     "name": "stdout",
     "output_type": "stream",
     "text": [
      "=================================\n",
      "Initial portfolio value:100000\n",
      "Final portfolio value: 482788.53125\n",
      "Final accumulative portfolio value: 4.8278853125\n",
      "Maximum DrawDown: -0.30482253917735913\n",
      "Sharpe ratio: 0.959848176142802\n",
      "=================================\n"
     ]
    },
    {
     "name": "stderr",
     "output_type": "stream",
     "text": [
      "\r",
      " 20%|████████████████▌                                                                  | 2/10 [02:20<09:22, 70.30s/it]"
     ]
    },
    {
     "name": "stdout",
     "output_type": "stream",
     "text": [
      "=================================\n",
      "Initial portfolio value:100000\n",
      "Final portfolio value: 649213.0\n",
      "Final accumulative portfolio value: 6.49213\n",
      "Maximum DrawDown: -0.3058761777557726\n",
      "Sharpe ratio: 1.0566799515412695\n",
      "=================================\n"
     ]
    },
    {
     "name": "stderr",
     "output_type": "stream",
     "text": [
      "\r",
      " 30%|████████████████████████▉                                                          | 3/10 [03:30<08:11, 70.25s/it]"
     ]
    },
    {
     "name": "stdout",
     "output_type": "stream",
     "text": [
      "=================================\n",
      "Initial portfolio value:100000\n",
      "Final portfolio value: 837306.75\n",
      "Final accumulative portfolio value: 8.3730675\n",
      "Maximum DrawDown: -0.3225001378142832\n",
      "Sharpe ratio: 1.119738817253214\n",
      "=================================\n"
     ]
    },
    {
     "name": "stderr",
     "output_type": "stream",
     "text": [
      "\r",
      " 40%|█████████████████████████████████▏                                                 | 4/10 [04:40<07:00, 70.05s/it]"
     ]
    },
    {
     "name": "stdout",
     "output_type": "stream",
     "text": [
      "=================================\n",
      "Initial portfolio value:100000\n",
      "Final portfolio value: 1016116.6875\n",
      "Final accumulative portfolio value: 10.161166875\n",
      "Maximum DrawDown: -0.3456506542225498\n",
      "Sharpe ratio: 1.1261630527700381\n",
      "=================================\n"
     ]
    },
    {
     "name": "stderr",
     "output_type": "stream",
     "text": [
      "\r",
      " 50%|█████████████████████████████████████████▌                                         | 5/10 [05:50<05:50, 70.06s/it]"
     ]
    },
    {
     "name": "stdout",
     "output_type": "stream",
     "text": [
      "=================================\n",
      "Initial portfolio value:100000\n",
      "Final portfolio value: 1238150.375\n",
      "Final accumulative portfolio value: 12.38150375\n",
      "Maximum DrawDown: -0.3268785557658265\n",
      "Sharpe ratio: 1.174643907901331\n",
      "=================================\n"
     ]
    },
    {
     "name": "stderr",
     "output_type": "stream",
     "text": [
      "\r",
      " 60%|█████████████████████████████████████████████████▊                                 | 6/10 [07:01<04:40, 70.16s/it]"
     ]
    },
    {
     "name": "stdout",
     "output_type": "stream",
     "text": [
      "=================================\n",
      "Initial portfolio value:100000\n",
      "Final portfolio value: 1487317.5\n",
      "Final accumulative portfolio value: 14.873175\n",
      "Maximum DrawDown: -0.31910030794416444\n",
      "Sharpe ratio: 1.218334573650594\n",
      "=================================\n"
     ]
    },
    {
     "name": "stderr",
     "output_type": "stream",
     "text": [
      "\r",
      " 70%|██████████████████████████████████████████████████████████                         | 7/10 [08:10<03:30, 70.09s/it]"
     ]
    },
    {
     "name": "stdout",
     "output_type": "stream",
     "text": [
      "=================================\n",
      "Initial portfolio value:100000\n",
      "Final portfolio value: 1722677.125\n",
      "Final accumulative portfolio value: 17.22677125\n",
      "Maximum DrawDown: -0.31615878544997367\n",
      "Sharpe ratio: 1.2601701265962513\n",
      "=================================\n"
     ]
    },
    {
     "name": "stderr",
     "output_type": "stream",
     "text": [
      "\r",
      " 80%|██████████████████████████████████████████████████████████████████▍                | 8/10 [09:21<02:20, 70.12s/it]"
     ]
    },
    {
     "name": "stdout",
     "output_type": "stream",
     "text": [
      "=================================\n",
      "Initial portfolio value:100000\n",
      "Final portfolio value: 2188793.0\n",
      "Final accumulative portfolio value: 21.88793\n",
      "Maximum DrawDown: -0.31492194569130827\n",
      "Sharpe ratio: 1.3470243469225942\n",
      "=================================\n"
     ]
    },
    {
     "name": "stderr",
     "output_type": "stream",
     "text": [
      "\r",
      " 90%|██████████████████████████████████████████████████████████████████████████▋        | 9/10 [10:32<01:10, 70.47s/it]"
     ]
    },
    {
     "name": "stdout",
     "output_type": "stream",
     "text": [
      "=================================\n",
      "Initial portfolio value:100000\n",
      "Final portfolio value: 2377140.75\n",
      "Final accumulative portfolio value: 23.7714075\n",
      "Maximum DrawDown: -0.3143793249022595\n",
      "Sharpe ratio: 1.3561978426322\n",
      "=================================\n"
     ]
    },
    {
     "name": "stderr",
     "output_type": "stream",
     "text": [
      "100%|██████████████████████████████████████████████████████████████████████████████████| 10/10 [11:43<00:00, 70.35s/it]\n"
     ]
    },
    {
     "name": "stdout",
     "output_type": "stream",
     "text": [
      "=================================\n",
      "Initial portfolio value:100000\n",
      "Final portfolio value: 578455.875\n",
      "Final accumulative portfolio value: 5.78455875\n",
      "Maximum DrawDown: -0.4348977603318849\n",
      "Sharpe ratio: 0.818977073428486\n",
      "=================================\n",
      "=================================\n",
      "Initial portfolio value:100000\n",
      "Final portfolio value: 135532.890625\n",
      "Final accumulative portfolio value: 1.35532890625\n",
      "Maximum DrawDown: -0.044377166618001285\n",
      "Sharpe ratio: 2.7251677062467\n",
      "=================================\n",
      "=================================\n",
      "Initial portfolio value:100000\n",
      "Final portfolio value: 98823.6796875\n",
      "Final accumulative portfolio value: 0.988236796875\n",
      "Maximum DrawDown: -0.12098015256384587\n",
      "Sharpe ratio: 0.007244616580400413\n",
      "=================================\n",
      "=================================\n",
      "Initial portfolio value:100000\n",
      "Final portfolio value: 111450.046875\n",
      "Final accumulative portfolio value: 1.11450046875\n",
      "Maximum DrawDown: -0.09992042013036528\n",
      "Sharpe ratio: 1.0422871756685195\n",
      "=================================\n"
     ]
    },
    {
     "name": "stderr",
     "output_type": "stream",
     "text": [
      "\r",
      "  0%|                                                                                           | 0/10 [00:00<?, ?it/s]"
     ]
    },
    {
     "name": "stdout",
     "output_type": "stream",
     "text": [
      "=================================\n",
      "Initial portfolio value:100000\n",
      "Final portfolio value: 338142.15625\n",
      "Final accumulative portfolio value: 3.3814215625\n",
      "Maximum DrawDown: -0.32818478858671885\n",
      "Sharpe ratio: 0.8135879470915863\n",
      "=================================\n"
     ]
    },
    {
     "name": "stderr",
     "output_type": "stream",
     "text": [
      "\r",
      " 10%|████████▎                                                                          | 1/10 [01:09<10:21, 69.10s/it]"
     ]
    },
    {
     "name": "stdout",
     "output_type": "stream",
     "text": [
      "=================================\n",
      "Initial portfolio value:100000\n",
      "Final portfolio value: 471472.15625\n",
      "Final accumulative portfolio value: 4.7147215625\n",
      "Maximum DrawDown: -0.2957494502227299\n",
      "Sharpe ratio: 0.9371520103959822\n",
      "=================================\n"
     ]
    },
    {
     "name": "stderr",
     "output_type": "stream",
     "text": [
      "\r",
      " 20%|████████████████▌                                                                  | 2/10 [02:17<09:11, 68.97s/it]"
     ]
    },
    {
     "name": "stdout",
     "output_type": "stream",
     "text": [
      "=================================\n",
      "Initial portfolio value:100000\n",
      "Final portfolio value: 730800.375\n",
      "Final accumulative portfolio value: 7.30800375\n",
      "Maximum DrawDown: -0.32404975912745315\n",
      "Sharpe ratio: 1.078897019368196\n",
      "=================================\n"
     ]
    },
    {
     "name": "stderr",
     "output_type": "stream",
     "text": [
      "\r",
      " 30%|████████████████████████▉                                                          | 3/10 [03:27<08:03, 69.13s/it]"
     ]
    },
    {
     "name": "stdout",
     "output_type": "stream",
     "text": [
      "=================================\n",
      "Initial portfolio value:100000\n",
      "Final portfolio value: 909672.0\n",
      "Final accumulative portfolio value: 9.09672\n",
      "Maximum DrawDown: -0.3577758173848944\n",
      "Sharpe ratio: 1.0370205380416213\n",
      "=================================\n"
     ]
    },
    {
     "name": "stderr",
     "output_type": "stream",
     "text": [
      "\r",
      " 40%|█████████████████████████████████▏                                                 | 4/10 [04:35<06:53, 68.84s/it]"
     ]
    },
    {
     "name": "stdout",
     "output_type": "stream",
     "text": [
      "=================================\n",
      "Initial portfolio value:100000\n",
      "Final portfolio value: 1194373.0\n",
      "Final accumulative portfolio value: 11.94373\n",
      "Maximum DrawDown: -0.30994234494494044\n",
      "Sharpe ratio: 1.1561683733366348\n",
      "=================================\n"
     ]
    },
    {
     "name": "stderr",
     "output_type": "stream",
     "text": [
      "\r",
      " 50%|█████████████████████████████████████████▌                                         | 5/10 [05:44<05:43, 68.69s/it]"
     ]
    },
    {
     "name": "stdout",
     "output_type": "stream",
     "text": [
      "=================================\n",
      "Initial portfolio value:100000\n",
      "Final portfolio value: 1444369.875\n",
      "Final accumulative portfolio value: 14.44369875\n",
      "Maximum DrawDown: -0.32988958342622776\n",
      "Sharpe ratio: 1.1825833957413272\n",
      "=================================\n"
     ]
    },
    {
     "name": "stderr",
     "output_type": "stream",
     "text": [
      "\r",
      " 60%|█████████████████████████████████████████████████▊                                 | 6/10 [06:52<04:34, 68.56s/it]"
     ]
    },
    {
     "name": "stdout",
     "output_type": "stream",
     "text": [
      "=================================\n",
      "Initial portfolio value:100000\n",
      "Final portfolio value: 1427501.0\n",
      "Final accumulative portfolio value: 14.27501\n",
      "Maximum DrawDown: -0.36656924966230486\n",
      "Sharpe ratio: 1.1649668921578558\n",
      "=================================\n"
     ]
    },
    {
     "name": "stderr",
     "output_type": "stream",
     "text": [
      "\r",
      " 70%|██████████████████████████████████████████████████████████                         | 7/10 [08:00<03:25, 68.46s/it]"
     ]
    },
    {
     "name": "stdout",
     "output_type": "stream",
     "text": [
      "=================================\n",
      "Initial portfolio value:100000\n",
      "Final portfolio value: 2083240.75\n",
      "Final accumulative portfolio value: 20.8324075\n",
      "Maximum DrawDown: -0.327377576624877\n",
      "Sharpe ratio: 1.299647367940407\n",
      "=================================\n"
     ]
    },
    {
     "name": "stderr",
     "output_type": "stream",
     "text": [
      "\r",
      " 80%|██████████████████████████████████████████████████████████████████▍                | 8/10 [09:09<02:17, 68.50s/it]"
     ]
    },
    {
     "name": "stdout",
     "output_type": "stream",
     "text": [
      "=================================\n",
      "Initial portfolio value:100000\n",
      "Final portfolio value: 1917859.5\n",
      "Final accumulative portfolio value: 19.178595\n",
      "Maximum DrawDown: -0.3142756819082987\n",
      "Sharpe ratio: 1.2648040813449444\n",
      "=================================\n"
     ]
    },
    {
     "name": "stderr",
     "output_type": "stream",
     "text": [
      "\r",
      " 90%|██████████████████████████████████████████████████████████████████████████▋        | 9/10 [10:17<01:08, 68.57s/it]"
     ]
    },
    {
     "name": "stdout",
     "output_type": "stream",
     "text": [
      "=================================\n",
      "Initial portfolio value:100000\n",
      "Final portfolio value: 2407186.5\n",
      "Final accumulative portfolio value: 24.071865\n",
      "Maximum DrawDown: -0.314272771014521\n",
      "Sharpe ratio: 1.3351312644162743\n",
      "=================================\n"
     ]
    },
    {
     "name": "stderr",
     "output_type": "stream",
     "text": [
      "100%|██████████████████████████████████████████████████████████████████████████████████| 10/10 [11:27<00:00, 68.77s/it]\n"
     ]
    },
    {
     "name": "stdout",
     "output_type": "stream",
     "text": [
      "=================================\n",
      "Initial portfolio value:100000\n",
      "Final portfolio value: 466092.0625\n",
      "Final accumulative portfolio value: 4.660920625\n",
      "Maximum DrawDown: -0.4115823716288931\n",
      "Sharpe ratio: 0.7604363443279388\n",
      "=================================\n",
      "=================================\n",
      "Initial portfolio value:100000\n",
      "Final portfolio value: 135891.734375\n",
      "Final accumulative portfolio value: 1.35891734375\n",
      "Maximum DrawDown: -0.04448560229798293\n",
      "Sharpe ratio: 2.7295223991596944\n",
      "=================================\n",
      "=================================\n",
      "Initial portfolio value:100000\n",
      "Final portfolio value: 98242.6171875\n",
      "Final accumulative portfolio value: 0.982426171875\n",
      "Maximum DrawDown: -0.12672468963056915\n",
      "Sharpe ratio: -0.025801281544596148\n",
      "=================================\n",
      "=================================\n",
      "Initial portfolio value:100000\n",
      "Final portfolio value: 110410.3125\n",
      "Final accumulative portfolio value: 1.104103125\n",
      "Maximum DrawDown: -0.09492649667380715\n",
      "Sharpe ratio: 0.9874797571239743\n",
      "=================================\n"
     ]
    },
    {
     "name": "stderr",
     "output_type": "stream",
     "text": [
      "\r",
      "  0%|                                                                                           | 0/10 [00:00<?, ?it/s]"
     ]
    },
    {
     "name": "stdout",
     "output_type": "stream",
     "text": [
      "=================================\n",
      "Initial portfolio value:100000\n",
      "Final portfolio value: 373018.0\n",
      "Final accumulative portfolio value: 3.73018\n",
      "Maximum DrawDown: -0.32268030005102377\n",
      "Sharpe ratio: 0.8485507924214042\n",
      "=================================\n"
     ]
    },
    {
     "name": "stderr",
     "output_type": "stream",
     "text": [
      "\r",
      " 10%|████████▎                                                                          | 1/10 [01:09<10:28, 69.84s/it]"
     ]
    },
    {
     "name": "stdout",
     "output_type": "stream",
     "text": [
      "=================================\n",
      "Initial portfolio value:100000\n",
      "Final portfolio value: 590055.75\n",
      "Final accumulative portfolio value: 5.9005575\n",
      "Maximum DrawDown: -0.3126477652987417\n",
      "Sharpe ratio: 0.9956198712530185\n",
      "=================================\n"
     ]
    },
    {
     "name": "stderr",
     "output_type": "stream",
     "text": [
      "\r",
      " 20%|████████████████▌                                                                  | 2/10 [02:18<09:15, 69.40s/it]"
     ]
    },
    {
     "name": "stdout",
     "output_type": "stream",
     "text": [
      "=================================\n",
      "Initial portfolio value:100000\n",
      "Final portfolio value: 871686.25\n",
      "Final accumulative portfolio value: 8.7168625\n",
      "Maximum DrawDown: -0.3426918795324745\n",
      "Sharpe ratio: 1.051627318956415\n",
      "=================================\n"
     ]
    },
    {
     "name": "stderr",
     "output_type": "stream",
     "text": [
      "\r",
      " 30%|████████████████████████▉                                                          | 3/10 [03:28<08:05, 69.36s/it]"
     ]
    },
    {
     "name": "stdout",
     "output_type": "stream",
     "text": [
      "=================================\n",
      "Initial portfolio value:100000\n",
      "Final portfolio value: 1222385.875\n",
      "Final accumulative portfolio value: 12.22385875\n",
      "Maximum DrawDown: -0.3337746091419609\n",
      "Sharpe ratio: 1.1651372012381886\n",
      "=================================\n"
     ]
    },
    {
     "name": "stderr",
     "output_type": "stream",
     "text": [
      "\r",
      " 40%|█████████████████████████████████▏                                                 | 4/10 [04:37<06:55, 69.18s/it]"
     ]
    },
    {
     "name": "stdout",
     "output_type": "stream",
     "text": [
      "=================================\n",
      "Initial portfolio value:100000\n",
      "Final portfolio value: 1423005.0\n",
      "Final accumulative portfolio value: 14.23005\n",
      "Maximum DrawDown: -0.37771476342358656\n",
      "Sharpe ratio: 1.184297782688817\n",
      "=================================\n"
     ]
    },
    {
     "name": "stderr",
     "output_type": "stream",
     "text": [
      "\r",
      " 50%|█████████████████████████████████████████▌                                         | 5/10 [05:46<05:47, 69.41s/it]"
     ]
    },
    {
     "name": "stdout",
     "output_type": "stream",
     "text": [
      "=================================\n",
      "Initial portfolio value:100000\n",
      "Final portfolio value: 1500712.375\n",
      "Final accumulative portfolio value: 15.00712375\n",
      "Maximum DrawDown: -0.4020240631781289\n",
      "Sharpe ratio: 1.187963119149268\n",
      "=================================\n"
     ]
    },
    {
     "name": "stderr",
     "output_type": "stream",
     "text": [
      "\r",
      " 60%|█████████████████████████████████████████████████▊                                 | 6/10 [06:56<04:37, 69.29s/it]"
     ]
    },
    {
     "name": "stdout",
     "output_type": "stream",
     "text": [
      "=================================\n",
      "Initial portfolio value:100000\n",
      "Final portfolio value: 1669823.0\n",
      "Final accumulative portfolio value: 16.69823\n",
      "Maximum DrawDown: -0.4174722764437193\n",
      "Sharpe ratio: 1.20734967085242\n",
      "=================================\n"
     ]
    },
    {
     "name": "stderr",
     "output_type": "stream",
     "text": [
      "\r",
      " 70%|██████████████████████████████████████████████████████████                         | 7/10 [08:04<03:27, 69.18s/it]"
     ]
    },
    {
     "name": "stdout",
     "output_type": "stream",
     "text": [
      "=================================\n",
      "Initial portfolio value:100000\n",
      "Final portfolio value: 1630938.875\n",
      "Final accumulative portfolio value: 16.30938875\n",
      "Maximum DrawDown: -0.42909777519516423\n",
      "Sharpe ratio: 1.1885235767912394\n",
      "=================================\n"
     ]
    },
    {
     "name": "stderr",
     "output_type": "stream",
     "text": [
      "\r",
      " 80%|██████████████████████████████████████████████████████████████████▍                | 8/10 [09:14<02:18, 69.44s/it]"
     ]
    },
    {
     "name": "stdout",
     "output_type": "stream",
     "text": [
      "=================================\n",
      "Initial portfolio value:100000\n",
      "Final portfolio value: 1667484.375\n",
      "Final accumulative portfolio value: 16.67484375\n",
      "Maximum DrawDown: -0.431774414198414\n",
      "Sharpe ratio: 1.1773433614635502\n",
      "=================================\n"
     ]
    },
    {
     "name": "stderr",
     "output_type": "stream",
     "text": [
      "\r",
      " 90%|██████████████████████████████████████████████████████████████████████████▋        | 9/10 [10:24<01:09, 69.34s/it]"
     ]
    },
    {
     "name": "stdout",
     "output_type": "stream",
     "text": [
      "=================================\n",
      "Initial portfolio value:100000\n",
      "Final portfolio value: 1306810.0\n",
      "Final accumulative portfolio value: 13.0681\n",
      "Maximum DrawDown: -0.4356980852852924\n",
      "Sharpe ratio: 1.1074641586057377\n",
      "=================================\n"
     ]
    },
    {
     "name": "stderr",
     "output_type": "stream",
     "text": [
      "100%|██████████████████████████████████████████████████████████████████████████████████| 10/10 [11:33<00:00, 69.30s/it]\n"
     ]
    },
    {
     "name": "stdout",
     "output_type": "stream",
     "text": [
      "=================================\n",
      "Initial portfolio value:100000\n",
      "Final portfolio value: 327046.9375\n",
      "Final accumulative portfolio value: 3.270469375\n",
      "Maximum DrawDown: -0.31091879962587343\n",
      "Sharpe ratio: 0.7490961318278118\n",
      "=================================\n",
      "=================================\n",
      "Initial portfolio value:100000\n",
      "Final portfolio value: 131019.765625\n",
      "Final accumulative portfolio value: 1.31019765625\n",
      "Maximum DrawDown: -0.04478681187558986\n",
      "Sharpe ratio: 2.6527834802471904\n",
      "=================================\n",
      "=================================\n",
      "Initial portfolio value:100000\n",
      "Final portfolio value: 97518.15625\n",
      "Final accumulative portfolio value: 0.9751815625\n",
      "Maximum DrawDown: -0.14711465144443725\n",
      "Sharpe ratio: -0.04476343014037341\n",
      "=================================\n",
      "=================================\n",
      "Initial portfolio value:100000\n",
      "Final portfolio value: 106387.9453125\n",
      "Final accumulative portfolio value: 1.063879453125\n",
      "Maximum DrawDown: -0.09553291072611003\n",
      "Sharpe ratio: 0.6906548277629201\n",
      "=================================\n"
     ]
    },
    {
     "name": "stderr",
     "output_type": "stream",
     "text": [
      "\r",
      "  0%|                                                                                           | 0/10 [00:00<?, ?it/s]"
     ]
    },
    {
     "name": "stdout",
     "output_type": "stream",
     "text": [
      "=================================\n",
      "Initial portfolio value:100000\n",
      "Final portfolio value: 376038.8125\n",
      "Final accumulative portfolio value: 3.760388125\n",
      "Maximum DrawDown: -0.3140303928288245\n",
      "Sharpe ratio: 0.8603388790949458\n",
      "=================================\n"
     ]
    },
    {
     "name": "stderr",
     "output_type": "stream",
     "text": [
      "\r",
      " 10%|████████▎                                                                          | 1/10 [01:09<10:23, 69.30s/it]"
     ]
    },
    {
     "name": "stdout",
     "output_type": "stream",
     "text": [
      "=================================\n",
      "Initial portfolio value:100000\n",
      "Final portfolio value: 620358.1875\n",
      "Final accumulative portfolio value: 6.203581875\n",
      "Maximum DrawDown: -0.2979459553322916\n",
      "Sharpe ratio: 1.0111772469357494\n",
      "=================================\n"
     ]
    },
    {
     "name": "stderr",
     "output_type": "stream",
     "text": [
      "\r",
      " 20%|████████████████▌                                                                  | 2/10 [02:19<09:16, 69.53s/it]"
     ]
    },
    {
     "name": "stdout",
     "output_type": "stream",
     "text": [
      "=================================\n",
      "Initial portfolio value:100000\n",
      "Final portfolio value: 1059951.5\n",
      "Final accumulative portfolio value: 10.599515\n",
      "Maximum DrawDown: -0.32425777139525347\n",
      "Sharpe ratio: 1.126480902477709\n",
      "=================================\n"
     ]
    },
    {
     "name": "stderr",
     "output_type": "stream",
     "text": [
      "\r",
      " 30%|████████████████████████▉                                                          | 3/10 [03:28<08:05, 69.31s/it]"
     ]
    },
    {
     "name": "stdout",
     "output_type": "stream",
     "text": [
      "=================================\n",
      "Initial portfolio value:100000\n",
      "Final portfolio value: 1405117.625\n",
      "Final accumulative portfolio value: 14.05117625\n",
      "Maximum DrawDown: -0.38197706072784865\n",
      "Sharpe ratio: 1.181771198320698\n",
      "=================================\n"
     ]
    },
    {
     "name": "stderr",
     "output_type": "stream",
     "text": [
      "\r",
      " 40%|█████████████████████████████████▏                                                 | 4/10 [04:36<06:54, 69.03s/it]"
     ]
    },
    {
     "name": "stdout",
     "output_type": "stream",
     "text": [
      "=================================\n",
      "Initial portfolio value:100000\n",
      "Final portfolio value: 1525155.875\n",
      "Final accumulative portfolio value: 15.25155875\n",
      "Maximum DrawDown: -0.41218872901016246\n",
      "Sharpe ratio: 1.178549819094052\n",
      "=================================\n"
     ]
    },
    {
     "name": "stderr",
     "output_type": "stream",
     "text": [
      "\r",
      " 50%|█████████████████████████████████████████▌                                         | 5/10 [05:46<05:45, 69.16s/it]"
     ]
    },
    {
     "name": "stdout",
     "output_type": "stream",
     "text": [
      "=================================\n",
      "Initial portfolio value:100000\n",
      "Final portfolio value: 1604450.625\n",
      "Final accumulative portfolio value: 16.04450625\n",
      "Maximum DrawDown: -0.428260384774261\n",
      "Sharpe ratio: 1.1865284604878439\n",
      "=================================\n"
     ]
    },
    {
     "name": "stderr",
     "output_type": "stream",
     "text": [
      "\r",
      " 60%|█████████████████████████████████████████████████▊                                 | 6/10 [06:55<04:36, 69.23s/it]"
     ]
    },
    {
     "name": "stdout",
     "output_type": "stream",
     "text": [
      "=================================\n",
      "Initial portfolio value:100000\n",
      "Final portfolio value: 1578242.125\n",
      "Final accumulative portfolio value: 15.78242125\n",
      "Maximum DrawDown: -0.4319336835188806\n",
      "Sharpe ratio: 1.1571469485399741\n",
      "=================================\n"
     ]
    },
    {
     "name": "stderr",
     "output_type": "stream",
     "text": [
      "\r",
      " 70%|██████████████████████████████████████████████████████████                         | 7/10 [08:04<03:27, 69.22s/it]"
     ]
    },
    {
     "name": "stdout",
     "output_type": "stream",
     "text": [
      "=================================\n",
      "Initial portfolio value:100000\n",
      "Final portfolio value: 1209833.25\n",
      "Final accumulative portfolio value: 12.0983325\n",
      "Maximum DrawDown: -0.43642887999528046\n",
      "Sharpe ratio: 1.0842958033363899\n",
      "=================================\n"
     ]
    },
    {
     "name": "stderr",
     "output_type": "stream",
     "text": [
      "\r",
      " 80%|██████████████████████████████████████████████████████████████████▍                | 8/10 [09:13<02:18, 69.20s/it]"
     ]
    },
    {
     "name": "stdout",
     "output_type": "stream",
     "text": [
      "=================================\n",
      "Initial portfolio value:100000\n",
      "Final portfolio value: 1292826.0\n",
      "Final accumulative portfolio value: 12.92826\n",
      "Maximum DrawDown: -0.43747783551368447\n",
      "Sharpe ratio: 1.0947705937150094\n",
      "=================================\n"
     ]
    },
    {
     "name": "stderr",
     "output_type": "stream",
     "text": [
      "\r",
      " 90%|██████████████████████████████████████████████████████████████████████████▋        | 9/10 [10:23<01:09, 69.30s/it]"
     ]
    },
    {
     "name": "stdout",
     "output_type": "stream",
     "text": [
      "=================================\n",
      "Initial portfolio value:100000\n",
      "Final portfolio value: 1656890.5\n",
      "Final accumulative portfolio value: 16.568905\n",
      "Maximum DrawDown: -0.437453111125088\n",
      "Sharpe ratio: 1.1841059455455913\n",
      "=================================\n"
     ]
    },
    {
     "name": "stderr",
     "output_type": "stream",
     "text": [
      "100%|██████████████████████████████████████████████████████████████████████████████████| 10/10 [11:32<00:00, 69.25s/it]\n"
     ]
    },
    {
     "name": "stdout",
     "output_type": "stream",
     "text": [
      "=================================\n",
      "Initial portfolio value:100000\n",
      "Final portfolio value: 401079.9375\n",
      "Final accumulative portfolio value: 4.010799375\n",
      "Maximum DrawDown: -0.2980884104035949\n",
      "Sharpe ratio: 0.842650613718002\n",
      "=================================\n",
      "=================================\n",
      "Initial portfolio value:100000\n",
      "Final portfolio value: 130044.2265625\n",
      "Final accumulative portfolio value: 1.300442265625\n",
      "Maximum DrawDown: -0.04332756791148529\n",
      "Sharpe ratio: 2.632653160773945\n",
      "=================================\n",
      "=================================\n",
      "Initial portfolio value:100000\n",
      "Final portfolio value: 97511.9765625\n",
      "Final accumulative portfolio value: 0.975119765625\n",
      "Maximum DrawDown: -0.14278150788342558\n",
      "Sharpe ratio: -0.05299772360039233\n",
      "=================================\n",
      "=================================\n",
      "Initial portfolio value:100000\n",
      "Final portfolio value: 105729.875\n",
      "Final accumulative portfolio value: 1.05729875\n",
      "Maximum DrawDown: -0.08908259929807416\n",
      "Sharpe ratio: 0.6613763613560697\n",
      "=================================\n"
     ]
    },
    {
     "name": "stderr",
     "output_type": "stream",
     "text": [
      "\r",
      "  0%|                                                                                           | 0/10 [00:00<?, ?it/s]"
     ]
    },
    {
     "name": "stdout",
     "output_type": "stream",
     "text": [
      "=================================\n",
      "Initial portfolio value:100000\n",
      "Final portfolio value: 347425.34375\n",
      "Final accumulative portfolio value: 3.4742534375\n",
      "Maximum DrawDown: -0.33022683120392904\n",
      "Sharpe ratio: 0.8165704169181094\n",
      "=================================\n"
     ]
    },
    {
     "name": "stderr",
     "output_type": "stream",
     "text": [
      "\r",
      " 10%|████████▎                                                                          | 1/10 [01:09<10:23, 69.28s/it]"
     ]
    },
    {
     "name": "stdout",
     "output_type": "stream",
     "text": [
      "=================================\n",
      "Initial portfolio value:100000\n",
      "Final portfolio value: 594114.625\n",
      "Final accumulative portfolio value: 5.94114625\n",
      "Maximum DrawDown: -0.3053450882139711\n",
      "Sharpe ratio: 1.0148358166832834\n",
      "=================================\n"
     ]
    },
    {
     "name": "stderr",
     "output_type": "stream",
     "text": [
      "\r",
      " 20%|████████████████▌                                                                  | 2/10 [02:18<09:13, 69.24s/it]"
     ]
    },
    {
     "name": "stdout",
     "output_type": "stream",
     "text": [
      "=================================\n",
      "Initial portfolio value:100000\n",
      "Final portfolio value: 1224852.375\n",
      "Final accumulative portfolio value: 12.24852375\n",
      "Maximum DrawDown: -0.3293857295152114\n",
      "Sharpe ratio: 1.1648287615815331\n",
      "=================================\n"
     ]
    },
    {
     "name": "stderr",
     "output_type": "stream",
     "text": [
      "\r",
      " 30%|████████████████████████▉                                                          | 3/10 [03:27<08:03, 69.04s/it]"
     ]
    },
    {
     "name": "stdout",
     "output_type": "stream",
     "text": [
      "=================================\n",
      "Initial portfolio value:100000\n",
      "Final portfolio value: 1638326.0\n",
      "Final accumulative portfolio value: 16.38326\n",
      "Maximum DrawDown: -0.3530474388894582\n",
      "Sharpe ratio: 1.2378751626318933\n",
      "=================================\n"
     ]
    },
    {
     "name": "stderr",
     "output_type": "stream",
     "text": [
      "\r",
      " 40%|█████████████████████████████████▏                                                 | 4/10 [04:37<06:56, 69.34s/it]"
     ]
    },
    {
     "name": "stdout",
     "output_type": "stream",
     "text": [
      "=================================\n",
      "Initial portfolio value:100000\n",
      "Final portfolio value: 2287129.75\n",
      "Final accumulative portfolio value: 22.8712975\n",
      "Maximum DrawDown: -0.31427458568595834\n",
      "Sharpe ratio: 1.3406050479501732\n",
      "=================================\n"
     ]
    },
    {
     "name": "stderr",
     "output_type": "stream",
     "text": [
      "\r",
      " 50%|█████████████████████████████████████████▌                                         | 5/10 [05:47<05:48, 69.69s/it]"
     ]
    },
    {
     "name": "stdout",
     "output_type": "stream",
     "text": [
      "=================================\n",
      "Initial portfolio value:100000\n",
      "Final portfolio value: 1631282.625\n",
      "Final accumulative portfolio value: 16.31282625\n",
      "Maximum DrawDown: -0.3843343606525703\n",
      "Sharpe ratio: 1.1863709671367748\n",
      "=================================\n"
     ]
    },
    {
     "name": "stderr",
     "output_type": "stream",
     "text": [
      "\r",
      " 60%|█████████████████████████████████████████████████▊                                 | 6/10 [06:55<04:37, 69.31s/it]"
     ]
    },
    {
     "name": "stdout",
     "output_type": "stream",
     "text": [
      "=================================\n",
      "Initial portfolio value:100000\n",
      "Final portfolio value: 1718636.0\n",
      "Final accumulative portfolio value: 17.18636\n",
      "Maximum DrawDown: -0.38515280457128\n",
      "Sharpe ratio: 1.20563998346763\n",
      "=================================\n"
     ]
    },
    {
     "name": "stderr",
     "output_type": "stream",
     "text": [
      "\r",
      " 70%|██████████████████████████████████████████████████████████                         | 7/10 [08:04<03:27, 69.09s/it]"
     ]
    },
    {
     "name": "stdout",
     "output_type": "stream",
     "text": [
      "=================================\n",
      "Initial portfolio value:100000\n",
      "Final portfolio value: 2202447.5\n",
      "Final accumulative portfolio value: 22.024475\n",
      "Maximum DrawDown: -0.3851187883210869\n",
      "Sharpe ratio: 1.2830078051618048\n",
      "=================================\n"
     ]
    },
    {
     "name": "stderr",
     "output_type": "stream",
     "text": [
      "\r",
      " 80%|██████████████████████████████████████████████████████████████████▍                | 8/10 [09:13<02:17, 68.88s/it]"
     ]
    },
    {
     "name": "stdout",
     "output_type": "stream",
     "text": [
      "=================================\n",
      "Initial portfolio value:100000\n",
      "Final portfolio value: 1968198.875\n",
      "Final accumulative portfolio value: 19.68198875\n",
      "Maximum DrawDown: -0.3851362447940291\n",
      "Sharpe ratio: 1.2265382067494401\n",
      "=================================\n"
     ]
    },
    {
     "name": "stderr",
     "output_type": "stream",
     "text": [
      "\r",
      " 90%|██████████████████████████████████████████████████████████████████████████▋        | 9/10 [10:22<01:09, 69.01s/it]"
     ]
    },
    {
     "name": "stdout",
     "output_type": "stream",
     "text": [
      "=================================\n",
      "Initial portfolio value:100000\n",
      "Final portfolio value: 2185696.25\n",
      "Final accumulative portfolio value: 21.8569625\n",
      "Maximum DrawDown: -0.3840474696380839\n",
      "Sharpe ratio: 1.258575718535497\n",
      "=================================\n"
     ]
    },
    {
     "name": "stderr",
     "output_type": "stream",
     "text": [
      "100%|██████████████████████████████████████████████████████████████████████████████████| 10/10 [11:31<00:00, 69.19s/it]\n"
     ]
    },
    {
     "name": "stdout",
     "output_type": "stream",
     "text": [
      "=================================\n",
      "Initial portfolio value:100000\n",
      "Final portfolio value: 442160.25\n",
      "Final accumulative portfolio value: 4.4216025\n",
      "Maximum DrawDown: -0.43513523597423576\n",
      "Sharpe ratio: 0.7465476617083057\n",
      "=================================\n",
      "=================================\n",
      "Initial portfolio value:100000\n",
      "Final portfolio value: 130791.6015625\n",
      "Final accumulative portfolio value: 1.307916015625\n",
      "Maximum DrawDown: -0.04962899009192456\n",
      "Sharpe ratio: 2.597024327331395\n",
      "=================================\n",
      "=================================\n",
      "Initial portfolio value:100000\n",
      "Final portfolio value: 96958.8046875\n",
      "Final accumulative portfolio value: 0.969588046875\n",
      "Maximum DrawDown: -0.14808381013460403\n",
      "Sharpe ratio: -0.07639913157046621\n",
      "=================================\n",
      "=================================\n",
      "Initial portfolio value:100000\n",
      "Final portfolio value: 108757.9921875\n",
      "Final accumulative portfolio value: 1.087579921875\n",
      "Maximum DrawDown: -0.09640922671483265\n",
      "Sharpe ratio: 0.890949233915887\n",
      "=================================\n"
     ]
    },
    {
     "name": "stderr",
     "output_type": "stream",
     "text": [
      "\r",
      "  0%|                                                                                           | 0/10 [00:00<?, ?it/s]"
     ]
    },
    {
     "name": "stdout",
     "output_type": "stream",
     "text": [
      "=================================\n",
      "Initial portfolio value:100000\n",
      "Final portfolio value: 390214.9375\n",
      "Final accumulative portfolio value: 3.902149375\n",
      "Maximum DrawDown: -0.3220319414609658\n",
      "Sharpe ratio: 0.8745908653302107\n",
      "=================================\n"
     ]
    },
    {
     "name": "stderr",
     "output_type": "stream",
     "text": [
      "\r",
      " 10%|████████▎                                                                          | 1/10 [01:08<10:16, 68.55s/it]"
     ]
    },
    {
     "name": "stdout",
     "output_type": "stream",
     "text": [
      "=================================\n",
      "Initial portfolio value:100000\n",
      "Final portfolio value: 742338.125\n",
      "Final accumulative portfolio value: 7.42338125\n",
      "Maximum DrawDown: -0.3019082166236574\n",
      "Sharpe ratio: 1.0284876719171305\n",
      "=================================\n"
     ]
    },
    {
     "name": "stderr",
     "output_type": "stream",
     "text": [
      "\r",
      " 20%|████████████████▌                                                                  | 2/10 [02:17<09:10, 68.81s/it]"
     ]
    },
    {
     "name": "stdout",
     "output_type": "stream",
     "text": [
      "=================================\n",
      "Initial portfolio value:100000\n",
      "Final portfolio value: 957286.5625\n",
      "Final accumulative portfolio value: 9.572865625\n",
      "Maximum DrawDown: -0.34132574795021264\n",
      "Sharpe ratio: 1.0488113700101265\n",
      "=================================\n"
     ]
    },
    {
     "name": "stderr",
     "output_type": "stream",
     "text": [
      "\r",
      " 30%|████████████████████████▉                                                          | 3/10 [03:26<08:02, 68.88s/it]"
     ]
    },
    {
     "name": "stdout",
     "output_type": "stream",
     "text": [
      "=================================\n",
      "Initial portfolio value:100000\n",
      "Final portfolio value: 1099445.375\n",
      "Final accumulative portfolio value: 10.99445375\n",
      "Maximum DrawDown: -0.2809440160788014\n",
      "Sharpe ratio: 1.0806458108987196\n",
      "=================================\n"
     ]
    },
    {
     "name": "stderr",
     "output_type": "stream",
     "text": [
      "\r",
      " 40%|█████████████████████████████████▏                                                 | 4/10 [04:36<06:56, 69.36s/it]"
     ]
    },
    {
     "name": "stdout",
     "output_type": "stream",
     "text": [
      "=================================\n",
      "Initial portfolio value:100000\n",
      "Final portfolio value: 1189094.375\n",
      "Final accumulative portfolio value: 11.89094375\n",
      "Maximum DrawDown: -0.28424444558747397\n",
      "Sharpe ratio: 1.09272449824656\n",
      "=================================\n"
     ]
    },
    {
     "name": "stderr",
     "output_type": "stream",
     "text": [
      "\r",
      " 50%|█████████████████████████████████████████▌                                         | 5/10 [05:45<05:45, 69.16s/it]"
     ]
    },
    {
     "name": "stdout",
     "output_type": "stream",
     "text": [
      "=================================\n",
      "Initial portfolio value:100000\n",
      "Final portfolio value: 1313481.375\n",
      "Final accumulative portfolio value: 13.13481375\n",
      "Maximum DrawDown: -0.2806324430396424\n",
      "Sharpe ratio: 1.1345599066223764\n",
      "=================================\n"
     ]
    },
    {
     "name": "stderr",
     "output_type": "stream",
     "text": [
      "\r",
      " 60%|█████████████████████████████████████████████████▊                                 | 6/10 [06:54<04:36, 69.21s/it]"
     ]
    },
    {
     "name": "stdout",
     "output_type": "stream",
     "text": [
      "=================================\n",
      "Initial portfolio value:100000\n",
      "Final portfolio value: 1218517.5\n",
      "Final accumulative portfolio value: 12.185175\n",
      "Maximum DrawDown: -0.2957201872872727\n",
      "Sharpe ratio: 1.079638295756721\n",
      "=================================\n"
     ]
    },
    {
     "name": "stderr",
     "output_type": "stream",
     "text": [
      "\r",
      " 70%|██████████████████████████████████████████████████████████                         | 7/10 [08:03<03:27, 69.19s/it]"
     ]
    },
    {
     "name": "stdout",
     "output_type": "stream",
     "text": [
      "=================================\n",
      "Initial portfolio value:100000\n",
      "Final portfolio value: 1321748.25\n",
      "Final accumulative portfolio value: 13.2174825\n",
      "Maximum DrawDown: -0.28116176634576073\n",
      "Sharpe ratio: 1.11415652562203\n",
      "=================================\n"
     ]
    },
    {
     "name": "stderr",
     "output_type": "stream",
     "text": [
      "\r",
      " 80%|██████████████████████████████████████████████████████████████████▍                | 8/10 [09:12<02:18, 69.09s/it]"
     ]
    },
    {
     "name": "stdout",
     "output_type": "stream",
     "text": [
      "=================================\n",
      "Initial portfolio value:100000\n",
      "Final portfolio value: 1110212.625\n",
      "Final accumulative portfolio value: 11.10212625\n",
      "Maximum DrawDown: -0.2805179518322287\n",
      "Sharpe ratio: 1.070212188481728\n",
      "=================================\n"
     ]
    },
    {
     "name": "stderr",
     "output_type": "stream",
     "text": [
      "\r",
      " 90%|██████████████████████████████████████████████████████████████████████████▋        | 9/10 [10:21<01:08, 68.96s/it]"
     ]
    },
    {
     "name": "stdout",
     "output_type": "stream",
     "text": [
      "=================================\n",
      "Initial portfolio value:100000\n",
      "Final portfolio value: 1432154.25\n",
      "Final accumulative portfolio value: 14.3215425\n",
      "Maximum DrawDown: -0.28053238005613\n",
      "Sharpe ratio: 1.1626432438251733\n",
      "=================================\n"
     ]
    },
    {
     "name": "stderr",
     "output_type": "stream",
     "text": [
      "100%|██████████████████████████████████████████████████████████████████████████████████| 10/10 [11:30<00:00, 69.03s/it]\n"
     ]
    },
    {
     "name": "stdout",
     "output_type": "stream",
     "text": [
      "=================================\n",
      "Initial portfolio value:100000\n",
      "Final portfolio value: 442741.15625\n",
      "Final accumulative portfolio value: 4.4274115625\n",
      "Maximum DrawDown: -0.3583798281396704\n",
      "Sharpe ratio: 0.7760004978410462\n",
      "=================================\n",
      "=================================\n",
      "Initial portfolio value:100000\n",
      "Final portfolio value: 130153.6796875\n",
      "Final accumulative portfolio value: 1.301536796875\n",
      "Maximum DrawDown: -0.0452543443031822\n",
      "Sharpe ratio: 2.652870288532224\n",
      "=================================\n",
      "=================================\n",
      "Initial portfolio value:100000\n",
      "Final portfolio value: 97398.4375\n",
      "Final accumulative portfolio value: 0.973984375\n",
      "Maximum DrawDown: -0.14811436542705758\n",
      "Sharpe ratio: -0.053492740524173195\n",
      "=================================\n",
      "=================================\n",
      "Initial portfolio value:100000\n",
      "Final portfolio value: 105996.3984375\n",
      "Final accumulative portfolio value: 1.059963984375\n",
      "Maximum DrawDown: -0.09127658264857041\n",
      "Sharpe ratio: 0.6702375377764347\n",
      "=================================\n"
     ]
    },
    {
     "name": "stderr",
     "output_type": "stream",
     "text": [
      "\r",
      "  0%|                                                                                           | 0/10 [00:00<?, ?it/s]"
     ]
    },
    {
     "name": "stdout",
     "output_type": "stream",
     "text": [
      "=================================\n",
      "Initial portfolio value:100000\n",
      "Final portfolio value: 381096.0625\n",
      "Final accumulative portfolio value: 3.810960625\n",
      "Maximum DrawDown: -0.3231416223792777\n",
      "Sharpe ratio: 0.8603331103786281\n",
      "=================================\n"
     ]
    },
    {
     "name": "stderr",
     "output_type": "stream",
     "text": [
      "\r",
      " 10%|████████▎                                                                          | 1/10 [01:11<10:42, 71.37s/it]"
     ]
    },
    {
     "name": "stdout",
     "output_type": "stream",
     "text": [
      "=================================\n",
      "Initial portfolio value:100000\n",
      "Final portfolio value: 679142.5\n",
      "Final accumulative portfolio value: 6.791425\n",
      "Maximum DrawDown: -0.31079595887052713\n",
      "Sharpe ratio: 1.0468135072222895\n",
      "=================================\n"
     ]
    },
    {
     "name": "stderr",
     "output_type": "stream",
     "text": [
      "\r",
      " 20%|████████████████▌                                                                  | 2/10 [02:21<09:23, 70.45s/it]"
     ]
    },
    {
     "name": "stdout",
     "output_type": "stream",
     "text": [
      "=================================\n",
      "Initial portfolio value:100000\n",
      "Final portfolio value: 978288.25\n",
      "Final accumulative portfolio value: 9.7828825\n",
      "Maximum DrawDown: -0.33902165725913325\n",
      "Sharpe ratio: 1.0585527857094916\n",
      "=================================\n"
     ]
    },
    {
     "name": "stderr",
     "output_type": "stream",
     "text": [
      "\r",
      " 30%|████████████████████████▉                                                          | 3/10 [03:30<08:10, 70.07s/it]"
     ]
    },
    {
     "name": "stdout",
     "output_type": "stream",
     "text": [
      "=================================\n",
      "Initial portfolio value:100000\n",
      "Final portfolio value: 1349938.875\n",
      "Final accumulative portfolio value: 13.49938875\n",
      "Maximum DrawDown: -0.3419935127406175\n",
      "Sharpe ratio: 1.1917508615428076\n",
      "=================================\n"
     ]
    },
    {
     "name": "stderr",
     "output_type": "stream",
     "text": [
      "\r",
      " 40%|█████████████████████████████████▏                                                 | 4/10 [04:40<06:58, 69.76s/it]"
     ]
    },
    {
     "name": "stdout",
     "output_type": "stream",
     "text": [
      "=================================\n",
      "Initial portfolio value:100000\n",
      "Final portfolio value: 1450491.0\n",
      "Final accumulative portfolio value: 14.50491\n",
      "Maximum DrawDown: -0.3797914507237342\n",
      "Sharpe ratio: 1.1728595166892297\n",
      "=================================\n"
     ]
    },
    {
     "name": "stderr",
     "output_type": "stream",
     "text": [
      "\r",
      " 50%|█████████████████████████████████████████▌                                         | 5/10 [05:48<05:46, 69.39s/it]"
     ]
    },
    {
     "name": "stdout",
     "output_type": "stream",
     "text": [
      "=================================\n",
      "Initial portfolio value:100000\n",
      "Final portfolio value: 1291490.0\n",
      "Final accumulative portfolio value: 12.9149\n",
      "Maximum DrawDown: -0.40909120053447157\n",
      "Sharpe ratio: 1.1309343019029388\n",
      "=================================\n"
     ]
    },
    {
     "name": "stderr",
     "output_type": "stream",
     "text": [
      "\r",
      " 60%|█████████████████████████████████████████████████▊                                 | 6/10 [06:57<04:37, 69.32s/it]"
     ]
    },
    {
     "name": "stdout",
     "output_type": "stream",
     "text": [
      "=================================\n",
      "Initial portfolio value:100000\n",
      "Final portfolio value: 1167739.125\n",
      "Final accumulative portfolio value: 11.67739125\n",
      "Maximum DrawDown: -0.40763036420389376\n",
      "Sharpe ratio: 1.0422776897702029\n",
      "=================================\n"
     ]
    },
    {
     "name": "stderr",
     "output_type": "stream",
     "text": [
      "\r",
      " 70%|██████████████████████████████████████████████████████████                         | 7/10 [08:08<03:29, 69.78s/it]"
     ]
    },
    {
     "name": "stdout",
     "output_type": "stream",
     "text": [
      "=================================\n",
      "Initial portfolio value:100000\n",
      "Final portfolio value: 1586636.75\n",
      "Final accumulative portfolio value: 15.8663675\n",
      "Maximum DrawDown: -0.4061678421458874\n",
      "Sharpe ratio: 1.177333591721535\n",
      "=================================\n"
     ]
    },
    {
     "name": "stderr",
     "output_type": "stream",
     "text": [
      "\r",
      " 80%|██████████████████████████████████████████████████████████████████▍                | 8/10 [09:27<02:25, 72.79s/it]"
     ]
    },
    {
     "name": "stdout",
     "output_type": "stream",
     "text": [
      "=================================\n",
      "Initial portfolio value:100000\n",
      "Final portfolio value: 1675563.5\n",
      "Final accumulative portfolio value: 16.755635\n",
      "Maximum DrawDown: -0.4240316632572053\n",
      "Sharpe ratio: 1.1956487513470038\n",
      "=================================\n"
     ]
    },
    {
     "name": "stderr",
     "output_type": "stream",
     "text": [
      "\r",
      " 90%|██████████████████████████████████████████████████████████████████████████▋        | 9/10 [10:47<01:14, 74.88s/it]"
     ]
    },
    {
     "name": "stdout",
     "output_type": "stream",
     "text": [
      "=================================\n",
      "Initial portfolio value:100000\n",
      "Final portfolio value: 1865712.75\n",
      "Final accumulative portfolio value: 18.6571275\n",
      "Maximum DrawDown: -0.43122368018441415\n",
      "Sharpe ratio: 1.2328273148035986\n",
      "=================================\n"
     ]
    },
    {
     "name": "stderr",
     "output_type": "stream",
     "text": [
      "100%|██████████████████████████████████████████████████████████████████████████████████| 10/10 [12:07<00:00, 72.71s/it]\n"
     ]
    },
    {
     "name": "stdout",
     "output_type": "stream",
     "text": [
      "=================================\n",
      "Initial portfolio value:100000\n",
      "Final portfolio value: 484906.21875\n",
      "Final accumulative portfolio value: 4.8490621875\n",
      "Maximum DrawDown: -0.4377674856002236\n",
      "Sharpe ratio: 0.7776926820371826\n",
      "=================================\n",
      "=================================\n",
      "Initial portfolio value:100000\n",
      "Final portfolio value: 129515.203125\n",
      "Final accumulative portfolio value: 1.29515203125\n",
      "Maximum DrawDown: -0.041271591505236405\n",
      "Sharpe ratio: 2.612325283645253\n",
      "=================================\n",
      "=================================\n",
      "Initial portfolio value:100000\n",
      "Final portfolio value: 97384.328125\n",
      "Final accumulative portfolio value: 0.97384328125\n",
      "Maximum DrawDown: -0.1459690202934033\n",
      "Sharpe ratio: -0.05441148727345524\n",
      "=================================\n",
      "=================================\n",
      "Initial portfolio value:100000\n",
      "Final portfolio value: 106961.84375\n",
      "Final accumulative portfolio value: 1.0696184375\n",
      "Maximum DrawDown: -0.0994577567518874\n",
      "Sharpe ratio: 0.7323302604877081\n",
      "=================================\n"
     ]
    },
    {
     "name": "stderr",
     "output_type": "stream",
     "text": [
      "\r",
      "  0%|                                                                                           | 0/10 [00:00<?, ?it/s]"
     ]
    },
    {
     "name": "stdout",
     "output_type": "stream",
     "text": [
      "=================================\n",
      "Initial portfolio value:100000\n",
      "Final portfolio value: 372877.34375\n",
      "Final accumulative portfolio value: 3.7287734375\n",
      "Maximum DrawDown: -0.3266830849839605\n",
      "Sharpe ratio: 0.8522457900308741\n",
      "=================================\n"
     ]
    },
    {
     "name": "stderr",
     "output_type": "stream",
     "text": [
      "\r",
      " 10%|████████▎                                                                          | 1/10 [01:18<11:44, 78.32s/it]"
     ]
    },
    {
     "name": "stdout",
     "output_type": "stream",
     "text": [
      "=================================\n",
      "Initial portfolio value:100000\n",
      "Final portfolio value: 646367.5\n",
      "Final accumulative portfolio value: 6.463675\n",
      "Maximum DrawDown: -0.3229906948999839\n",
      "Sharpe ratio: 1.0385532096574746\n",
      "=================================\n"
     ]
    },
    {
     "name": "stderr",
     "output_type": "stream",
     "text": [
      "\r",
      " 20%|████████████████▌                                                                  | 2/10 [02:28<09:46, 73.35s/it]"
     ]
    },
    {
     "name": "stdout",
     "output_type": "stream",
     "text": [
      "=================================\n",
      "Initial portfolio value:100000\n",
      "Final portfolio value: 875132.0625\n",
      "Final accumulative portfolio value: 8.751320625\n",
      "Maximum DrawDown: -0.33619546363339103\n",
      "Sharpe ratio: 1.0449147197213418\n",
      "=================================\n"
     ]
    },
    {
     "name": "stderr",
     "output_type": "stream",
     "text": [
      "\r",
      " 30%|████████████████████████▉                                                          | 3/10 [03:37<08:19, 71.33s/it]"
     ]
    },
    {
     "name": "stdout",
     "output_type": "stream",
     "text": [
      "=================================\n",
      "Initial portfolio value:100000\n",
      "Final portfolio value: 1012125.625\n",
      "Final accumulative portfolio value: 10.12125625\n",
      "Maximum DrawDown: -0.2961918790287801\n",
      "Sharpe ratio: 1.0985848611799378\n",
      "=================================\n"
     ]
    },
    {
     "name": "stderr",
     "output_type": "stream",
     "text": [
      "\r",
      " 40%|█████████████████████████████████▏                                                 | 4/10 [04:46<07:02, 70.47s/it]"
     ]
    },
    {
     "name": "stdout",
     "output_type": "stream",
     "text": [
      "=================================\n",
      "Initial portfolio value:100000\n",
      "Final portfolio value: 1086643.5\n",
      "Final accumulative portfolio value: 10.866435\n",
      "Maximum DrawDown: -0.298134207659177\n",
      "Sharpe ratio: 1.1212190348034354\n",
      "=================================\n"
     ]
    },
    {
     "name": "stderr",
     "output_type": "stream",
     "text": [
      "\r",
      " 50%|█████████████████████████████████████████▌                                         | 5/10 [05:55<05:50, 70.13s/it]"
     ]
    },
    {
     "name": "stdout",
     "output_type": "stream",
     "text": [
      "=================================\n",
      "Initial portfolio value:100000\n",
      "Final portfolio value: 1185153.0\n",
      "Final accumulative portfolio value: 11.85153\n",
      "Maximum DrawDown: -0.30416202911230417\n",
      "Sharpe ratio: 1.1584170085545253\n",
      "=================================\n"
     ]
    },
    {
     "name": "stderr",
     "output_type": "stream",
     "text": [
      "\r",
      " 60%|█████████████████████████████████████████████████▊                                 | 6/10 [07:05<04:39, 69.95s/it]"
     ]
    },
    {
     "name": "stdout",
     "output_type": "stream",
     "text": [
      "=================================\n",
      "Initial portfolio value:100000\n",
      "Final portfolio value: 1281570.875\n",
      "Final accumulative portfolio value: 12.81570875\n",
      "Maximum DrawDown: -0.3204893974882459\n",
      "Sharpe ratio: 1.165723127358538\n",
      "=================================\n"
     ]
    },
    {
     "name": "stderr",
     "output_type": "stream",
     "text": [
      "\r",
      " 70%|██████████████████████████████████████████████████████████                         | 7/10 [08:14<03:28, 69.62s/it]"
     ]
    },
    {
     "name": "stdout",
     "output_type": "stream",
     "text": [
      "=================================\n",
      "Initial portfolio value:100000\n",
      "Final portfolio value: 1428591.0\n",
      "Final accumulative portfolio value: 14.28591\n",
      "Maximum DrawDown: -0.341689417295986\n",
      "Sharpe ratio: 1.2034682088346236\n",
      "=================================\n"
     ]
    },
    {
     "name": "stderr",
     "output_type": "stream",
     "text": [
      "\r",
      " 80%|██████████████████████████████████████████████████████████████████▍                | 8/10 [09:24<02:19, 69.69s/it]"
     ]
    },
    {
     "name": "stdout",
     "output_type": "stream",
     "text": [
      "=================================\n",
      "Initial portfolio value:100000\n",
      "Final portfolio value: 1488022.375\n",
      "Final accumulative portfolio value: 14.88022375\n",
      "Maximum DrawDown: -0.3612100449275031\n",
      "Sharpe ratio: 1.1997537882248317\n",
      "=================================\n"
     ]
    },
    {
     "name": "stderr",
     "output_type": "stream",
     "text": [
      "\r",
      " 90%|██████████████████████████████████████████████████████████████████████████▋        | 9/10 [10:35<01:10, 70.34s/it]"
     ]
    },
    {
     "name": "stdout",
     "output_type": "stream",
     "text": [
      "=================================\n",
      "Initial portfolio value:100000\n",
      "Final portfolio value: 1545739.75\n",
      "Final accumulative portfolio value: 15.4573975\n",
      "Maximum DrawDown: -0.38416075215600565\n",
      "Sharpe ratio: 1.2069002936317732\n",
      "=================================\n"
     ]
    },
    {
     "name": "stderr",
     "output_type": "stream",
     "text": [
      "100%|██████████████████████████████████████████████████████████████████████████████████| 10/10 [11:49<00:00, 70.96s/it]\n"
     ]
    },
    {
     "name": "stdout",
     "output_type": "stream",
     "text": [
      "=================================\n",
      "Initial portfolio value:100000\n",
      "Final portfolio value: 461021.0\n",
      "Final accumulative portfolio value: 4.61021\n",
      "Maximum DrawDown: -0.2807670014993986\n",
      "Sharpe ratio: 0.8071977883637778\n",
      "=================================\n",
      "=================================\n",
      "Initial portfolio value:100000\n",
      "Final portfolio value: 129906.578125\n",
      "Final accumulative portfolio value: 1.29906578125\n",
      "Maximum DrawDown: -0.04418629663367302\n",
      "Sharpe ratio: 2.591766787316825\n",
      "=================================\n",
      "=================================\n",
      "Initial portfolio value:100000\n",
      "Final portfolio value: 97302.3515625\n",
      "Final accumulative portfolio value: 0.973023515625\n",
      "Maximum DrawDown: -0.13653552896649268\n",
      "Sharpe ratio: -0.07491164527331116\n",
      "=================================\n",
      "=================================\n",
      "Initial portfolio value:100000\n",
      "Final portfolio value: 105365.7109375\n",
      "Final accumulative portfolio value: 1.053657109375\n",
      "Maximum DrawDown: -0.08797996577311562\n",
      "Sharpe ratio: 0.6362980994190786\n",
      "=================================\n"
     ]
    },
    {
     "name": "stderr",
     "output_type": "stream",
     "text": [
      "\r",
      "  0%|                                                                                           | 0/10 [00:00<?, ?it/s]"
     ]
    },
    {
     "name": "stdout",
     "output_type": "stream",
     "text": [
      "=================================\n",
      "Initial portfolio value:100000\n",
      "Final portfolio value: 382635.71875\n",
      "Final accumulative portfolio value: 3.8263571875\n",
      "Maximum DrawDown: -0.31769131999469047\n",
      "Sharpe ratio: 0.8583252827252968\n",
      "=================================\n"
     ]
    },
    {
     "name": "stderr",
     "output_type": "stream",
     "text": [
      "\r",
      " 10%|████████▎                                                                          | 1/10 [01:10<10:32, 70.25s/it]"
     ]
    },
    {
     "name": "stdout",
     "output_type": "stream",
     "text": [
      "=================================\n",
      "Initial portfolio value:100000\n",
      "Final portfolio value: 663980.75\n",
      "Final accumulative portfolio value: 6.6398075\n",
      "Maximum DrawDown: -0.3149127963831171\n",
      "Sharpe ratio: 1.0298587543566329\n",
      "=================================\n"
     ]
    },
    {
     "name": "stderr",
     "output_type": "stream",
     "text": [
      "\r",
      " 20%|████████████████▌                                                                  | 2/10 [02:20<09:19, 70.00s/it]"
     ]
    },
    {
     "name": "stdout",
     "output_type": "stream",
     "text": [
      "=================================\n",
      "Initial portfolio value:100000\n",
      "Final portfolio value: 984629.75\n",
      "Final accumulative portfolio value: 9.8462975\n",
      "Maximum DrawDown: -0.3305084552203036\n",
      "Sharpe ratio: 1.0576222974362408\n",
      "=================================\n"
     ]
    },
    {
     "name": "stderr",
     "output_type": "stream",
     "text": [
      "\r",
      " 30%|████████████████████████▉                                                          | 3/10 [03:29<08:07, 69.70s/it]"
     ]
    },
    {
     "name": "stdout",
     "output_type": "stream",
     "text": [
      "=================================\n",
      "Initial portfolio value:100000\n",
      "Final portfolio value: 1344238.625\n",
      "Final accumulative portfolio value: 13.44238625\n",
      "Maximum DrawDown: -0.33388117786406624\n",
      "Sharpe ratio: 1.1745440079262308\n",
      "=================================\n"
     ]
    },
    {
     "name": "stderr",
     "output_type": "stream",
     "text": [
      "\r",
      " 40%|█████████████████████████████████▏                                                 | 4/10 [04:37<06:55, 69.18s/it]"
     ]
    },
    {
     "name": "stdout",
     "output_type": "stream",
     "text": [
      "=================================\n",
      "Initial portfolio value:100000\n",
      "Final portfolio value: 1492525.5\n",
      "Final accumulative portfolio value: 14.925255\n",
      "Maximum DrawDown: -0.34384482058634847\n",
      "Sharpe ratio: 1.1908681775996617\n",
      "=================================\n"
     ]
    },
    {
     "name": "stderr",
     "output_type": "stream",
     "text": [
      "\r",
      " 50%|█████████████████████████████████████████▌                                         | 5/10 [05:47<05:46, 69.32s/it]"
     ]
    },
    {
     "name": "stdout",
     "output_type": "stream",
     "text": [
      "=================================\n",
      "Initial portfolio value:100000\n",
      "Final portfolio value: 1906943.5\n",
      "Final accumulative portfolio value: 19.069435\n",
      "Maximum DrawDown: -0.3142759423150735\n",
      "Sharpe ratio: 1.2827096328254044\n",
      "=================================\n"
     ]
    },
    {
     "name": "stderr",
     "output_type": "stream",
     "text": [
      "\r",
      " 60%|█████████████████████████████████████████████████▊                                 | 6/10 [06:57<04:37, 69.44s/it]"
     ]
    },
    {
     "name": "stdout",
     "output_type": "stream",
     "text": [
      "=================================\n",
      "Initial portfolio value:100000\n",
      "Final portfolio value: 2487472.0\n",
      "Final accumulative portfolio value: 24.87472\n",
      "Maximum DrawDown: -0.3142727871752199\n",
      "Sharpe ratio: 1.366235748477699\n",
      "=================================\n"
     ]
    },
    {
     "name": "stderr",
     "output_type": "stream",
     "text": [
      "\r",
      " 70%|██████████████████████████████████████████████████████████                         | 7/10 [08:07<03:29, 69.72s/it]"
     ]
    },
    {
     "name": "stdout",
     "output_type": "stream",
     "text": [
      "=================================\n",
      "Initial portfolio value:100000\n",
      "Final portfolio value: 2939435.0\n",
      "Final accumulative portfolio value: 29.39435\n",
      "Maximum DrawDown: -0.31427262684234636\n",
      "Sharpe ratio: 1.4053617475573406\n",
      "=================================\n"
     ]
    },
    {
     "name": "stderr",
     "output_type": "stream",
     "text": [
      "\r",
      " 80%|██████████████████████████████████████████████████████████████████▍                | 8/10 [09:16<02:19, 69.59s/it]"
     ]
    },
    {
     "name": "stdout",
     "output_type": "stream",
     "text": [
      "=================================\n",
      "Initial portfolio value:100000\n",
      "Final portfolio value: 2556949.5\n",
      "Final accumulative portfolio value: 25.569495\n",
      "Maximum DrawDown: -0.32149339018286205\n",
      "Sharpe ratio: 1.3337620475923146\n",
      "=================================\n"
     ]
    },
    {
     "name": "stderr",
     "output_type": "stream",
     "text": [
      "\r",
      " 90%|██████████████████████████████████████████████████████████████████████████▋        | 9/10 [10:26<01:09, 69.66s/it]"
     ]
    },
    {
     "name": "stdout",
     "output_type": "stream",
     "text": [
      "=================================\n",
      "Initial portfolio value:100000\n",
      "Final portfolio value: 2118120.0\n",
      "Final accumulative portfolio value: 21.1812\n",
      "Maximum DrawDown: -0.314272870677499\n",
      "Sharpe ratio: 1.2721518878273534\n",
      "=================================\n"
     ]
    },
    {
     "name": "stderr",
     "output_type": "stream",
     "text": [
      "100%|██████████████████████████████████████████████████████████████████████████████████| 10/10 [11:35<00:00, 69.59s/it]\n"
     ]
    },
    {
     "name": "stdout",
     "output_type": "stream",
     "text": [
      "=================================\n",
      "Initial portfolio value:100000\n",
      "Final portfolio value: 328003.78125\n",
      "Final accumulative portfolio value: 3.2800378125\n",
      "Maximum DrawDown: -0.33427682298357475\n",
      "Sharpe ratio: 0.7981363774640209\n",
      "=================================\n",
      "=================================\n",
      "Initial portfolio value:100000\n",
      "Final portfolio value: 129568.953125\n",
      "Final accumulative portfolio value: 1.29568953125\n",
      "Maximum DrawDown: -0.04125462432236093\n",
      "Sharpe ratio: 2.6146000405420358\n",
      "=================================\n",
      "=================================\n",
      "Initial portfolio value:100000\n",
      "Final portfolio value: 97362.984375\n",
      "Final accumulative portfolio value: 0.97362984375\n",
      "Maximum DrawDown: -0.14159095334520122\n",
      "Sharpe ratio: -0.06329626471293155\n",
      "=================================\n",
      "=================================\n",
      "Initial portfolio value:100000\n",
      "Final portfolio value: 104970.71875\n",
      "Final accumulative portfolio value: 1.0497071875\n",
      "Maximum DrawDown: -0.08954393795321569\n",
      "Sharpe ratio: 0.5738745338637117\n",
      "=================================\n"
     ]
    },
    {
     "name": "stderr",
     "output_type": "stream",
     "text": [
      "\r",
      "  0%|                                                                                           | 0/10 [00:00<?, ?it/s]"
     ]
    },
    {
     "name": "stdout",
     "output_type": "stream",
     "text": [
      "=================================\n",
      "Initial portfolio value:100000\n",
      "Final portfolio value: 372212.40625\n",
      "Final accumulative portfolio value: 3.7221240625\n",
      "Maximum DrawDown: -0.32249723535453667\n",
      "Sharpe ratio: 0.8578531369986682\n",
      "=================================\n"
     ]
    },
    {
     "name": "stderr",
     "output_type": "stream",
     "text": [
      "\r",
      " 10%|████████▎                                                                          | 1/10 [01:10<10:32, 70.27s/it]"
     ]
    },
    {
     "name": "stdout",
     "output_type": "stream",
     "text": [
      "=================================\n",
      "Initial portfolio value:100000\n",
      "Final portfolio value: 596680.8125\n",
      "Final accumulative portfolio value: 5.966808125\n",
      "Maximum DrawDown: -0.29989468715309453\n",
      "Sharpe ratio: 1.011537338102964\n",
      "=================================\n"
     ]
    },
    {
     "name": "stderr",
     "output_type": "stream",
     "text": [
      "\r",
      " 20%|████████████████▌                                                                  | 2/10 [02:20<09:20, 70.08s/it]"
     ]
    },
    {
     "name": "stdout",
     "output_type": "stream",
     "text": [
      "=================================\n",
      "Initial portfolio value:100000\n",
      "Final portfolio value: 906494.75\n",
      "Final accumulative portfolio value: 9.0649475\n",
      "Maximum DrawDown: -0.30185495254235295\n",
      "Sharpe ratio: 1.106211774130815\n",
      "=================================\n"
     ]
    },
    {
     "name": "stderr",
     "output_type": "stream",
     "text": [
      "\r",
      " 30%|████████████████████████▉                                                          | 3/10 [03:31<08:13, 70.47s/it]"
     ]
    },
    {
     "name": "stdout",
     "output_type": "stream",
     "text": [
      "=================================\n",
      "Initial portfolio value:100000\n",
      "Final portfolio value: 1173249.0\n",
      "Final accumulative portfolio value: 11.73249\n",
      "Maximum DrawDown: -0.34826874130619334\n",
      "Sharpe ratio: 1.1387359199778282\n",
      "=================================\n"
     ]
    },
    {
     "name": "stderr",
     "output_type": "stream",
     "text": [
      "\r",
      " 40%|█████████████████████████████████▏                                                 | 4/10 [04:40<07:00, 70.05s/it]"
     ]
    },
    {
     "name": "stdout",
     "output_type": "stream",
     "text": [
      "=================================\n",
      "Initial portfolio value:100000\n",
      "Final portfolio value: 1381758.75\n",
      "Final accumulative portfolio value: 13.8175875\n",
      "Maximum DrawDown: -0.3804998182083479\n",
      "Sharpe ratio: 1.183842779337814\n",
      "=================================\n"
     ]
    },
    {
     "name": "stderr",
     "output_type": "stream",
     "text": [
      "\r",
      " 50%|█████████████████████████████████████████▌                                         | 5/10 [05:50<05:50, 70.17s/it]"
     ]
    },
    {
     "name": "stdout",
     "output_type": "stream",
     "text": [
      "=================================\n",
      "Initial portfolio value:100000\n",
      "Final portfolio value: 1471121.875\n",
      "Final accumulative portfolio value: 14.71121875\n",
      "Maximum DrawDown: -0.4040413815911468\n",
      "Sharpe ratio: 1.1690200084351967\n",
      "=================================\n"
     ]
    },
    {
     "name": "stderr",
     "output_type": "stream",
     "text": [
      "\r",
      " 60%|█████████████████████████████████████████████████▊                                 | 6/10 [07:01<04:40, 70.20s/it]"
     ]
    },
    {
     "name": "stdout",
     "output_type": "stream",
     "text": [
      "=================================\n",
      "Initial portfolio value:100000\n",
      "Final portfolio value: 1590368.375\n",
      "Final accumulative portfolio value: 15.90368375\n",
      "Maximum DrawDown: -0.41928881110818594\n",
      "Sharpe ratio: 1.191641090838656\n",
      "=================================\n"
     ]
    },
    {
     "name": "stderr",
     "output_type": "stream",
     "text": [
      "\r",
      " 70%|██████████████████████████████████████████████████████████                         | 7/10 [08:10<03:30, 70.07s/it]"
     ]
    },
    {
     "name": "stdout",
     "output_type": "stream",
     "text": [
      "=================================\n",
      "Initial portfolio value:100000\n",
      "Final portfolio value: 1715286.125\n",
      "Final accumulative portfolio value: 17.15286125\n",
      "Maximum DrawDown: -0.4284859928746769\n",
      "Sharpe ratio: 1.2051845841316682\n",
      "=================================\n"
     ]
    },
    {
     "name": "stderr",
     "output_type": "stream",
     "text": [
      "\r",
      " 80%|██████████████████████████████████████████████████████████████████▍                | 8/10 [09:21<02:20, 70.15s/it]"
     ]
    },
    {
     "name": "stdout",
     "output_type": "stream",
     "text": [
      "=================================\n",
      "Initial portfolio value:100000\n",
      "Final portfolio value: 1711684.25\n",
      "Final accumulative portfolio value: 17.1168425\n",
      "Maximum DrawDown: -0.43391991123356133\n",
      "Sharpe ratio: 1.1965456582502405\n",
      "=================================\n"
     ]
    },
    {
     "name": "stderr",
     "output_type": "stream",
     "text": [
      "\r",
      " 90%|██████████████████████████████████████████████████████████████████████████▋        | 9/10 [10:31<01:10, 70.15s/it]"
     ]
    },
    {
     "name": "stdout",
     "output_type": "stream",
     "text": [
      "=================================\n",
      "Initial portfolio value:100000\n",
      "Final portfolio value: 1713901.625\n",
      "Final accumulative portfolio value: 17.13901625\n",
      "Maximum DrawDown: -0.4354032616149769\n",
      "Sharpe ratio: 1.18072722589269\n",
      "=================================\n"
     ]
    },
    {
     "name": "stderr",
     "output_type": "stream",
     "text": [
      "100%|██████████████████████████████████████████████████████████████████████████████████| 10/10 [11:40<00:00, 70.10s/it]\n"
     ]
    },
    {
     "name": "stdout",
     "output_type": "stream",
     "text": [
      "=================================\n",
      "Initial portfolio value:100000\n",
      "Final portfolio value: 664581.0\n",
      "Final accumulative portfolio value: 6.64581\n",
      "Maximum DrawDown: -0.43235452581740896\n",
      "Sharpe ratio: 0.8663733531838024\n",
      "=================================\n",
      "=================================\n",
      "Initial portfolio value:100000\n",
      "Final portfolio value: 130679.6015625\n",
      "Final accumulative portfolio value: 1.306796015625\n",
      "Maximum DrawDown: -0.04369017900019434\n",
      "Sharpe ratio: 2.5734575003404823\n",
      "=================================\n",
      "=================================\n",
      "Initial portfolio value:100000\n",
      "Final portfolio value: 97221.109375\n",
      "Final accumulative portfolio value: 0.97221109375\n",
      "Maximum DrawDown: -0.1467644253342305\n",
      "Sharpe ratio: -0.06510203019792112\n",
      "=================================\n",
      "=================================\n",
      "Initial portfolio value:100000\n",
      "Final portfolio value: 106247.375\n",
      "Final accumulative portfolio value: 1.06247375\n",
      "Maximum DrawDown: -0.09395391259476893\n",
      "Sharpe ratio: 0.6848520736365747\n",
      "=================================\n"
     ]
    },
    {
     "name": "stderr",
     "output_type": "stream",
     "text": [
      "\r",
      "  0%|                                                                                           | 0/10 [00:00<?, ?it/s]"
     ]
    },
    {
     "name": "stdout",
     "output_type": "stream",
     "text": [
      "=================================\n",
      "Initial portfolio value:100000\n",
      "Final portfolio value: 425871.3125\n",
      "Final accumulative portfolio value: 4.258713125\n",
      "Maximum DrawDown: -0.3133087069143342\n",
      "Sharpe ratio: 0.9064941667116172\n",
      "=================================\n"
     ]
    },
    {
     "name": "stderr",
     "output_type": "stream",
     "text": [
      "\r",
      " 10%|████████▎                                                                          | 1/10 [01:10<10:37, 70.82s/it]"
     ]
    },
    {
     "name": "stdout",
     "output_type": "stream",
     "text": [
      "=================================\n",
      "Initial portfolio value:100000\n",
      "Final portfolio value: 811258.875\n",
      "Final accumulative portfolio value: 8.11258875\n",
      "Maximum DrawDown: -0.2991825766783075\n",
      "Sharpe ratio: 1.0308610052998797\n",
      "=================================\n"
     ]
    },
    {
     "name": "stderr",
     "output_type": "stream",
     "text": [
      "\r",
      " 20%|████████████████▌                                                                  | 2/10 [02:20<09:22, 70.34s/it]"
     ]
    },
    {
     "name": "stdout",
     "output_type": "stream",
     "text": [
      "=================================\n",
      "Initial portfolio value:100000\n",
      "Final portfolio value: 934636.9375\n",
      "Final accumulative portfolio value: 9.346369375\n",
      "Maximum DrawDown: -0.34333063319930457\n",
      "Sharpe ratio: 1.0240165333225746\n",
      "=================================\n"
     ]
    },
    {
     "name": "stderr",
     "output_type": "stream",
     "text": [
      "\r",
      " 30%|████████████████████████▉                                                          | 3/10 [03:30<08:09, 70.00s/it]"
     ]
    },
    {
     "name": "stdout",
     "output_type": "stream",
     "text": [
      "=================================\n",
      "Initial portfolio value:100000\n",
      "Final portfolio value: 1039156.0\n",
      "Final accumulative portfolio value: 10.39156\n",
      "Maximum DrawDown: -0.30948728957288496\n",
      "Sharpe ratio: 1.0613264028284253\n",
      "=================================\n"
     ]
    },
    {
     "name": "stderr",
     "output_type": "stream",
     "text": [
      "\r",
      " 40%|█████████████████████████████████▏                                                 | 4/10 [04:40<07:00, 70.12s/it]"
     ]
    },
    {
     "name": "stdout",
     "output_type": "stream",
     "text": [
      "=================================\n",
      "Initial portfolio value:100000\n",
      "Final portfolio value: 1123399.75\n",
      "Final accumulative portfolio value: 11.2339975\n",
      "Maximum DrawDown: -0.32611732139996885\n",
      "Sharpe ratio: 1.0863983149301215\n",
      "=================================\n"
     ]
    },
    {
     "name": "stderr",
     "output_type": "stream",
     "text": [
      "\r",
      " 50%|█████████████████████████████████████████▌                                         | 5/10 [05:49<05:49, 69.81s/it]"
     ]
    },
    {
     "name": "stdout",
     "output_type": "stream",
     "text": [
      "=================================\n",
      "Initial portfolio value:100000\n",
      "Final portfolio value: 1118310.625\n",
      "Final accumulative portfolio value: 11.18310625\n",
      "Maximum DrawDown: -0.28847542043403585\n",
      "Sharpe ratio: 1.0717579304137352\n",
      "=================================\n"
     ]
    },
    {
     "name": "stderr",
     "output_type": "stream",
     "text": [
      "\r",
      " 60%|█████████████████████████████████████████████████▊                                 | 6/10 [06:59<04:39, 69.80s/it]"
     ]
    },
    {
     "name": "stdout",
     "output_type": "stream",
     "text": [
      "=================================\n",
      "Initial portfolio value:100000\n",
      "Final portfolio value: 1364808.0\n",
      "Final accumulative portfolio value: 13.64808\n",
      "Maximum DrawDown: -0.28150180108395473\n",
      "Sharpe ratio: 1.1301575926815446\n",
      "=================================\n"
     ]
    },
    {
     "name": "stderr",
     "output_type": "stream",
     "text": [
      "\r",
      " 70%|██████████████████████████████████████████████████████████                         | 7/10 [08:09<03:29, 69.85s/it]"
     ]
    },
    {
     "name": "stdout",
     "output_type": "stream",
     "text": [
      "=================================\n",
      "Initial portfolio value:100000\n",
      "Final portfolio value: 1165981.75\n",
      "Final accumulative portfolio value: 11.6598175\n",
      "Maximum DrawDown: -0.28066043375018346\n",
      "Sharpe ratio: 1.0918191244877704\n",
      "=================================\n"
     ]
    },
    {
     "name": "stderr",
     "output_type": "stream",
     "text": [
      "\r",
      " 80%|██████████████████████████████████████████████████████████████████▍                | 8/10 [09:20<02:20, 70.02s/it]"
     ]
    },
    {
     "name": "stdout",
     "output_type": "stream",
     "text": [
      "=================================\n",
      "Initial portfolio value:100000\n",
      "Final portfolio value: 1289532.0\n",
      "Final accumulative portfolio value: 12.89532\n",
      "Maximum DrawDown: -0.281251057964636\n",
      "Sharpe ratio: 1.1070030439831082\n",
      "=================================\n"
     ]
    },
    {
     "name": "stderr",
     "output_type": "stream",
     "text": [
      "\r",
      " 90%|██████████████████████████████████████████████████████████████████████████▋        | 9/10 [10:29<01:09, 69.91s/it]"
     ]
    },
    {
     "name": "stdout",
     "output_type": "stream",
     "text": [
      "=================================\n",
      "Initial portfolio value:100000\n",
      "Final portfolio value: 1438867.125\n",
      "Final accumulative portfolio value: 14.38867125\n",
      "Maximum DrawDown: -0.28071514756354443\n",
      "Sharpe ratio: 1.1597623644960677\n",
      "=================================\n"
     ]
    },
    {
     "name": "stderr",
     "output_type": "stream",
     "text": [
      "100%|██████████████████████████████████████████████████████████████████████████████████| 10/10 [11:40<00:00, 70.04s/it]\n"
     ]
    },
    {
     "name": "stdout",
     "output_type": "stream",
     "text": [
      "=================================\n",
      "Initial portfolio value:100000\n",
      "Final portfolio value: 549538.3125\n",
      "Final accumulative portfolio value: 5.495383125\n",
      "Maximum DrawDown: -0.43617776461452484\n",
      "Sharpe ratio: 0.8325868067648701\n",
      "=================================\n",
      "=================================\n",
      "Initial portfolio value:100000\n",
      "Final portfolio value: 130150.0625\n",
      "Final accumulative portfolio value: 1.301500625\n",
      "Maximum DrawDown: -0.042236514005703496\n",
      "Sharpe ratio: 2.6280727236246424\n",
      "=================================\n",
      "=================================\n",
      "Initial portfolio value:100000\n",
      "Final portfolio value: 97430.3984375\n",
      "Final accumulative portfolio value: 0.974303984375\n",
      "Maximum DrawDown: -0.14798694784048094\n",
      "Sharpe ratio: -0.04870787068645319\n",
      "=================================\n",
      "=================================\n",
      "Initial portfolio value:100000\n",
      "Final portfolio value: 106096.71875\n",
      "Final accumulative portfolio value: 1.0609671875\n",
      "Maximum DrawDown: -0.09295473746792093\n",
      "Sharpe ratio: 0.6680881642023356\n",
      "=================================\n"
     ]
    },
    {
     "name": "stderr",
     "output_type": "stream",
     "text": [
      "\r",
      "  0%|                                                                                           | 0/10 [00:00<?, ?it/s]"
     ]
    },
    {
     "name": "stdout",
     "output_type": "stream",
     "text": [
      "=================================\n",
      "Initial portfolio value:100000\n",
      "Final portfolio value: 356579.71875\n",
      "Final accumulative portfolio value: 3.5657971875\n",
      "Maximum DrawDown: -0.3295388031547115\n",
      "Sharpe ratio: 0.8340733622144606\n",
      "=================================\n"
     ]
    },
    {
     "name": "stderr",
     "output_type": "stream",
     "text": [
      "\r",
      " 10%|████████▎                                                                          | 1/10 [01:09<10:23, 69.29s/it]"
     ]
    },
    {
     "name": "stdout",
     "output_type": "stream",
     "text": [
      "=================================\n",
      "Initial portfolio value:100000\n",
      "Final portfolio value: 559907.875\n",
      "Final accumulative portfolio value: 5.59907875\n",
      "Maximum DrawDown: -0.3069866892433386\n",
      "Sharpe ratio: 0.9882757538705493\n",
      "=================================\n"
     ]
    },
    {
     "name": "stderr",
     "output_type": "stream",
     "text": [
      "\r",
      " 20%|████████████████▌                                                                  | 2/10 [02:18<09:15, 69.39s/it]"
     ]
    },
    {
     "name": "stdout",
     "output_type": "stream",
     "text": [
      "=================================\n",
      "Initial portfolio value:100000\n",
      "Final portfolio value: 951188.5\n",
      "Final accumulative portfolio value: 9.511885\n",
      "Maximum DrawDown: -0.30970685664348996\n",
      "Sharpe ratio: 1.1161760031247598\n",
      "=================================\n"
     ]
    },
    {
     "name": "stderr",
     "output_type": "stream",
     "text": [
      "\r",
      " 30%|████████████████████████▉                                                          | 3/10 [03:27<08:05, 69.31s/it]"
     ]
    },
    {
     "name": "stdout",
     "output_type": "stream",
     "text": [
      "=================================\n",
      "Initial portfolio value:100000\n",
      "Final portfolio value: 1205384.625\n",
      "Final accumulative portfolio value: 12.05384625\n",
      "Maximum DrawDown: -0.35881643804022334\n",
      "Sharpe ratio: 1.1194782013250706\n",
      "=================================\n"
     ]
    },
    {
     "name": "stderr",
     "output_type": "stream",
     "text": [
      "\r",
      " 40%|█████████████████████████████████▏                                                 | 4/10 [04:37<06:56, 69.47s/it]"
     ]
    },
    {
     "name": "stdout",
     "output_type": "stream",
     "text": [
      "=================================\n",
      "Initial portfolio value:100000\n",
      "Final portfolio value: 1392784.5\n",
      "Final accumulative portfolio value: 13.927845\n",
      "Maximum DrawDown: -0.3639838399410351\n",
      "Sharpe ratio: 1.1691311477452493\n",
      "=================================\n"
     ]
    },
    {
     "name": "stderr",
     "output_type": "stream",
     "text": [
      "\r",
      " 50%|█████████████████████████████████████████▌                                         | 5/10 [05:47<05:48, 69.72s/it]"
     ]
    },
    {
     "name": "stdout",
     "output_type": "stream",
     "text": [
      "=================================\n",
      "Initial portfolio value:100000\n",
      "Final portfolio value: 1466429.25\n",
      "Final accumulative portfolio value: 14.6642925\n",
      "Maximum DrawDown: -0.36735110839913965\n",
      "Sharpe ratio: 1.1752011685393162\n",
      "=================================\n"
     ]
    },
    {
     "name": "stderr",
     "output_type": "stream",
     "text": [
      "\r",
      " 60%|█████████████████████████████████████████████████▊                                 | 6/10 [06:57<04:38, 69.55s/it]"
     ]
    },
    {
     "name": "stdout",
     "output_type": "stream",
     "text": [
      "=================================\n",
      "Initial portfolio value:100000\n",
      "Final portfolio value: 1749543.75\n",
      "Final accumulative portfolio value: 17.4954375\n",
      "Maximum DrawDown: -0.35143823755582093\n",
      "Sharpe ratio: 1.2399059535600805\n",
      "=================================\n"
     ]
    },
    {
     "name": "stderr",
     "output_type": "stream",
     "text": [
      "\r",
      " 70%|██████████████████████████████████████████████████████████                         | 7/10 [08:09<03:31, 70.49s/it]"
     ]
    },
    {
     "name": "stdout",
     "output_type": "stream",
     "text": [
      "=================================\n",
      "Initial portfolio value:100000\n",
      "Final portfolio value: 2273145.25\n",
      "Final accumulative portfolio value: 22.7314525\n",
      "Maximum DrawDown: -0.3143307880671721\n",
      "Sharpe ratio: 1.3384684309353425\n",
      "=================================\n"
     ]
    },
    {
     "name": "stderr",
     "output_type": "stream",
     "text": [
      "\r",
      " 80%|██████████████████████████████████████████████████████████████████▍                | 8/10 [09:19<02:20, 70.29s/it]"
     ]
    },
    {
     "name": "stdout",
     "output_type": "stream",
     "text": [
      "=================================\n",
      "Initial portfolio value:100000\n",
      "Final portfolio value: 2380376.75\n",
      "Final accumulative portfolio value: 23.8037675\n",
      "Maximum DrawDown: -0.3142730383120501\n",
      "Sharpe ratio: 1.3364125940495317\n",
      "=================================\n"
     ]
    },
    {
     "name": "stderr",
     "output_type": "stream",
     "text": [
      "\r",
      " 90%|██████████████████████████████████████████████████████████████████████████▋        | 9/10 [10:29<01:10, 70.25s/it]"
     ]
    },
    {
     "name": "stdout",
     "output_type": "stream",
     "text": [
      "=================================\n",
      "Initial portfolio value:100000\n",
      "Final portfolio value: 2719940.0\n",
      "Final accumulative portfolio value: 27.1994\n",
      "Maximum DrawDown: -0.3142725064738141\n",
      "Sharpe ratio: 1.3812488453123972\n",
      "=================================\n"
     ]
    },
    {
     "name": "stderr",
     "output_type": "stream",
     "text": [
      "100%|██████████████████████████████████████████████████████████████████████████████████| 10/10 [11:38<00:00, 69.85s/it]\n"
     ]
    },
    {
     "name": "stdout",
     "output_type": "stream",
     "text": [
      "=================================\n",
      "Initial portfolio value:100000\n",
      "Final portfolio value: 412346.09375\n",
      "Final accumulative portfolio value: 4.1234609375\n",
      "Maximum DrawDown: -0.4351898801628039\n",
      "Sharpe ratio: 0.7123132399079173\n",
      "=================================\n",
      "=================================\n",
      "Initial portfolio value:100000\n",
      "Final portfolio value: 129453.5078125\n",
      "Final accumulative portfolio value: 1.294535078125\n",
      "Maximum DrawDown: -0.05435733205780302\n",
      "Sharpe ratio: 2.55913085083433\n",
      "=================================\n",
      "=================================\n",
      "Initial portfolio value:100000\n",
      "Final portfolio value: 97602.4375\n",
      "Final accumulative portfolio value: 0.976024375\n",
      "Maximum DrawDown: -0.14047843785934344\n",
      "Sharpe ratio: -0.05162008424370085\n",
      "=================================\n",
      "=================================\n",
      "Initial portfolio value:100000\n",
      "Final portfolio value: 105747.9921875\n",
      "Final accumulative portfolio value: 1.057479921875\n",
      "Maximum DrawDown: -0.11613177020625765\n",
      "Sharpe ratio: 0.62031028773176\n",
      "=================================\n"
     ]
    },
    {
     "name": "stderr",
     "output_type": "stream",
     "text": [
      "\r",
      "  0%|                                                                                           | 0/10 [00:00<?, ?it/s]"
     ]
    },
    {
     "name": "stdout",
     "output_type": "stream",
     "text": [
      "=================================\n",
      "Initial portfolio value:100000\n",
      "Final portfolio value: 379100.625\n",
      "Final accumulative portfolio value: 3.79100625\n",
      "Maximum DrawDown: -0.3196925260344564\n",
      "Sharpe ratio: 0.8619151902662552\n",
      "=================================\n"
     ]
    },
    {
     "name": "stderr",
     "output_type": "stream",
     "text": [
      "\r",
      " 10%|████████▎                                                                          | 1/10 [01:10<10:33, 70.43s/it]"
     ]
    },
    {
     "name": "stdout",
     "output_type": "stream",
     "text": [
      "=================================\n",
      "Initial portfolio value:100000\n",
      "Final portfolio value: 648714.125\n",
      "Final accumulative portfolio value: 6.48714125\n",
      "Maximum DrawDown: -0.3311366900023359\n",
      "Sharpe ratio: 1.0222886954142174\n",
      "=================================\n"
     ]
    },
    {
     "name": "stderr",
     "output_type": "stream",
     "text": [
      "\r",
      " 20%|████████████████▌                                                                  | 2/10 [02:19<09:18, 69.86s/it]"
     ]
    },
    {
     "name": "stdout",
     "output_type": "stream",
     "text": [
      "=================================\n",
      "Initial portfolio value:100000\n",
      "Final portfolio value: 875744.75\n",
      "Final accumulative portfolio value: 8.7574475\n",
      "Maximum DrawDown: -0.34319789406372603\n",
      "Sharpe ratio: 1.0242871629447516\n",
      "=================================\n"
     ]
    },
    {
     "name": "stderr",
     "output_type": "stream",
     "text": [
      "\r",
      " 30%|████████████████████████▉                                                          | 3/10 [03:29<08:07, 69.68s/it]"
     ]
    },
    {
     "name": "stdout",
     "output_type": "stream",
     "text": [
      "=================================\n",
      "Initial portfolio value:100000\n",
      "Final portfolio value: 1199773.75\n",
      "Final accumulative portfolio value: 11.9977375\n",
      "Maximum DrawDown: -0.31761909000166977\n",
      "Sharpe ratio: 1.1359979833499696\n",
      "=================================\n"
     ]
    },
    {
     "name": "stderr",
     "output_type": "stream",
     "text": [
      "\r",
      " 40%|█████████████████████████████████▏                                                 | 4/10 [04:39<06:59, 69.89s/it]"
     ]
    },
    {
     "name": "stdout",
     "output_type": "stream",
     "text": [
      "=================================\n",
      "Initial portfolio value:100000\n",
      "Final portfolio value: 1678841.875\n",
      "Final accumulative portfolio value: 16.78841875\n",
      "Maximum DrawDown: -0.3458381957161808\n",
      "Sharpe ratio: 1.2493005492741054\n",
      "=================================\n"
     ]
    },
    {
     "name": "stderr",
     "output_type": "stream",
     "text": [
      "\r",
      " 50%|█████████████████████████████████████████▌                                         | 5/10 [05:48<05:48, 69.69s/it]"
     ]
    },
    {
     "name": "stdout",
     "output_type": "stream",
     "text": [
      "=================================\n",
      "Initial portfolio value:100000\n",
      "Final portfolio value: 2332985.0\n",
      "Final accumulative portfolio value: 23.32985\n",
      "Maximum DrawDown: -0.314275288904429\n",
      "Sharpe ratio: 1.3594649750144234\n",
      "=================================\n"
     ]
    },
    {
     "name": "stderr",
     "output_type": "stream",
     "text": [
      "\r",
      " 60%|█████████████████████████████████████████████████▊                                 | 6/10 [06:58<04:38, 69.55s/it]"
     ]
    },
    {
     "name": "stdout",
     "output_type": "stream",
     "text": [
      "=================================\n",
      "Initial portfolio value:100000\n",
      "Final portfolio value: 2718515.5\n",
      "Final accumulative portfolio value: 27.185155\n",
      "Maximum DrawDown: -0.31427349423755824\n",
      "Sharpe ratio: 1.388512954065239\n",
      "=================================\n"
     ]
    },
    {
     "name": "stderr",
     "output_type": "stream",
     "text": [
      "\r",
      " 70%|██████████████████████████████████████████████████████████                         | 7/10 [08:08<03:29, 69.72s/it]"
     ]
    },
    {
     "name": "stdout",
     "output_type": "stream",
     "text": [
      "=================================\n",
      "Initial portfolio value:100000\n",
      "Final portfolio value: 2843812.75\n",
      "Final accumulative portfolio value: 28.4381275\n",
      "Maximum DrawDown: -0.3142728899181746\n",
      "Sharpe ratio: 1.393673057338475\n",
      "=================================\n"
     ]
    },
    {
     "name": "stderr",
     "output_type": "stream",
     "text": [
      "\r",
      " 80%|██████████████████████████████████████████████████████████████████▍                | 8/10 [09:18<02:19, 69.76s/it]"
     ]
    },
    {
     "name": "stdout",
     "output_type": "stream",
     "text": [
      "=================================\n",
      "Initial portfolio value:100000\n",
      "Final portfolio value: 1807517.5\n",
      "Final accumulative portfolio value: 18.075175\n",
      "Maximum DrawDown: -0.31427142681064824\n",
      "Sharpe ratio: 1.2044431687518966\n",
      "=================================\n"
     ]
    },
    {
     "name": "stderr",
     "output_type": "stream",
     "text": [
      "\r",
      " 90%|██████████████████████████████████████████████████████████████████████████▋        | 9/10 [10:28<01:09, 69.89s/it]"
     ]
    },
    {
     "name": "stdout",
     "output_type": "stream",
     "text": [
      "=================================\n",
      "Initial portfolio value:100000\n",
      "Final portfolio value: 1605400.5\n",
      "Final accumulative portfolio value: 16.054005\n",
      "Maximum DrawDown: -0.41786751952309154\n",
      "Sharpe ratio: 1.1714789543392798\n",
      "=================================\n"
     ]
    },
    {
     "name": "stderr",
     "output_type": "stream",
     "text": [
      "100%|██████████████████████████████████████████████████████████████████████████████████| 10/10 [11:38<00:00, 69.83s/it]\n"
     ]
    },
    {
     "name": "stdout",
     "output_type": "stream",
     "text": [
      "=================================\n",
      "Initial portfolio value:100000\n",
      "Final portfolio value: 526905.5\n",
      "Final accumulative portfolio value: 5.269055\n",
      "Maximum DrawDown: -0.4377422365175778\n",
      "Sharpe ratio: 0.7445020612848038\n",
      "=================================\n",
      "=================================\n",
      "Initial portfolio value:100000\n",
      "Final portfolio value: 131387.296875\n",
      "Final accumulative portfolio value: 1.31387296875\n",
      "Maximum DrawDown: -0.04471331882433893\n",
      "Sharpe ratio: 2.6341994652901044\n",
      "=================================\n",
      "=================================\n",
      "Initial portfolio value:100000\n",
      "Final portfolio value: 96898.0234375\n",
      "Final accumulative portfolio value: 0.968980234375\n",
      "Maximum DrawDown: -0.14629973157352394\n",
      "Sharpe ratio: -0.08385871122887191\n",
      "=================================\n",
      "=================================\n",
      "Initial portfolio value:100000\n",
      "Final portfolio value: 106066.2109375\n",
      "Final accumulative portfolio value: 1.060662109375\n",
      "Maximum DrawDown: -0.09436135656894429\n",
      "Sharpe ratio: 0.6718023614033873\n",
      "=================================\n"
     ]
    },
    {
     "name": "stderr",
     "output_type": "stream",
     "text": [
      "\r",
      "  0%|                                                                                           | 0/10 [00:00<?, ?it/s]"
     ]
    },
    {
     "name": "stdout",
     "output_type": "stream",
     "text": [
      "=================================\n",
      "Initial portfolio value:100000\n",
      "Final portfolio value: 412095.59375\n",
      "Final accumulative portfolio value: 4.1209559375\n",
      "Maximum DrawDown: -0.31278781400263467\n",
      "Sharpe ratio: 0.8938925541908074\n",
      "=================================\n"
     ]
    },
    {
     "name": "stderr",
     "output_type": "stream",
     "text": [
      "\r",
      " 10%|████████▎                                                                          | 1/10 [01:09<10:25, 69.47s/it]"
     ]
    },
    {
     "name": "stdout",
     "output_type": "stream",
     "text": [
      "=================================\n",
      "Initial portfolio value:100000\n",
      "Final portfolio value: 651087.25\n",
      "Final accumulative portfolio value: 6.5108725\n",
      "Maximum DrawDown: -0.3145192616287925\n",
      "Sharpe ratio: 1.0013465967223913\n",
      "=================================\n"
     ]
    },
    {
     "name": "stderr",
     "output_type": "stream",
     "text": [
      "\r",
      " 20%|████████████████▌                                                                  | 2/10 [02:19<09:17, 69.72s/it]"
     ]
    },
    {
     "name": "stdout",
     "output_type": "stream",
     "text": [
      "=================================\n",
      "Initial portfolio value:100000\n",
      "Final portfolio value: 912921.4375\n",
      "Final accumulative portfolio value: 9.129214375\n",
      "Maximum DrawDown: -0.3467488231296125\n",
      "Sharpe ratio: 1.0622992045249517\n",
      "=================================\n"
     ]
    },
    {
     "name": "stderr",
     "output_type": "stream",
     "text": [
      "\r",
      " 30%|████████████████████████▉                                                          | 3/10 [03:29<08:10, 70.01s/it]"
     ]
    },
    {
     "name": "stdout",
     "output_type": "stream",
     "text": [
      "=================================\n",
      "Initial portfolio value:100000\n",
      "Final portfolio value: 1270674.75\n",
      "Final accumulative portfolio value: 12.7067475\n",
      "Maximum DrawDown: -0.31808576589600024\n",
      "Sharpe ratio: 1.1696266356457579\n",
      "=================================\n"
     ]
    },
    {
     "name": "stderr",
     "output_type": "stream",
     "text": [
      "\r",
      " 40%|█████████████████████████████████▏                                                 | 4/10 [04:39<06:58, 69.73s/it]"
     ]
    },
    {
     "name": "stdout",
     "output_type": "stream",
     "text": [
      "=================================\n",
      "Initial portfolio value:100000\n",
      "Final portfolio value: 1916451.375\n",
      "Final accumulative portfolio value: 19.16451375\n",
      "Maximum DrawDown: -0.31432252361842794\n",
      "Sharpe ratio: 1.3078414171271266\n",
      "=================================\n"
     ]
    },
    {
     "name": "stderr",
     "output_type": "stream",
     "text": [
      "\r",
      " 50%|█████████████████████████████████████████▌                                         | 5/10 [05:47<05:46, 69.32s/it]"
     ]
    },
    {
     "name": "stdout",
     "output_type": "stream",
     "text": [
      "=================================\n",
      "Initial portfolio value:100000\n",
      "Final portfolio value: 2351703.0\n",
      "Final accumulative portfolio value: 23.51703\n",
      "Maximum DrawDown: -0.3142732867006214\n",
      "Sharpe ratio: 1.3578367122608128\n",
      "=================================\n"
     ]
    },
    {
     "name": "stderr",
     "output_type": "stream",
     "text": [
      "\r",
      " 60%|█████████████████████████████████████████████████▊                                 | 6/10 [06:56<04:36, 69.08s/it]"
     ]
    },
    {
     "name": "stdout",
     "output_type": "stream",
     "text": [
      "=================================\n",
      "Initial portfolio value:100000\n",
      "Final portfolio value: 2837833.0\n",
      "Final accumulative portfolio value: 28.37833\n",
      "Maximum DrawDown: -0.3142730354061545\n",
      "Sharpe ratio: 1.3963459316672555\n",
      "=================================\n"
     ]
    },
    {
     "name": "stderr",
     "output_type": "stream",
     "text": [
      "\r",
      " 70%|██████████████████████████████████████████████████████████                         | 7/10 [08:05<03:27, 69.23s/it]"
     ]
    },
    {
     "name": "stdout",
     "output_type": "stream",
     "text": [
      "=================================\n",
      "Initial portfolio value:100000\n",
      "Final portfolio value: 2868029.75\n",
      "Final accumulative portfolio value: 28.6802975\n",
      "Maximum DrawDown: -0.31427281018604447\n",
      "Sharpe ratio: 1.3860466294435223\n",
      "=================================\n"
     ]
    },
    {
     "name": "stderr",
     "output_type": "stream",
     "text": [
      "\r",
      " 80%|██████████████████████████████████████████████████████████████████▍                | 8/10 [09:15<02:19, 69.53s/it]"
     ]
    },
    {
     "name": "stdout",
     "output_type": "stream",
     "text": [
      "=================================\n",
      "Initial portfolio value:100000\n",
      "Final portfolio value: 2110134.75\n",
      "Final accumulative portfolio value: 21.1013475\n",
      "Maximum DrawDown: -0.3908600125755345\n",
      "Sharpe ratio: 1.2605762241167084\n",
      "=================================\n"
     ]
    },
    {
     "name": "stderr",
     "output_type": "stream",
     "text": [
      "\r",
      " 90%|██████████████████████████████████████████████████████████████████████████▋        | 9/10 [10:26<01:09, 69.81s/it]"
     ]
    },
    {
     "name": "stdout",
     "output_type": "stream",
     "text": [
      "=================================\n",
      "Initial portfolio value:100000\n",
      "Final portfolio value: 2764629.5\n",
      "Final accumulative portfolio value: 27.646295\n",
      "Maximum DrawDown: -0.31427278306719264\n",
      "Sharpe ratio: 1.3859044235330498\n",
      "=================================\n"
     ]
    },
    {
     "name": "stderr",
     "output_type": "stream",
     "text": [
      "100%|██████████████████████████████████████████████████████████████████████████████████| 10/10 [11:36<00:00, 69.64s/it]\n"
     ]
    },
    {
     "name": "stdout",
     "output_type": "stream",
     "text": [
      "=================================\n",
      "Initial portfolio value:100000\n",
      "Final portfolio value: 416711.71875\n",
      "Final accumulative portfolio value: 4.1671171875\n",
      "Maximum DrawDown: -0.4375510448172726\n",
      "Sharpe ratio: 0.7217097362419763\n",
      "=================================\n",
      "=================================\n",
      "Initial portfolio value:100000\n",
      "Final portfolio value: 129919.40625\n",
      "Final accumulative portfolio value: 1.2991940625\n",
      "Maximum DrawDown: -0.04865577634371032\n",
      "Sharpe ratio: 2.577571907594418\n",
      "=================================\n",
      "=================================\n",
      "Initial portfolio value:100000\n",
      "Final portfolio value: 97307.8515625\n",
      "Final accumulative portfolio value: 0.973078515625\n",
      "Maximum DrawDown: -0.1408577355698205\n",
      "Sharpe ratio: -0.06666745882917627\n",
      "=================================\n",
      "=================================\n",
      "Initial portfolio value:100000\n",
      "Final portfolio value: 107612.34375\n",
      "Final accumulative portfolio value: 1.0761234375\n",
      "Maximum DrawDown: -0.10474125695054404\n",
      "Sharpe ratio: 0.796118871783374\n",
      "=================================\n"
     ]
    },
    {
     "name": "stderr",
     "output_type": "stream",
     "text": [
      "\r",
      "  0%|                                                                                           | 0/10 [00:00<?, ?it/s]"
     ]
    },
    {
     "name": "stdout",
     "output_type": "stream",
     "text": [
      "=================================\n",
      "Initial portfolio value:100000\n",
      "Final portfolio value: 361617.34375\n",
      "Final accumulative portfolio value: 3.6161734375\n",
      "Maximum DrawDown: -0.33457018170932584\n",
      "Sharpe ratio: 0.8388308682074658\n",
      "=================================\n"
     ]
    },
    {
     "name": "stderr",
     "output_type": "stream",
     "text": [
      "\r",
      " 10%|████████▎                                                                          | 1/10 [01:10<10:31, 70.20s/it]"
     ]
    },
    {
     "name": "stdout",
     "output_type": "stream",
     "text": [
      "=================================\n",
      "Initial portfolio value:100000\n",
      "Final portfolio value: 567354.1875\n",
      "Final accumulative portfolio value: 5.673541875\n",
      "Maximum DrawDown: -0.3186044348663535\n",
      "Sharpe ratio: 0.9992327534488581\n",
      "=================================\n"
     ]
    },
    {
     "name": "stderr",
     "output_type": "stream",
     "text": [
      "\r",
      " 20%|████████████████▌                                                                  | 2/10 [02:21<09:25, 70.72s/it]"
     ]
    },
    {
     "name": "stdout",
     "output_type": "stream",
     "text": [
      "=================================\n",
      "Initial portfolio value:100000\n",
      "Final portfolio value: 837460.875\n",
      "Final accumulative portfolio value: 8.37460875\n",
      "Maximum DrawDown: -0.327046280345884\n",
      "Sharpe ratio: 1.0850617103855018\n",
      "=================================\n"
     ]
    },
    {
     "name": "stderr",
     "output_type": "stream",
     "text": [
      "\r",
      " 30%|████████████████████████▉                                                          | 3/10 [03:31<08:12, 70.36s/it]"
     ]
    },
    {
     "name": "stdout",
     "output_type": "stream",
     "text": [
      "=================================\n",
      "Initial portfolio value:100000\n",
      "Final portfolio value: 1149119.875\n",
      "Final accumulative portfolio value: 11.49119875\n",
      "Maximum DrawDown: -0.32940381788780515\n",
      "Sharpe ratio: 1.143257353195238\n",
      "=================================\n"
     ]
    },
    {
     "name": "stderr",
     "output_type": "stream",
     "text": [
      "\r",
      " 40%|█████████████████████████████████▏                                                 | 4/10 [04:41<07:01, 70.27s/it]"
     ]
    },
    {
     "name": "stdout",
     "output_type": "stream",
     "text": [
      "=================================\n",
      "Initial portfolio value:100000\n",
      "Final portfolio value: 1491088.125\n",
      "Final accumulative portfolio value: 14.91088125\n",
      "Maximum DrawDown: -0.3176387338512199\n",
      "Sharpe ratio: 1.2154216281520016\n",
      "=================================\n"
     ]
    },
    {
     "name": "stderr",
     "output_type": "stream",
     "text": [
      "\r",
      " 50%|█████████████████████████████████████████▌                                         | 5/10 [05:51<05:51, 70.23s/it]"
     ]
    },
    {
     "name": "stdout",
     "output_type": "stream",
     "text": [
      "=================================\n",
      "Initial portfolio value:100000\n",
      "Final portfolio value: 1875008.5\n",
      "Final accumulative portfolio value: 18.750085\n",
      "Maximum DrawDown: -0.31510814925666963\n",
      "Sharpe ratio: 1.2882722731653553\n",
      "=================================\n"
     ]
    },
    {
     "name": "stderr",
     "output_type": "stream",
     "text": [
      "\r",
      " 60%|█████████████████████████████████████████████████▊                                 | 6/10 [07:01<04:40, 70.18s/it]"
     ]
    },
    {
     "name": "stdout",
     "output_type": "stream",
     "text": [
      "=================================\n",
      "Initial portfolio value:100000\n",
      "Final portfolio value: 2270266.25\n",
      "Final accumulative portfolio value: 22.7026625\n",
      "Maximum DrawDown: -0.3144061766945325\n",
      "Sharpe ratio: 1.3499024666212114\n",
      "=================================\n"
     ]
    },
    {
     "name": "stderr",
     "output_type": "stream",
     "text": [
      "\r",
      " 70%|██████████████████████████████████████████████████████████                         | 7/10 [08:11<03:30, 70.10s/it]"
     ]
    },
    {
     "name": "stdout",
     "output_type": "stream",
     "text": [
      "=================================\n",
      "Initial portfolio value:100000\n",
      "Final portfolio value: 2462548.0\n",
      "Final accumulative portfolio value: 24.62548\n",
      "Maximum DrawDown: -0.3142918898829322\n",
      "Sharpe ratio: 1.3619782818104678\n",
      "=================================\n"
     ]
    },
    {
     "name": "stderr",
     "output_type": "stream",
     "text": [
      "\r",
      " 80%|██████████████████████████████████████████████████████████████████▍                | 8/10 [09:21<02:19, 69.95s/it]"
     ]
    },
    {
     "name": "stdout",
     "output_type": "stream",
     "text": [
      "=================================\n",
      "Initial portfolio value:100000\n",
      "Final portfolio value: 2789319.25\n",
      "Final accumulative portfolio value: 27.8931925\n",
      "Maximum DrawDown: -0.31427707480570644\n",
      "Sharpe ratio: 1.3940123500567725\n",
      "=================================\n"
     ]
    },
    {
     "name": "stderr",
     "output_type": "stream",
     "text": [
      "\r",
      " 90%|██████████████████████████████████████████████████████████████████████████▋        | 9/10 [10:34<01:10, 70.89s/it]"
     ]
    },
    {
     "name": "stdout",
     "output_type": "stream",
     "text": [
      "=================================\n",
      "Initial portfolio value:100000\n",
      "Final portfolio value: 2891965.75\n",
      "Final accumulative portfolio value: 28.9196575\n",
      "Maximum DrawDown: -0.3142736250529845\n",
      "Sharpe ratio: 1.395782572380718\n",
      "=================================\n"
     ]
    },
    {
     "name": "stderr",
     "output_type": "stream",
     "text": [
      "100%|██████████████████████████████████████████████████████████████████████████████████| 10/10 [11:44<00:00, 70.41s/it]\n"
     ]
    },
    {
     "name": "stdout",
     "output_type": "stream",
     "text": [
      "=================================\n",
      "Initial portfolio value:100000\n",
      "Final portfolio value: 325971.5\n",
      "Final accumulative portfolio value: 3.259715\n",
      "Maximum DrawDown: -0.33644109224780805\n",
      "Sharpe ratio: 0.7917904330792679\n",
      "=================================\n",
      "=================================\n",
      "Initial portfolio value:100000\n",
      "Final portfolio value: 129834.9296875\n",
      "Final accumulative portfolio value: 1.298349296875\n",
      "Maximum DrawDown: -0.041650265471648296\n",
      "Sharpe ratio: 2.6075804362427863\n",
      "=================================\n",
      "=================================\n",
      "Initial portfolio value:100000\n",
      "Final portfolio value: 97318.9921875\n",
      "Final accumulative portfolio value: 0.973189921875\n",
      "Maximum DrawDown: -0.14583037168523227\n",
      "Sharpe ratio: -0.057142919329941165\n",
      "=================================\n",
      "=================================\n",
      "Initial portfolio value:100000\n",
      "Final portfolio value: 106309.390625\n",
      "Final accumulative portfolio value: 1.06309390625\n",
      "Maximum DrawDown: -0.09398948507673588\n",
      "Sharpe ratio: 0.691733540817191\n",
      "=================================\n"
     ]
    },
    {
     "name": "stderr",
     "output_type": "stream",
     "text": [
      "\r",
      "  0%|                                                                                           | 0/10 [00:00<?, ?it/s]"
     ]
    },
    {
     "name": "stdout",
     "output_type": "stream",
     "text": [
      "=================================\n",
      "Initial portfolio value:100000\n",
      "Final portfolio value: 387407.03125\n",
      "Final accumulative portfolio value: 3.8740703125\n",
      "Maximum DrawDown: -0.31698484269505733\n",
      "Sharpe ratio: 0.8690861615520654\n",
      "=================================\n"
     ]
    },
    {
     "name": "stderr",
     "output_type": "stream",
     "text": [
      "\r",
      " 10%|████████▎                                                                          | 1/10 [01:10<10:30, 70.00s/it]"
     ]
    },
    {
     "name": "stdout",
     "output_type": "stream",
     "text": [
      "=================================\n",
      "Initial portfolio value:100000\n",
      "Final portfolio value: 675294.75\n",
      "Final accumulative portfolio value: 6.7529475\n",
      "Maximum DrawDown: -0.29968356097201265\n",
      "Sharpe ratio: 0.9907908328776146\n",
      "=================================\n"
     ]
    },
    {
     "name": "stderr",
     "output_type": "stream",
     "text": [
      "\r",
      " 20%|████████████████▌                                                                  | 2/10 [02:20<09:22, 70.34s/it]"
     ]
    },
    {
     "name": "stdout",
     "output_type": "stream",
     "text": [
      "=================================\n",
      "Initial portfolio value:100000\n",
      "Final portfolio value: 920929.0625\n",
      "Final accumulative portfolio value: 9.209290625\n",
      "Maximum DrawDown: -0.3541235190765516\n",
      "Sharpe ratio: 0.9917318507025595\n",
      "=================================\n"
     ]
    },
    {
     "name": "stderr",
     "output_type": "stream",
     "text": [
      "\r",
      " 30%|████████████████████████▉                                                          | 3/10 [03:29<08:07, 69.69s/it]"
     ]
    },
    {
     "name": "stdout",
     "output_type": "stream",
     "text": [
      "=================================\n",
      "Initial portfolio value:100000\n",
      "Final portfolio value: 1009831.5625\n",
      "Final accumulative portfolio value: 10.098315625\n",
      "Maximum DrawDown: -0.28302877752250355\n",
      "Sharpe ratio: 1.036303741043251\n",
      "=================================\n"
     ]
    },
    {
     "name": "stderr",
     "output_type": "stream",
     "text": [
      "\r",
      " 40%|█████████████████████████████████▏                                                 | 4/10 [04:39<06:58, 69.74s/it]"
     ]
    },
    {
     "name": "stdout",
     "output_type": "stream",
     "text": [
      "=================================\n",
      "Initial portfolio value:100000\n",
      "Final portfolio value: 1278110.125\n",
      "Final accumulative portfolio value: 12.78110125\n",
      "Maximum DrawDown: -0.2813393277992373\n",
      "Sharpe ratio: 1.1083477025825657\n",
      "=================================\n"
     ]
    },
    {
     "name": "stderr",
     "output_type": "stream",
     "text": [
      "\r",
      " 50%|█████████████████████████████████████████▌                                         | 5/10 [05:49<05:49, 69.95s/it]"
     ]
    },
    {
     "name": "stdout",
     "output_type": "stream",
     "text": [
      "=================================\n",
      "Initial portfolio value:100000\n",
      "Final portfolio value: 1288608.25\n",
      "Final accumulative portfolio value: 12.8860825\n",
      "Maximum DrawDown: -0.2804932289622506\n",
      "Sharpe ratio: 1.1168221405882224\n",
      "=================================\n"
     ]
    },
    {
     "name": "stderr",
     "output_type": "stream",
     "text": [
      "\r",
      " 60%|█████████████████████████████████████████████████▊                                 | 6/10 [07:00<04:40, 70.18s/it]"
     ]
    },
    {
     "name": "stdout",
     "output_type": "stream",
     "text": [
      "=================================\n",
      "Initial portfolio value:100000\n",
      "Final portfolio value: 1200481.625\n",
      "Final accumulative portfolio value: 12.00481625\n",
      "Maximum DrawDown: -0.28492810502830235\n",
      "Sharpe ratio: 1.0489468973091014\n",
      "=================================\n"
     ]
    },
    {
     "name": "stderr",
     "output_type": "stream",
     "text": [
      "\r",
      " 70%|██████████████████████████████████████████████████████████                         | 7/10 [08:10<03:30, 70.24s/it]"
     ]
    },
    {
     "name": "stdout",
     "output_type": "stream",
     "text": [
      "=================================\n",
      "Initial portfolio value:100000\n",
      "Final portfolio value: 1305171.0\n",
      "Final accumulative portfolio value: 13.05171\n",
      "Maximum DrawDown: -0.2805439604708937\n",
      "Sharpe ratio: 1.1108202856339457\n",
      "=================================\n"
     ]
    },
    {
     "name": "stderr",
     "output_type": "stream",
     "text": [
      "\r",
      " 80%|██████████████████████████████████████████████████████████████████▍                | 8/10 [09:20<02:20, 70.21s/it]"
     ]
    },
    {
     "name": "stdout",
     "output_type": "stream",
     "text": [
      "=================================\n",
      "Initial portfolio value:100000\n",
      "Final portfolio value: 1242994.5\n",
      "Final accumulative portfolio value: 12.429945\n",
      "Maximum DrawDown: -0.28071139376032894\n",
      "Sharpe ratio: 1.077684767533303\n",
      "=================================\n"
     ]
    },
    {
     "name": "stderr",
     "output_type": "stream",
     "text": [
      "\r",
      " 90%|██████████████████████████████████████████████████████████████████████████▋        | 9/10 [10:30<01:10, 70.08s/it]"
     ]
    },
    {
     "name": "stdout",
     "output_type": "stream",
     "text": [
      "=================================\n",
      "Initial portfolio value:100000\n",
      "Final portfolio value: 1318312.375\n",
      "Final accumulative portfolio value: 13.18312375\n",
      "Maximum DrawDown: -0.2808499546334349\n",
      "Sharpe ratio: 1.1002650925400221\n",
      "=================================\n"
     ]
    },
    {
     "name": "stderr",
     "output_type": "stream",
     "text": [
      "100%|██████████████████████████████████████████████████████████████████████████████████| 10/10 [11:40<00:00, 70.08s/it]\n"
     ]
    },
    {
     "name": "stdout",
     "output_type": "stream",
     "text": [
      "=================================\n",
      "Initial portfolio value:100000\n",
      "Final portfolio value: 411840.5625\n",
      "Final accumulative portfolio value: 4.118405625\n",
      "Maximum DrawDown: -0.2838285869939581\n",
      "Sharpe ratio: 0.783210182594164\n",
      "=================================\n",
      "=================================\n",
      "Initial portfolio value:100000\n",
      "Final portfolio value: 130851.03125\n",
      "Final accumulative portfolio value: 1.3085103125\n",
      "Maximum DrawDown: -0.04433012706279904\n",
      "Sharpe ratio: 2.6148022811452116\n",
      "=================================\n",
      "=================================\n",
      "Initial portfolio value:100000\n",
      "Final portfolio value: 97461.171875\n",
      "Final accumulative portfolio value: 0.97461171875\n",
      "Maximum DrawDown: -0.1485258143802709\n",
      "Sharpe ratio: -0.045774515150896165\n",
      "=================================\n",
      "=================================\n",
      "Initial portfolio value:100000\n",
      "Final portfolio value: 106248.0625\n",
      "Final accumulative portfolio value: 1.062480625\n",
      "Maximum DrawDown: -0.09638864854286067\n",
      "Sharpe ratio: 0.6684975991115312\n",
      "=================================\n"
     ]
    },
    {
     "name": "stderr",
     "output_type": "stream",
     "text": [
      "\r",
      "  0%|                                                                                           | 0/10 [00:00<?, ?it/s]"
     ]
    },
    {
     "name": "stdout",
     "output_type": "stream",
     "text": [
      "=================================\n",
      "Initial portfolio value:100000\n",
      "Final portfolio value: 334543.46875\n",
      "Final accumulative portfolio value: 3.3454346875\n",
      "Maximum DrawDown: -0.32861913442620916\n",
      "Sharpe ratio: 0.8096219995147831\n",
      "=================================\n"
     ]
    },
    {
     "name": "stderr",
     "output_type": "stream",
     "text": [
      "\r",
      " 10%|████████▎                                                                          | 1/10 [01:09<10:28, 69.87s/it]"
     ]
    },
    {
     "name": "stdout",
     "output_type": "stream",
     "text": [
      "=================================\n",
      "Initial portfolio value:100000\n",
      "Final portfolio value: 459092.5625\n",
      "Final accumulative portfolio value: 4.590925625\n",
      "Maximum DrawDown: -0.3032565968807698\n",
      "Sharpe ratio: 0.9335835899306298\n",
      "=================================\n"
     ]
    },
    {
     "name": "stderr",
     "output_type": "stream",
     "text": [
      "\r",
      " 20%|████████████████▌                                                                  | 2/10 [02:18<09:14, 69.35s/it]"
     ]
    },
    {
     "name": "stdout",
     "output_type": "stream",
     "text": [
      "=================================\n",
      "Initial portfolio value:100000\n",
      "Final portfolio value: 653032.75\n",
      "Final accumulative portfolio value: 6.5303275\n",
      "Maximum DrawDown: -0.30035921659585196\n",
      "Sharpe ratio: 1.0100544430750196\n",
      "=================================\n"
     ]
    },
    {
     "name": "stderr",
     "output_type": "stream",
     "text": [
      "\r",
      " 30%|████████████████████████▉                                                          | 3/10 [03:28<08:07, 69.58s/it]"
     ]
    },
    {
     "name": "stdout",
     "output_type": "stream",
     "text": [
      "=================================\n",
      "Initial portfolio value:100000\n",
      "Final portfolio value: 962694.75\n",
      "Final accumulative portfolio value: 9.6269475\n",
      "Maximum DrawDown: -0.3166958960898367\n",
      "Sharpe ratio: 1.1152591357951778\n",
      "=================================\n"
     ]
    },
    {
     "name": "stderr",
     "output_type": "stream",
     "text": [
      "\r",
      " 40%|█████████████████████████████████▏                                                 | 4/10 [04:39<06:59, 69.93s/it]"
     ]
    },
    {
     "name": "stdout",
     "output_type": "stream",
     "text": [
      "=================================\n",
      "Initial portfolio value:100000\n",
      "Final portfolio value: 1211779.0\n",
      "Final accumulative portfolio value: 12.11779\n",
      "Maximum DrawDown: -0.3665505678470141\n",
      "Sharpe ratio: 1.137278017212069\n",
      "=================================\n"
     ]
    },
    {
     "name": "stderr",
     "output_type": "stream",
     "text": [
      "\r",
      " 50%|█████████████████████████████████████████▌                                         | 5/10 [05:49<05:49, 69.98s/it]"
     ]
    },
    {
     "name": "stdout",
     "output_type": "stream",
     "text": [
      "=================================\n",
      "Initial portfolio value:100000\n",
      "Final portfolio value: 1422829.25\n",
      "Final accumulative portfolio value: 14.2282925\n",
      "Maximum DrawDown: -0.39378567890329086\n",
      "Sharpe ratio: 1.1834205161889804\n",
      "=================================\n"
     ]
    },
    {
     "name": "stderr",
     "output_type": "stream",
     "text": [
      "\r",
      " 60%|█████████████████████████████████████████████████▊                                 | 6/10 [06:59<04:40, 70.20s/it]"
     ]
    },
    {
     "name": "stdout",
     "output_type": "stream",
     "text": [
      "=================================\n",
      "Initial portfolio value:100000\n",
      "Final portfolio value: 1548503.75\n",
      "Final accumulative portfolio value: 15.4850375\n",
      "Maximum DrawDown: -0.41499986361130914\n",
      "Sharpe ratio: 1.1872279890898418\n",
      "=================================\n"
     ]
    },
    {
     "name": "stderr",
     "output_type": "stream",
     "text": [
      "\r",
      " 70%|██████████████████████████████████████████████████████████                         | 7/10 [08:10<03:31, 70.49s/it]"
     ]
    },
    {
     "name": "stdout",
     "output_type": "stream",
     "text": [
      "=================================\n",
      "Initial portfolio value:100000\n",
      "Final portfolio value: 1629727.375\n",
      "Final accumulative portfolio value: 16.29727375\n",
      "Maximum DrawDown: -0.42673395987822504\n",
      "Sharpe ratio: 1.1947954379599908\n",
      "=================================\n"
     ]
    },
    {
     "name": "stderr",
     "output_type": "stream",
     "text": [
      "\r",
      " 80%|██████████████████████████████████████████████████████████████████▍                | 8/10 [09:21<02:20, 70.49s/it]"
     ]
    },
    {
     "name": "stdout",
     "output_type": "stream",
     "text": [
      "=================================\n",
      "Initial portfolio value:100000\n",
      "Final portfolio value: 1672415.5\n",
      "Final accumulative portfolio value: 16.724155\n",
      "Maximum DrawDown: -0.4314478012083378\n",
      "Sharpe ratio: 1.186346822139887\n",
      "=================================\n"
     ]
    },
    {
     "name": "stderr",
     "output_type": "stream",
     "text": [
      "\r",
      " 90%|██████████████████████████████████████████████████████████████████████████▋        | 9/10 [10:32<01:10, 70.60s/it]"
     ]
    },
    {
     "name": "stdout",
     "output_type": "stream",
     "text": [
      "=================================\n",
      "Initial portfolio value:100000\n",
      "Final portfolio value: 1344877.375\n",
      "Final accumulative portfolio value: 13.44877375\n",
      "Maximum DrawDown: -0.43554794412480746\n",
      "Sharpe ratio: 1.1181806693696539\n",
      "=================================\n"
     ]
    },
    {
     "name": "stderr",
     "output_type": "stream",
     "text": [
      "100%|██████████████████████████████████████████████████████████████████████████████████| 10/10 [11:42<00:00, 70.24s/it]\n"
     ]
    },
    {
     "name": "stdout",
     "output_type": "stream",
     "text": [
      "=================================\n",
      "Initial portfolio value:100000\n",
      "Final portfolio value: 690568.0625\n",
      "Final accumulative portfolio value: 6.905680625\n",
      "Maximum DrawDown: -0.4234044499581846\n",
      "Sharpe ratio: 0.8662467489066987\n",
      "=================================\n",
      "=================================\n",
      "Initial portfolio value:100000\n",
      "Final portfolio value: 130324.265625\n",
      "Final accumulative portfolio value: 1.30324265625\n",
      "Maximum DrawDown: -0.044589650652057\n",
      "Sharpe ratio: 2.5909033955883785\n",
      "=================================\n",
      "=================================\n",
      "Initial portfolio value:100000\n",
      "Final portfolio value: 97280.6171875\n",
      "Final accumulative portfolio value: 0.972806171875\n",
      "Maximum DrawDown: -0.14666727735976404\n",
      "Sharpe ratio: -0.062240101863514474\n",
      "=================================\n",
      "=================================\n",
      "Initial portfolio value:100000\n",
      "Final portfolio value: 106154.796875\n",
      "Final accumulative portfolio value: 1.06154796875\n",
      "Maximum DrawDown: -0.09177119703120107\n",
      "Sharpe ratio: 0.677565499295095\n",
      "=================================\n"
     ]
    },
    {
     "name": "stderr",
     "output_type": "stream",
     "text": [
      "\r",
      "  0%|                                                                                           | 0/10 [00:00<?, ?it/s]"
     ]
    },
    {
     "name": "stdout",
     "output_type": "stream",
     "text": [
      "=================================\n",
      "Initial portfolio value:100000\n",
      "Final portfolio value: 385955.21875\n",
      "Final accumulative portfolio value: 3.8595521875\n",
      "Maximum DrawDown: -0.3208647831724729\n",
      "Sharpe ratio: 0.8524335016044097\n",
      "=================================\n"
     ]
    },
    {
     "name": "stderr",
     "output_type": "stream",
     "text": [
      "\r",
      " 10%|████████▎                                                                          | 1/10 [01:10<10:38, 70.92s/it]"
     ]
    },
    {
     "name": "stdout",
     "output_type": "stream",
     "text": [
      "=================================\n",
      "Initial portfolio value:100000\n",
      "Final portfolio value: 706122.0\n",
      "Final accumulative portfolio value: 7.06122\n",
      "Maximum DrawDown: -0.3177795885344429\n",
      "Sharpe ratio: 0.9781994621553917\n",
      "=================================\n"
     ]
    },
    {
     "name": "stderr",
     "output_type": "stream",
     "text": [
      "\r",
      " 20%|████████████████▌                                                                  | 2/10 [02:21<09:26, 70.86s/it]"
     ]
    },
    {
     "name": "stdout",
     "output_type": "stream",
     "text": [
      "=================================\n",
      "Initial portfolio value:100000\n",
      "Final portfolio value: 910344.8125\n",
      "Final accumulative portfolio value: 9.103448125\n",
      "Maximum DrawDown: -0.3287178649403141\n",
      "Sharpe ratio: 0.9982188336733763\n",
      "=================================\n"
     ]
    },
    {
     "name": "stderr",
     "output_type": "stream",
     "text": [
      "\r",
      " 30%|████████████████████████▉                                                          | 3/10 [03:31<08:13, 70.47s/it]"
     ]
    },
    {
     "name": "stdout",
     "output_type": "stream",
     "text": [
      "=================================\n",
      "Initial portfolio value:100000\n",
      "Final portfolio value: 1010917.4375\n",
      "Final accumulative portfolio value: 10.109174375\n",
      "Maximum DrawDown: -0.2839831270157206\n",
      "Sharpe ratio: 1.037343089346898\n",
      "=================================\n"
     ]
    },
    {
     "name": "stderr",
     "output_type": "stream",
     "text": [
      "\r",
      " 40%|█████████████████████████████████▏                                                 | 4/10 [04:41<07:01, 70.23s/it]"
     ]
    },
    {
     "name": "stdout",
     "output_type": "stream",
     "text": [
      "=================================\n",
      "Initial portfolio value:100000\n",
      "Final portfolio value: 1114096.0\n",
      "Final accumulative portfolio value: 11.14096\n",
      "Maximum DrawDown: -0.2868447197534595\n",
      "Sharpe ratio: 1.063407973757337\n",
      "=================================\n"
     ]
    },
    {
     "name": "stderr",
     "output_type": "stream",
     "text": [
      "\r",
      " 50%|█████████████████████████████████████████▌                                         | 5/10 [05:51<05:49, 69.99s/it]"
     ]
    },
    {
     "name": "stdout",
     "output_type": "stream",
     "text": [
      "=================================\n",
      "Initial portfolio value:100000\n",
      "Final portfolio value: 1345893.0\n",
      "Final accumulative portfolio value: 13.45893\n",
      "Maximum DrawDown: -0.2805871688653787\n",
      "Sharpe ratio: 1.132551934836605\n",
      "=================================\n"
     ]
    },
    {
     "name": "stderr",
     "output_type": "stream",
     "text": [
      "\r",
      " 60%|█████████████████████████████████████████████████▊                                 | 6/10 [06:59<04:38, 69.51s/it]"
     ]
    },
    {
     "name": "stdout",
     "output_type": "stream",
     "text": [
      "=================================\n",
      "Initial portfolio value:100000\n",
      "Final portfolio value: 1501918.5\n",
      "Final accumulative portfolio value: 15.019185\n",
      "Maximum DrawDown: -0.2805900541367228\n",
      "Sharpe ratio: 1.159594717106115\n",
      "=================================\n"
     ]
    },
    {
     "name": "stderr",
     "output_type": "stream",
     "text": [
      "\r",
      " 70%|██████████████████████████████████████████████████████████                         | 7/10 [08:09<03:29, 69.70s/it]"
     ]
    },
    {
     "name": "stdout",
     "output_type": "stream",
     "text": [
      "=================================\n",
      "Initial portfolio value:100000\n",
      "Final portfolio value: 1357286.25\n",
      "Final accumulative portfolio value: 13.5728625\n",
      "Maximum DrawDown: -0.28053152306343376\n",
      "Sharpe ratio: 1.1348093848650602\n",
      "=================================\n"
     ]
    },
    {
     "name": "stderr",
     "output_type": "stream",
     "text": [
      "\r",
      " 80%|██████████████████████████████████████████████████████████████████▍                | 8/10 [09:20<02:19, 69.96s/it]"
     ]
    },
    {
     "name": "stdout",
     "output_type": "stream",
     "text": [
      "=================================\n",
      "Initial portfolio value:100000\n",
      "Final portfolio value: 1271963.0\n",
      "Final accumulative portfolio value: 12.71963\n",
      "Maximum DrawDown: -0.2846732647600957\n",
      "Sharpe ratio: 1.0836410500768217\n",
      "=================================\n"
     ]
    },
    {
     "name": "stderr",
     "output_type": "stream",
     "text": [
      "\r",
      " 90%|██████████████████████████████████████████████████████████████████████████▋        | 9/10 [10:30<01:09, 69.91s/it]"
     ]
    },
    {
     "name": "stdout",
     "output_type": "stream",
     "text": [
      "=================================\n",
      "Initial portfolio value:100000\n",
      "Final portfolio value: 1497649.75\n",
      "Final accumulative portfolio value: 14.9764975\n",
      "Maximum DrawDown: -0.28097894119017985\n",
      "Sharpe ratio: 1.1534103732398906\n",
      "=================================\n"
     ]
    },
    {
     "name": "stderr",
     "output_type": "stream",
     "text": [
      "100%|██████████████████████████████████████████████████████████████████████████████████| 10/10 [11:43<00:00, 70.35s/it]\n"
     ]
    },
    {
     "name": "stdout",
     "output_type": "stream",
     "text": [
      "=================================\n",
      "Initial portfolio value:100000\n",
      "Final portfolio value: 435820.25\n",
      "Final accumulative portfolio value: 4.3582025\n",
      "Maximum DrawDown: -0.4363392529322643\n",
      "Sharpe ratio: 0.7378872808079151\n",
      "=================================\n",
      "=================================\n",
      "Initial portfolio value:100000\n",
      "Final portfolio value: 131722.375\n",
      "Final accumulative portfolio value: 1.31722375\n",
      "Maximum DrawDown: -0.04646296266325722\n",
      "Sharpe ratio: 2.641500204494756\n",
      "=================================\n",
      "=================================\n",
      "Initial portfolio value:100000\n",
      "Final portfolio value: 97180.8515625\n",
      "Final accumulative portfolio value: 0.971808515625\n",
      "Maximum DrawDown: -0.14740766676352768\n",
      "Sharpe ratio: -0.06523475660772499\n",
      "=================================\n",
      "=================================\n",
      "Initial portfolio value:100000\n",
      "Final portfolio value: 105817.5546875\n",
      "Final accumulative portfolio value: 1.058175546875\n",
      "Maximum DrawDown: -0.09046000753801597\n",
      "Sharpe ratio: 0.663810755223435\n",
      "=================================\n"
     ]
    },
    {
     "name": "stderr",
     "output_type": "stream",
     "text": [
      "\r",
      "  0%|                                                                                           | 0/10 [00:00<?, ?it/s]"
     ]
    },
    {
     "name": "stdout",
     "output_type": "stream",
     "text": [
      "=================================\n",
      "Initial portfolio value:100000\n",
      "Final portfolio value: 372240.46875\n",
      "Final accumulative portfolio value: 3.7224046875\n",
      "Maximum DrawDown: -0.31494131606916487\n",
      "Sharpe ratio: 0.8581996010392977\n",
      "=================================\n"
     ]
    },
    {
     "name": "stderr",
     "output_type": "stream",
     "text": [
      "\r",
      " 10%|████████▎                                                                          | 1/10 [01:10<10:36, 70.68s/it]"
     ]
    },
    {
     "name": "stdout",
     "output_type": "stream",
     "text": [
      "=================================\n",
      "Initial portfolio value:100000\n",
      "Final portfolio value: 630235.875\n",
      "Final accumulative portfolio value: 6.30235875\n",
      "Maximum DrawDown: -0.30495106572838515\n",
      "Sharpe ratio: 1.0243772522831325\n",
      "=================================\n"
     ]
    },
    {
     "name": "stderr",
     "output_type": "stream",
     "text": [
      "\r",
      " 20%|████████████████▌                                                                  | 2/10 [02:21<09:28, 71.05s/it]"
     ]
    },
    {
     "name": "stdout",
     "output_type": "stream",
     "text": [
      "=================================\n",
      "Initial portfolio value:100000\n",
      "Final portfolio value: 1099745.75\n",
      "Final accumulative portfolio value: 10.9974575\n",
      "Maximum DrawDown: -0.31742841268823263\n",
      "Sharpe ratio: 1.1400444988366574\n",
      "=================================\n"
     ]
    },
    {
     "name": "stderr",
     "output_type": "stream",
     "text": [
      "\r",
      " 30%|████████████████████████▉                                                          | 3/10 [03:33<08:18, 71.20s/it]"
     ]
    },
    {
     "name": "stdout",
     "output_type": "stream",
     "text": [
      "=================================\n",
      "Initial portfolio value:100000\n",
      "Final portfolio value: 1557895.875\n",
      "Final accumulative portfolio value: 15.57895875\n",
      "Maximum DrawDown: -0.3141233609838987\n",
      "Sharpe ratio: 1.2401827894548039\n",
      "=================================\n"
     ]
    },
    {
     "name": "stderr",
     "output_type": "stream",
     "text": [
      "\r",
      " 40%|█████████████████████████████████▏                                                 | 4/10 [04:43<07:05, 70.92s/it]"
     ]
    },
    {
     "name": "stdout",
     "output_type": "stream",
     "text": [
      "=================================\n",
      "Initial portfolio value:100000\n",
      "Final portfolio value: 2154430.75\n",
      "Final accumulative portfolio value: 21.5443075\n",
      "Maximum DrawDown: -0.3142799477500491\n",
      "Sharpe ratio: 1.3367285128992545\n",
      "=================================\n"
     ]
    },
    {
     "name": "stderr",
     "output_type": "stream",
     "text": [
      "\r",
      " 50%|█████████████████████████████████████████▌                                         | 5/10 [05:53<05:53, 70.63s/it]"
     ]
    },
    {
     "name": "stdout",
     "output_type": "stream",
     "text": [
      "=================================\n",
      "Initial portfolio value:100000\n",
      "Final portfolio value: 2526023.0\n",
      "Final accumulative portfolio value: 25.26023\n",
      "Maximum DrawDown: -0.31427221547965334\n",
      "Sharpe ratio: 1.3705481410722968\n",
      "=================================\n"
     ]
    },
    {
     "name": "stderr",
     "output_type": "stream",
     "text": [
      "\r",
      " 60%|█████████████████████████████████████████████████▊                                 | 6/10 [07:04<04:41, 70.48s/it]"
     ]
    },
    {
     "name": "stdout",
     "output_type": "stream",
     "text": [
      "=================================\n",
      "Initial portfolio value:100000\n",
      "Final portfolio value: 2307625.5\n",
      "Final accumulative portfolio value: 23.076255\n",
      "Maximum DrawDown: -0.3142717937447913\n",
      "Sharpe ratio: 1.3138725593127925\n",
      "=================================\n"
     ]
    },
    {
     "name": "stderr",
     "output_type": "stream",
     "text": [
      "\r",
      " 70%|██████████████████████████████████████████████████████████                         | 7/10 [08:14<03:30, 70.29s/it]"
     ]
    },
    {
     "name": "stdout",
     "output_type": "stream",
     "text": [
      "=================================\n",
      "Initial portfolio value:100000\n",
      "Final portfolio value: 2393318.25\n",
      "Final accumulative portfolio value: 23.9331825\n",
      "Maximum DrawDown: -0.3142727907675311\n",
      "Sharpe ratio: 1.3239649355723737\n",
      "=================================\n"
     ]
    },
    {
     "name": "stderr",
     "output_type": "stream",
     "text": [
      "\r",
      " 80%|██████████████████████████████████████████████████████████████████▍                | 8/10 [09:24<02:20, 70.31s/it]"
     ]
    },
    {
     "name": "stdout",
     "output_type": "stream",
     "text": [
      "=================================\n",
      "Initial portfolio value:100000\n",
      "Final portfolio value: 2007935.625\n",
      "Final accumulative portfolio value: 20.07935625\n",
      "Maximum DrawDown: -0.3142724554348747\n",
      "Sharpe ratio: 1.2566173388064712\n",
      "=================================\n"
     ]
    },
    {
     "name": "stderr",
     "output_type": "stream",
     "text": [
      "\r",
      " 90%|██████████████████████████████████████████████████████████████████████████▋        | 9/10 [10:34<01:10, 70.31s/it]"
     ]
    },
    {
     "name": "stdout",
     "output_type": "stream",
     "text": [
      "=================================\n",
      "Initial portfolio value:100000\n",
      "Final portfolio value: 2069566.875\n",
      "Final accumulative portfolio value: 20.69566875\n",
      "Maximum DrawDown: -0.34450552524766365\n",
      "Sharpe ratio: 1.253535320694418\n",
      "=================================\n"
     ]
    },
    {
     "name": "stderr",
     "output_type": "stream",
     "text": [
      "100%|██████████████████████████████████████████████████████████████████████████████████| 10/10 [11:44<00:00, 70.47s/it]\n"
     ]
    },
    {
     "name": "stdout",
     "output_type": "stream",
     "text": [
      "=================================\n",
      "Initial portfolio value:100000\n",
      "Final portfolio value: 363065.40625\n",
      "Final accumulative portfolio value: 3.6306540625\n",
      "Maximum DrawDown: -0.2842418684601776\n",
      "Sharpe ratio: 0.776005449117934\n",
      "=================================\n",
      "=================================\n",
      "Initial portfolio value:100000\n",
      "Final portfolio value: 130136.0234375\n",
      "Final accumulative portfolio value: 1.301360234375\n",
      "Maximum DrawDown: -0.0522711837347648\n",
      "Sharpe ratio: 2.549939515553347\n",
      "=================================\n",
      "=================================\n",
      "Initial portfolio value:100000\n",
      "Final portfolio value: 97330.859375\n",
      "Final accumulative portfolio value: 0.97330859375\n",
      "Maximum DrawDown: -0.1445307213321292\n",
      "Sharpe ratio: -0.06161779611454017\n",
      "=================================\n",
      "=================================\n",
      "Initial portfolio value:100000\n",
      "Final portfolio value: 106040.7265625\n",
      "Final accumulative portfolio value: 1.060407265625\n",
      "Maximum DrawDown: -0.09051405695995751\n",
      "Sharpe ratio: 0.6727741776351308\n",
      "=================================\n"
     ]
    },
    {
     "name": "stderr",
     "output_type": "stream",
     "text": [
      "\r",
      "  0%|                                                                                           | 0/10 [00:00<?, ?it/s]"
     ]
    },
    {
     "name": "stdout",
     "output_type": "stream",
     "text": [
      "=================================\n",
      "Initial portfolio value:100000\n",
      "Final portfolio value: 397255.3125\n",
      "Final accumulative portfolio value: 3.972553125\n",
      "Maximum DrawDown: -0.3127328244933254\n",
      "Sharpe ratio: 0.8780926564816047\n",
      "=================================\n"
     ]
    },
    {
     "name": "stderr",
     "output_type": "stream",
     "text": [
      "\r",
      " 10%|████████▎                                                                          | 1/10 [01:10<10:31, 70.15s/it]"
     ]
    },
    {
     "name": "stdout",
     "output_type": "stream",
     "text": [
      "=================================\n",
      "Initial portfolio value:100000\n",
      "Final portfolio value: 732130.0\n",
      "Final accumulative portfolio value: 7.3213\n",
      "Maximum DrawDown: -0.30389604585881713\n",
      "Sharpe ratio: 1.019831392957896\n",
      "=================================\n"
     ]
    },
    {
     "name": "stderr",
     "output_type": "stream",
     "text": [
      "\r",
      " 20%|████████████████▌                                                                  | 2/10 [02:20<09:21, 70.16s/it]"
     ]
    },
    {
     "name": "stdout",
     "output_type": "stream",
     "text": [
      "=================================\n",
      "Initial portfolio value:100000\n",
      "Final portfolio value: 1099477.125\n",
      "Final accumulative portfolio value: 10.99477125\n",
      "Maximum DrawDown: -0.3513876298906976\n",
      "Sharpe ratio: 1.096233581977697\n",
      "=================================\n"
     ]
    },
    {
     "name": "stderr",
     "output_type": "stream",
     "text": [
      "\r",
      " 30%|████████████████████████▉                                                          | 3/10 [03:30<08:10, 70.00s/it]"
     ]
    },
    {
     "name": "stdout",
     "output_type": "stream",
     "text": [
      "=================================\n",
      "Initial portfolio value:100000\n",
      "Final portfolio value: 1408203.75\n",
      "Final accumulative portfolio value: 14.0820375\n",
      "Maximum DrawDown: -0.39320273316352217\n",
      "Sharpe ratio: 1.177717459752064\n",
      "=================================\n"
     ]
    },
    {
     "name": "stderr",
     "output_type": "stream",
     "text": [
      "\r",
      " 40%|█████████████████████████████████▏                                                 | 4/10 [04:40<07:00, 70.06s/it]"
     ]
    },
    {
     "name": "stdout",
     "output_type": "stream",
     "text": [
      "=================================\n",
      "Initial portfolio value:100000\n",
      "Final portfolio value: 1519074.125\n",
      "Final accumulative portfolio value: 15.19074125\n",
      "Maximum DrawDown: -0.42164189463954127\n",
      "Sharpe ratio: 1.1613055278531121\n",
      "=================================\n"
     ]
    },
    {
     "name": "stderr",
     "output_type": "stream",
     "text": [
      "\r",
      " 50%|█████████████████████████████████████████▌                                         | 5/10 [05:50<05:51, 70.21s/it]"
     ]
    },
    {
     "name": "stdout",
     "output_type": "stream",
     "text": [
      "=================================\n",
      "Initial portfolio value:100000\n",
      "Final portfolio value: 1206851.25\n",
      "Final accumulative portfolio value: 12.0685125\n",
      "Maximum DrawDown: -0.4347199720311802\n",
      "Sharpe ratio: 1.0810960403076897\n",
      "=================================\n"
     ]
    },
    {
     "name": "stderr",
     "output_type": "stream",
     "text": [
      "\r",
      " 60%|█████████████████████████████████████████████████▊                                 | 6/10 [07:00<04:40, 70.14s/it]"
     ]
    },
    {
     "name": "stdout",
     "output_type": "stream",
     "text": [
      "=================================\n",
      "Initial portfolio value:100000\n",
      "Final portfolio value: 1375681.0\n",
      "Final accumulative portfolio value: 13.75681\n",
      "Maximum DrawDown: -0.43658459430146435\n",
      "Sharpe ratio: 1.1204889055217717\n",
      "=================================\n"
     ]
    },
    {
     "name": "stderr",
     "output_type": "stream",
     "text": [
      "\r",
      " 70%|██████████████████████████████████████████████████████████                         | 7/10 [08:11<03:30, 70.27s/it]"
     ]
    },
    {
     "name": "stdout",
     "output_type": "stream",
     "text": [
      "=================================\n",
      "Initial portfolio value:100000\n",
      "Final portfolio value: 1528552.5\n",
      "Final accumulative portfolio value: 15.285525\n",
      "Maximum DrawDown: -0.4367015843858446\n",
      "Sharpe ratio: 1.1550133733311283\n",
      "=================================\n"
     ]
    },
    {
     "name": "stderr",
     "output_type": "stream",
     "text": [
      "\r",
      " 80%|██████████████████████████████████████████████████████████████████▍                | 8/10 [09:22<02:20, 70.43s/it]"
     ]
    },
    {
     "name": "stdout",
     "output_type": "stream",
     "text": [
      "=================================\n",
      "Initial portfolio value:100000\n",
      "Final portfolio value: 1566311.75\n",
      "Final accumulative portfolio value: 15.6631175\n",
      "Maximum DrawDown: -0.43652230586844454\n",
      "Sharpe ratio: 1.1196827469836501\n",
      "=================================\n"
     ]
    },
    {
     "name": "stderr",
     "output_type": "stream",
     "text": [
      "\r",
      " 90%|██████████████████████████████████████████████████████████████████████████▋        | 9/10 [10:31<01:10, 70.16s/it]"
     ]
    },
    {
     "name": "stdout",
     "output_type": "stream",
     "text": [
      "=================================\n",
      "Initial portfolio value:100000\n",
      "Final portfolio value: 1487897.875\n",
      "Final accumulative portfolio value: 14.87897875\n",
      "Maximum DrawDown: -0.43767598980290934\n",
      "Sharpe ratio: 1.1474260101545173\n",
      "=================================\n"
     ]
    },
    {
     "name": "stderr",
     "output_type": "stream",
     "text": [
      "100%|██████████████████████████████████████████████████████████████████████████████████| 10/10 [11:42<00:00, 70.20s/it]\n"
     ]
    },
    {
     "name": "stdout",
     "output_type": "stream",
     "text": [
      "=================================\n",
      "Initial portfolio value:100000\n",
      "Final portfolio value: 276799.4375\n",
      "Final accumulative portfolio value: 2.767994375\n",
      "Maximum DrawDown: -0.3058616574980534\n",
      "Sharpe ratio: 0.6851369614324233\n",
      "=================================\n",
      "=================================\n",
      "Initial portfolio value:100000\n",
      "Final portfolio value: 126795.8671875\n",
      "Final accumulative portfolio value: 1.267958671875\n",
      "Maximum DrawDown: -0.046850651736190185\n",
      "Sharpe ratio: 2.371143618729486\n",
      "=================================\n",
      "=================================\n",
      "Initial portfolio value:100000\n",
      "Final portfolio value: 96867.828125\n",
      "Final accumulative portfolio value: 0.96867828125\n",
      "Maximum DrawDown: -0.14321349480178047\n",
      "Sharpe ratio: -0.09087803316019237\n",
      "=================================\n",
      "=================================\n",
      "Initial portfolio value:100000\n",
      "Final portfolio value: 105117.46875\n",
      "Final accumulative portfolio value: 1.0511746875\n",
      "Maximum DrawDown: -0.08637767736523094\n",
      "Sharpe ratio: 0.6062703362277119\n",
      "=================================\n"
     ]
    },
    {
     "data": {
      "text/html": [
       "<div>\n",
       "<style scoped>\n",
       "    .dataframe tbody tr th:only-of-type {\n",
       "        vertical-align: middle;\n",
       "    }\n",
       "\n",
       "    .dataframe tbody tr th {\n",
       "        vertical-align: top;\n",
       "    }\n",
       "\n",
       "    .dataframe thead th {\n",
       "        text-align: right;\n",
       "    }\n",
       "</style>\n",
       "<table border=\"1\" class=\"dataframe\">\n",
       "  <thead>\n",
       "    <tr style=\"text-align: right;\">\n",
       "      <th></th>\n",
       "      <th>TIME_WINDOW</th>\n",
       "      <th>K_SIZE</th>\n",
       "      <th>CONV_MID</th>\n",
       "      <th>CONV_FINAL</th>\n",
       "      <th>train_portfolio_value</th>\n",
       "      <th>2021_portfolio_value</th>\n",
       "      <th>2022_portfolio_value</th>\n",
       "      <th>2023_portfolio_value</th>\n",
       "      <th>train_drawdown</th>\n",
       "      <th>2021_drawdown</th>\n",
       "      <th>2022_drawdown</th>\n",
       "      <th>2023_drawdown</th>\n",
       "      <th>train_sharpe</th>\n",
       "      <th>2021_sharpe</th>\n",
       "      <th>2022_sharpe</th>\n",
       "      <th>2023_sharpe</th>\n",
       "      <th>train_cumulative</th>\n",
       "      <th>2021_cumulative</th>\n",
       "      <th>2022_cumulative</th>\n",
       "      <th>2023_cumulative</th>\n",
       "    </tr>\n",
       "  </thead>\n",
       "  <tbody>\n",
       "    <tr>\n",
       "      <th>0</th>\n",
       "      <td>50</td>\n",
       "      <td>3</td>\n",
       "      <td>5</td>\n",
       "      <td>5</td>\n",
       "      <td>320382.44000</td>\n",
       "      <td>123974.195000</td>\n",
       "      <td>100835.510000</td>\n",
       "      <td>115646.820000</td>\n",
       "      <td>-0.308698</td>\n",
       "      <td>-0.040540</td>\n",
       "      <td>-0.148230</td>\n",
       "      <td>-0.099387</td>\n",
       "      <td>0.743939</td>\n",
       "      <td>2.535556</td>\n",
       "      <td>0.152041</td>\n",
       "      <td>1.772826</td>\n",
       "      <td>3.203824</td>\n",
       "      <td>1.239742</td>\n",
       "      <td>1.008355</td>\n",
       "      <td>1.156468</td>\n",
       "    </tr>\n",
       "    <tr>\n",
       "      <th>1</th>\n",
       "      <td>50</td>\n",
       "      <td>3</td>\n",
       "      <td>5</td>\n",
       "      <td>10</td>\n",
       "      <td>267608.88000</td>\n",
       "      <td>123833.340000</td>\n",
       "      <td>100667.790000</td>\n",
       "      <td>113932.210000</td>\n",
       "      <td>-0.334926</td>\n",
       "      <td>-0.061128</td>\n",
       "      <td>-0.135814</td>\n",
       "      <td>-0.093242</td>\n",
       "      <td>0.657976</td>\n",
       "      <td>2.456712</td>\n",
       "      <td>0.136309</td>\n",
       "      <td>1.639025</td>\n",
       "      <td>2.676089</td>\n",
       "      <td>1.238333</td>\n",
       "      <td>1.006678</td>\n",
       "      <td>1.139322</td>\n",
       "    </tr>\n",
       "    <tr>\n",
       "      <th>2</th>\n",
       "      <td>50</td>\n",
       "      <td>3</td>\n",
       "      <td>5</td>\n",
       "      <td>20</td>\n",
       "      <td>274533.10000</td>\n",
       "      <td>123793.730000</td>\n",
       "      <td>99567.195000</td>\n",
       "      <td>116115.890000</td>\n",
       "      <td>-0.337678</td>\n",
       "      <td>-0.054411</td>\n",
       "      <td>-0.152924</td>\n",
       "      <td>-0.104601</td>\n",
       "      <td>0.679288</td>\n",
       "      <td>2.471280</td>\n",
       "      <td>0.069657</td>\n",
       "      <td>1.737024</td>\n",
       "      <td>2.745331</td>\n",
       "      <td>1.237937</td>\n",
       "      <td>0.995672</td>\n",
       "      <td>1.161159</td>\n",
       "    </tr>\n",
       "    <tr>\n",
       "      <th>3</th>\n",
       "      <td>50</td>\n",
       "      <td>3</td>\n",
       "      <td>10</td>\n",
       "      <td>5</td>\n",
       "      <td>328544.00000</td>\n",
       "      <td>125503.650000</td>\n",
       "      <td>98766.580000</td>\n",
       "      <td>116112.330000</td>\n",
       "      <td>-0.329956</td>\n",
       "      <td>-0.057787</td>\n",
       "      <td>-0.068073</td>\n",
       "      <td>-0.102576</td>\n",
       "      <td>0.819953</td>\n",
       "      <td>2.563939</td>\n",
       "      <td>-0.223365</td>\n",
       "      <td>1.840516</td>\n",
       "      <td>3.285440</td>\n",
       "      <td>1.255036</td>\n",
       "      <td>0.987666</td>\n",
       "      <td>1.161123</td>\n",
       "    </tr>\n",
       "    <tr>\n",
       "      <th>4</th>\n",
       "      <td>50</td>\n",
       "      <td>3</td>\n",
       "      <td>10</td>\n",
       "      <td>10</td>\n",
       "      <td>302270.94000</td>\n",
       "      <td>124344.100000</td>\n",
       "      <td>100606.390000</td>\n",
       "      <td>115522.110000</td>\n",
       "      <td>-0.289352</td>\n",
       "      <td>-0.055117</td>\n",
       "      <td>-0.152592</td>\n",
       "      <td>-0.112859</td>\n",
       "      <td>0.665594</td>\n",
       "      <td>2.466682</td>\n",
       "      <td>0.138799</td>\n",
       "      <td>1.731117</td>\n",
       "      <td>3.022709</td>\n",
       "      <td>1.243441</td>\n",
       "      <td>1.006064</td>\n",
       "      <td>1.155221</td>\n",
       "    </tr>\n",
       "    <tr>\n",
       "      <th>...</th>\n",
       "      <td>...</td>\n",
       "      <td>...</td>\n",
       "      <td>...</td>\n",
       "      <td>...</td>\n",
       "      <td>...</td>\n",
       "      <td>...</td>\n",
       "      <td>...</td>\n",
       "      <td>...</td>\n",
       "      <td>...</td>\n",
       "      <td>...</td>\n",
       "      <td>...</td>\n",
       "      <td>...</td>\n",
       "      <td>...</td>\n",
       "      <td>...</td>\n",
       "      <td>...</td>\n",
       "      <td>...</td>\n",
       "      <td>...</td>\n",
       "      <td>...</td>\n",
       "      <td>...</td>\n",
       "      <td>...</td>\n",
       "    </tr>\n",
       "    <tr>\n",
       "      <th>85</th>\n",
       "      <td>25</td>\n",
       "      <td>5</td>\n",
       "      <td>5</td>\n",
       "      <td>10</td>\n",
       "      <td>411840.56250</td>\n",
       "      <td>130851.031250</td>\n",
       "      <td>97461.171875</td>\n",
       "      <td>106248.062500</td>\n",
       "      <td>-0.283829</td>\n",
       "      <td>-0.044330</td>\n",
       "      <td>-0.148526</td>\n",
       "      <td>-0.096389</td>\n",
       "      <td>0.783526</td>\n",
       "      <td>2.626537</td>\n",
       "      <td>-0.045976</td>\n",
       "      <td>0.671471</td>\n",
       "      <td>4.118406</td>\n",
       "      <td>1.308510</td>\n",
       "      <td>0.974612</td>\n",
       "      <td>1.062481</td>\n",
       "    </tr>\n",
       "    <tr>\n",
       "      <th>86</th>\n",
       "      <td>25</td>\n",
       "      <td>5</td>\n",
       "      <td>5</td>\n",
       "      <td>20</td>\n",
       "      <td>690568.06250</td>\n",
       "      <td>130324.265625</td>\n",
       "      <td>97280.617188</td>\n",
       "      <td>106154.796875</td>\n",
       "      <td>-0.423404</td>\n",
       "      <td>-0.044590</td>\n",
       "      <td>-0.146667</td>\n",
       "      <td>-0.091771</td>\n",
       "      <td>0.866595</td>\n",
       "      <td>2.602527</td>\n",
       "      <td>-0.062514</td>\n",
       "      <td>0.680588</td>\n",
       "      <td>6.905681</td>\n",
       "      <td>1.303243</td>\n",
       "      <td>0.972806</td>\n",
       "      <td>1.061548</td>\n",
       "    </tr>\n",
       "    <tr>\n",
       "      <th>87</th>\n",
       "      <td>25</td>\n",
       "      <td>5</td>\n",
       "      <td>10</td>\n",
       "      <td>5</td>\n",
       "      <td>435820.25000</td>\n",
       "      <td>131722.375000</td>\n",
       "      <td>97180.851562</td>\n",
       "      <td>105817.554688</td>\n",
       "      <td>-0.436339</td>\n",
       "      <td>-0.046463</td>\n",
       "      <td>-0.147408</td>\n",
       "      <td>-0.090460</td>\n",
       "      <td>0.738184</td>\n",
       "      <td>2.653361</td>\n",
       "      <td>-0.065530</td>\n",
       "      <td>0.666764</td>\n",
       "      <td>4.358202</td>\n",
       "      <td>1.317224</td>\n",
       "      <td>0.971809</td>\n",
       "      <td>1.058176</td>\n",
       "    </tr>\n",
       "    <tr>\n",
       "      <th>88</th>\n",
       "      <td>25</td>\n",
       "      <td>5</td>\n",
       "      <td>10</td>\n",
       "      <td>10</td>\n",
       "      <td>363065.40625</td>\n",
       "      <td>130136.023438</td>\n",
       "      <td>97330.859375</td>\n",
       "      <td>106040.726562</td>\n",
       "      <td>-0.284242</td>\n",
       "      <td>-0.052271</td>\n",
       "      <td>-0.144531</td>\n",
       "      <td>-0.090514</td>\n",
       "      <td>0.776317</td>\n",
       "      <td>2.561369</td>\n",
       "      <td>-0.061890</td>\n",
       "      <td>0.675768</td>\n",
       "      <td>3.630654</td>\n",
       "      <td>1.301360</td>\n",
       "      <td>0.973309</td>\n",
       "      <td>1.060407</td>\n",
       "    </tr>\n",
       "    <tr>\n",
       "      <th>89</th>\n",
       "      <td>25</td>\n",
       "      <td>5</td>\n",
       "      <td>10</td>\n",
       "      <td>20</td>\n",
       "      <td>276799.43750</td>\n",
       "      <td>126795.867188</td>\n",
       "      <td>96867.828125</td>\n",
       "      <td>105117.468750</td>\n",
       "      <td>-0.305862</td>\n",
       "      <td>-0.046851</td>\n",
       "      <td>-0.143213</td>\n",
       "      <td>-0.086378</td>\n",
       "      <td>0.685410</td>\n",
       "      <td>2.381745</td>\n",
       "      <td>-0.091282</td>\n",
       "      <td>0.608968</td>\n",
       "      <td>2.767994</td>\n",
       "      <td>1.267959</td>\n",
       "      <td>0.968678</td>\n",
       "      <td>1.051175</td>\n",
       "    </tr>\n",
       "  </tbody>\n",
       "</table>\n",
       "<p>90 rows × 20 columns</p>\n",
       "</div>"
      ],
      "text/plain": [
       "    TIME_WINDOW  K_SIZE  CONV_MID  CONV_FINAL  train_portfolio_value  \\\n",
       "0            50       3         5           5           320382.44000   \n",
       "1            50       3         5          10           267608.88000   \n",
       "2            50       3         5          20           274533.10000   \n",
       "3            50       3        10           5           328544.00000   \n",
       "4            50       3        10          10           302270.94000   \n",
       "..          ...     ...       ...         ...                    ...   \n",
       "85           25       5         5          10           411840.56250   \n",
       "86           25       5         5          20           690568.06250   \n",
       "87           25       5        10           5           435820.25000   \n",
       "88           25       5        10          10           363065.40625   \n",
       "89           25       5        10          20           276799.43750   \n",
       "\n",
       "    2021_portfolio_value  2022_portfolio_value  2023_portfolio_value  \\\n",
       "0          123974.195000         100835.510000         115646.820000   \n",
       "1          123833.340000         100667.790000         113932.210000   \n",
       "2          123793.730000          99567.195000         116115.890000   \n",
       "3          125503.650000          98766.580000         116112.330000   \n",
       "4          124344.100000         100606.390000         115522.110000   \n",
       "..                   ...                   ...                   ...   \n",
       "85         130851.031250          97461.171875         106248.062500   \n",
       "86         130324.265625          97280.617188         106154.796875   \n",
       "87         131722.375000          97180.851562         105817.554688   \n",
       "88         130136.023438          97330.859375         106040.726562   \n",
       "89         126795.867188          96867.828125         105117.468750   \n",
       "\n",
       "    train_drawdown  2021_drawdown  2022_drawdown  2023_drawdown  train_sharpe  \\\n",
       "0        -0.308698      -0.040540      -0.148230      -0.099387      0.743939   \n",
       "1        -0.334926      -0.061128      -0.135814      -0.093242      0.657976   \n",
       "2        -0.337678      -0.054411      -0.152924      -0.104601      0.679288   \n",
       "3        -0.329956      -0.057787      -0.068073      -0.102576      0.819953   \n",
       "4        -0.289352      -0.055117      -0.152592      -0.112859      0.665594   \n",
       "..             ...            ...            ...            ...           ...   \n",
       "85       -0.283829      -0.044330      -0.148526      -0.096389      0.783526   \n",
       "86       -0.423404      -0.044590      -0.146667      -0.091771      0.866595   \n",
       "87       -0.436339      -0.046463      -0.147408      -0.090460      0.738184   \n",
       "88       -0.284242      -0.052271      -0.144531      -0.090514      0.776317   \n",
       "89       -0.305862      -0.046851      -0.143213      -0.086378      0.685410   \n",
       "\n",
       "    2021_sharpe  2022_sharpe  2023_sharpe  train_cumulative  2021_cumulative  \\\n",
       "0      2.535556     0.152041     1.772826          3.203824         1.239742   \n",
       "1      2.456712     0.136309     1.639025          2.676089         1.238333   \n",
       "2      2.471280     0.069657     1.737024          2.745331         1.237937   \n",
       "3      2.563939    -0.223365     1.840516          3.285440         1.255036   \n",
       "4      2.466682     0.138799     1.731117          3.022709         1.243441   \n",
       "..          ...          ...          ...               ...              ...   \n",
       "85     2.626537    -0.045976     0.671471          4.118406         1.308510   \n",
       "86     2.602527    -0.062514     0.680588          6.905681         1.303243   \n",
       "87     2.653361    -0.065530     0.666764          4.358202         1.317224   \n",
       "88     2.561369    -0.061890     0.675768          3.630654         1.301360   \n",
       "89     2.381745    -0.091282     0.608968          2.767994         1.267959   \n",
       "\n",
       "    2022_cumulative  2023_cumulative  \n",
       "0          1.008355         1.156468  \n",
       "1          1.006678         1.139322  \n",
       "2          0.995672         1.161159  \n",
       "3          0.987666         1.161123  \n",
       "4          1.006064         1.155221  \n",
       "..              ...              ...  \n",
       "85         0.974612         1.062481  \n",
       "86         0.972806         1.061548  \n",
       "87         0.971809         1.058176  \n",
       "88         0.973309         1.060407  \n",
       "89         0.968678         1.051175  \n",
       "\n",
       "[90 rows x 20 columns]"
      ]
     },
     "execution_count": 21,
     "metadata": {},
     "output_type": "execute_result"
    }
   ],
   "source": [
    "# Hyperparameter tuning loop with 5 episodes of training and error handling\n",
    "for TIME_WINDOW, K_SIZE, CONV_MID, CONV_FINAL in product(time_windows, k_sizes, conv_mids, conv_finals):\n",
    "    try:\n",
    "        # Update the policy_kwargs for the current set of hyperparameters\n",
    "        policy_kwargs = {\n",
    "        \"initial_features\": len(FEATURE_NAMES),\n",
    "        \"k_size\": K_SIZE,\n",
    "        \"time_window\": TIME_WINDOW,\n",
    "        \"conv_mid_features\":CONV_MID,\n",
    "        \"conv_final_features\":CONV_FINAL}\n",
    "\n",
    "        # Create the environment for training and the test years\n",
    "        environment = PortfolioOptimizationEnv(df_portfolio_train, initial_amount=100000, comission_fee_pct=COMISSION_FEE,\n",
    "                                               time_window=TIME_WINDOW, features=FEATURE_NAMES, normalize_df=None,\n",
    "                                               reward_function=custom_reward_function, reward_scaling=1.0)\n",
    "\n",
    "        environment_2021 = PortfolioOptimizationEnv(df_portfolio_2021, initial_amount=100000, comission_fee_pct=COMISSION_FEE,\n",
    "                                                    time_window=TIME_WINDOW, features=FEATURE_NAMES, normalize_df=None,\n",
    "                                                    reward_function=custom_reward_function, reward_scaling=1.0)\n",
    "\n",
    "        environment_2022 = PortfolioOptimizationEnv(df_portfolio_2022, initial_amount=100000, comission_fee_pct=COMISSION_FEE,\n",
    "                                                    time_window=TIME_WINDOW, features=FEATURE_NAMES, normalize_df=None,\n",
    "                                                    reward_function=custom_reward_function, reward_scaling=1.0)\n",
    "\n",
    "        environment_2023 = PortfolioOptimizationEnv(df_portfolio_2023, initial_amount=100000, comission_fee_pct=COMISSION_FEE,\n",
    "                                                    time_window=TIME_WINDOW, features=FEATURE_NAMES, normalize_df=None,\n",
    "                                                    reward_function=custom_reward_function, reward_scaling=1.0)\n",
    "\n",
    "        # Instantiate the model for each combination of hyperparameters\n",
    "        # set PolicyGradient parameters\n",
    "        model_kwargs = {\n",
    "                \"lr\": 0.01,\n",
    "                \"policy\": EIIE,\n",
    "                }\n",
    "\n",
    "        EIIE_model = DRLAgent(environment).get_model(\"pg\", device, model_kwargs, policy_kwargs)\n",
    "        EIIE_policy = EIIE(time_window=TIME_WINDOW, device=device, initial_features=len(FEATURE_NAMES),\n",
    "                           k_size=K_SIZE, conv_mid_features=CONV_MID, conv_final_features=CONV_FINAL)\n",
    "\n",
    "        # Train the model for 5 episodes\n",
    "        DRLAgent.train_model(EIIE_model, episodes=10)\n",
    "        \n",
    "        # Save the model policy after training\n",
    "        model_filename = f\"policy_EIIE_{TIME_WINDOW}_{K_SIZE}_{CONV_MID}_{CONV_FINAL}.pt\"\n",
    "        torch.save(EIIE_model.train_policy.state_dict(), model_filename)\n",
    "\n",
    "        # Training evaluation\n",
    "        environment.reset()\n",
    "        DRLAgent.DRL_validation(EIIE_model, environment, policy=EIIE_policy)\n",
    "        train_final_value, train_drawdown, train_sharpe, train_cumulative = calculate_metrics(environment)\n",
    "\n",
    "        # 2021 evaluation\n",
    "        environment_2021.reset()\n",
    "        DRLAgent.DRL_validation(EIIE_model, environment_2021, policy=EIIE_policy)\n",
    "        portfolio_2021_value, drawdown_2021, sharpe_2021, cumulative_2021 = calculate_metrics(environment_2021)\n",
    "\n",
    "        # 2022 evaluation\n",
    "        environment_2022.reset()\n",
    "        DRLAgent.DRL_validation(EIIE_model, environment_2022, policy=EIIE_policy)\n",
    "        portfolio_2022_value, drawdown_2022, sharpe_2022, cumulative_2022 = calculate_metrics(environment_2022)\n",
    "\n",
    "        # 2023 evaluation\n",
    "        environment_2023.reset()\n",
    "        DRLAgent.DRL_validation(EIIE_model, environment_2023, policy=EIIE_policy)\n",
    "        portfolio_2023_value, drawdown_2023, sharpe_2023, cumulative_2023 = calculate_metrics(environment_2023)\n",
    "\n",
    "    except Exception as e:\n",
    "        print(f\"Error encountered with combination policy_EIIE_{TIME_WINDOW}_{K_SIZE}_{CONV_MID}_{CONV_FINAL}: {e}\")\n",
    "        # If an error occurs, store NaN for all the metrics\n",
    "        train_final_value = train_drawdown = train_sharpe = train_cumulative = np.nan\n",
    "        portfolio_2021_value = drawdown_2021 = sharpe_2021 = cumulative_2021 = np.nan\n",
    "        portfolio_2022_value = drawdown_2022 = sharpe_2022 = cumulative_2022 = np.nan\n",
    "        portfolio_2023_value = drawdown_2023 = sharpe_2023 = cumulative_2023 = np.nan\n",
    "\n",
    "    # Create a temporary DataFrame to store the current results\n",
    "    temp_df = pd.DataFrame([{\n",
    "        \"TIME_WINDOW\": TIME_WINDOW, \"K_SIZE\": K_SIZE, \"CONV_MID\": CONV_MID, \"CONV_FINAL\": CONV_FINAL,\n",
    "        \"train_portfolio_value\": train_final_value, \"train_drawdown\": train_drawdown, \"train_sharpe\": train_sharpe, \"train_cumulative\": train_cumulative,\n",
    "        \"2021_portfolio_value\": portfolio_2021_value, \"2021_drawdown\": drawdown_2021, \"2021_sharpe\": sharpe_2021, \"2021_cumulative\": cumulative_2021,\n",
    "        \"2022_portfolio_value\": portfolio_2022_value, \"2022_drawdown\": drawdown_2022, \"2022_sharpe\": sharpe_2022, \"2022_cumulative\": cumulative_2022,\n",
    "        \"2023_portfolio_value\": portfolio_2023_value, \"2023_drawdown\": drawdown_2023, \"2023_sharpe\": sharpe_2023, \"2023_cumulative\": cumulative_2023\n",
    "    }])\n",
    "    \n",
    "    # Use pd.concat instead of append to add the results to the main DataFrame\n",
    "    results_df2 = pd.concat([results_df2, temp_df], ignore_index=True)\n",
    "    \n",
    "results_df2"
   ]
  },
  {
   "cell_type": "code",
   "execution_count": 22,
   "metadata": {
    "scrolled": true
   },
   "outputs": [
    {
     "data": {
      "text/html": [
       "<div>\n",
       "<style scoped>\n",
       "    .dataframe tbody tr th:only-of-type {\n",
       "        vertical-align: middle;\n",
       "    }\n",
       "\n",
       "    .dataframe tbody tr th {\n",
       "        vertical-align: top;\n",
       "    }\n",
       "\n",
       "    .dataframe thead th {\n",
       "        text-align: right;\n",
       "    }\n",
       "</style>\n",
       "<table border=\"1\" class=\"dataframe\">\n",
       "  <thead>\n",
       "    <tr style=\"text-align: right;\">\n",
       "      <th></th>\n",
       "      <th>TIME_WINDOW</th>\n",
       "      <th>K_SIZE</th>\n",
       "      <th>CONV_MID</th>\n",
       "      <th>CONV_FINAL</th>\n",
       "      <th>train_portfolio_value</th>\n",
       "      <th>2021_portfolio_value</th>\n",
       "      <th>2022_portfolio_value</th>\n",
       "      <th>2023_portfolio_value</th>\n",
       "      <th>train_drawdown</th>\n",
       "      <th>2021_drawdown</th>\n",
       "      <th>2022_drawdown</th>\n",
       "      <th>2023_drawdown</th>\n",
       "      <th>train_sharpe</th>\n",
       "      <th>2021_sharpe</th>\n",
       "      <th>2022_sharpe</th>\n",
       "      <th>2023_sharpe</th>\n",
       "      <th>train_cumulative</th>\n",
       "      <th>2021_cumulative</th>\n",
       "      <th>2022_cumulative</th>\n",
       "      <th>2023_cumulative</th>\n",
       "    </tr>\n",
       "  </thead>\n",
       "  <tbody>\n",
       "    <tr>\n",
       "      <th>0</th>\n",
       "      <td>50</td>\n",
       "      <td>3</td>\n",
       "      <td>5</td>\n",
       "      <td>5</td>\n",
       "      <td>320382.44000</td>\n",
       "      <td>123974.195000</td>\n",
       "      <td>100835.510000</td>\n",
       "      <td>115646.820000</td>\n",
       "      <td>-0.308698</td>\n",
       "      <td>-0.040540</td>\n",
       "      <td>-0.148230</td>\n",
       "      <td>-0.099387</td>\n",
       "      <td>0.743939</td>\n",
       "      <td>2.535556</td>\n",
       "      <td>0.152041</td>\n",
       "      <td>1.772826</td>\n",
       "      <td>3.203824</td>\n",
       "      <td>1.239742</td>\n",
       "      <td>1.008355</td>\n",
       "      <td>1.156468</td>\n",
       "    </tr>\n",
       "    <tr>\n",
       "      <th>1</th>\n",
       "      <td>50</td>\n",
       "      <td>3</td>\n",
       "      <td>5</td>\n",
       "      <td>10</td>\n",
       "      <td>267608.88000</td>\n",
       "      <td>123833.340000</td>\n",
       "      <td>100667.790000</td>\n",
       "      <td>113932.210000</td>\n",
       "      <td>-0.334926</td>\n",
       "      <td>-0.061128</td>\n",
       "      <td>-0.135814</td>\n",
       "      <td>-0.093242</td>\n",
       "      <td>0.657976</td>\n",
       "      <td>2.456712</td>\n",
       "      <td>0.136309</td>\n",
       "      <td>1.639025</td>\n",
       "      <td>2.676089</td>\n",
       "      <td>1.238333</td>\n",
       "      <td>1.006678</td>\n",
       "      <td>1.139322</td>\n",
       "    </tr>\n",
       "    <tr>\n",
       "      <th>2</th>\n",
       "      <td>50</td>\n",
       "      <td>3</td>\n",
       "      <td>5</td>\n",
       "      <td>20</td>\n",
       "      <td>274533.10000</td>\n",
       "      <td>123793.730000</td>\n",
       "      <td>99567.195000</td>\n",
       "      <td>116115.890000</td>\n",
       "      <td>-0.337678</td>\n",
       "      <td>-0.054411</td>\n",
       "      <td>-0.152924</td>\n",
       "      <td>-0.104601</td>\n",
       "      <td>0.679288</td>\n",
       "      <td>2.471280</td>\n",
       "      <td>0.069657</td>\n",
       "      <td>1.737024</td>\n",
       "      <td>2.745331</td>\n",
       "      <td>1.237937</td>\n",
       "      <td>0.995672</td>\n",
       "      <td>1.161159</td>\n",
       "    </tr>\n",
       "    <tr>\n",
       "      <th>3</th>\n",
       "      <td>50</td>\n",
       "      <td>3</td>\n",
       "      <td>10</td>\n",
       "      <td>5</td>\n",
       "      <td>328544.00000</td>\n",
       "      <td>125503.650000</td>\n",
       "      <td>98766.580000</td>\n",
       "      <td>116112.330000</td>\n",
       "      <td>-0.329956</td>\n",
       "      <td>-0.057787</td>\n",
       "      <td>-0.068073</td>\n",
       "      <td>-0.102576</td>\n",
       "      <td>0.819953</td>\n",
       "      <td>2.563939</td>\n",
       "      <td>-0.223365</td>\n",
       "      <td>1.840516</td>\n",
       "      <td>3.285440</td>\n",
       "      <td>1.255036</td>\n",
       "      <td>0.987666</td>\n",
       "      <td>1.161123</td>\n",
       "    </tr>\n",
       "    <tr>\n",
       "      <th>4</th>\n",
       "      <td>50</td>\n",
       "      <td>3</td>\n",
       "      <td>10</td>\n",
       "      <td>10</td>\n",
       "      <td>302270.94000</td>\n",
       "      <td>124344.100000</td>\n",
       "      <td>100606.390000</td>\n",
       "      <td>115522.110000</td>\n",
       "      <td>-0.289352</td>\n",
       "      <td>-0.055117</td>\n",
       "      <td>-0.152592</td>\n",
       "      <td>-0.112859</td>\n",
       "      <td>0.665594</td>\n",
       "      <td>2.466682</td>\n",
       "      <td>0.138799</td>\n",
       "      <td>1.731117</td>\n",
       "      <td>3.022709</td>\n",
       "      <td>1.243441</td>\n",
       "      <td>1.006064</td>\n",
       "      <td>1.155221</td>\n",
       "    </tr>\n",
       "    <tr>\n",
       "      <th>...</th>\n",
       "      <td>...</td>\n",
       "      <td>...</td>\n",
       "      <td>...</td>\n",
       "      <td>...</td>\n",
       "      <td>...</td>\n",
       "      <td>...</td>\n",
       "      <td>...</td>\n",
       "      <td>...</td>\n",
       "      <td>...</td>\n",
       "      <td>...</td>\n",
       "      <td>...</td>\n",
       "      <td>...</td>\n",
       "      <td>...</td>\n",
       "      <td>...</td>\n",
       "      <td>...</td>\n",
       "      <td>...</td>\n",
       "      <td>...</td>\n",
       "      <td>...</td>\n",
       "      <td>...</td>\n",
       "      <td>...</td>\n",
       "    </tr>\n",
       "    <tr>\n",
       "      <th>85</th>\n",
       "      <td>25</td>\n",
       "      <td>5</td>\n",
       "      <td>5</td>\n",
       "      <td>10</td>\n",
       "      <td>411840.56250</td>\n",
       "      <td>130851.031250</td>\n",
       "      <td>97461.171875</td>\n",
       "      <td>106248.062500</td>\n",
       "      <td>-0.283829</td>\n",
       "      <td>-0.044330</td>\n",
       "      <td>-0.148526</td>\n",
       "      <td>-0.096389</td>\n",
       "      <td>0.783526</td>\n",
       "      <td>2.626537</td>\n",
       "      <td>-0.045976</td>\n",
       "      <td>0.671471</td>\n",
       "      <td>4.118406</td>\n",
       "      <td>1.308510</td>\n",
       "      <td>0.974612</td>\n",
       "      <td>1.062481</td>\n",
       "    </tr>\n",
       "    <tr>\n",
       "      <th>86</th>\n",
       "      <td>25</td>\n",
       "      <td>5</td>\n",
       "      <td>5</td>\n",
       "      <td>20</td>\n",
       "      <td>690568.06250</td>\n",
       "      <td>130324.265625</td>\n",
       "      <td>97280.617188</td>\n",
       "      <td>106154.796875</td>\n",
       "      <td>-0.423404</td>\n",
       "      <td>-0.044590</td>\n",
       "      <td>-0.146667</td>\n",
       "      <td>-0.091771</td>\n",
       "      <td>0.866595</td>\n",
       "      <td>2.602527</td>\n",
       "      <td>-0.062514</td>\n",
       "      <td>0.680588</td>\n",
       "      <td>6.905681</td>\n",
       "      <td>1.303243</td>\n",
       "      <td>0.972806</td>\n",
       "      <td>1.061548</td>\n",
       "    </tr>\n",
       "    <tr>\n",
       "      <th>87</th>\n",
       "      <td>25</td>\n",
       "      <td>5</td>\n",
       "      <td>10</td>\n",
       "      <td>5</td>\n",
       "      <td>435820.25000</td>\n",
       "      <td>131722.375000</td>\n",
       "      <td>97180.851562</td>\n",
       "      <td>105817.554688</td>\n",
       "      <td>-0.436339</td>\n",
       "      <td>-0.046463</td>\n",
       "      <td>-0.147408</td>\n",
       "      <td>-0.090460</td>\n",
       "      <td>0.738184</td>\n",
       "      <td>2.653361</td>\n",
       "      <td>-0.065530</td>\n",
       "      <td>0.666764</td>\n",
       "      <td>4.358202</td>\n",
       "      <td>1.317224</td>\n",
       "      <td>0.971809</td>\n",
       "      <td>1.058176</td>\n",
       "    </tr>\n",
       "    <tr>\n",
       "      <th>88</th>\n",
       "      <td>25</td>\n",
       "      <td>5</td>\n",
       "      <td>10</td>\n",
       "      <td>10</td>\n",
       "      <td>363065.40625</td>\n",
       "      <td>130136.023438</td>\n",
       "      <td>97330.859375</td>\n",
       "      <td>106040.726562</td>\n",
       "      <td>-0.284242</td>\n",
       "      <td>-0.052271</td>\n",
       "      <td>-0.144531</td>\n",
       "      <td>-0.090514</td>\n",
       "      <td>0.776317</td>\n",
       "      <td>2.561369</td>\n",
       "      <td>-0.061890</td>\n",
       "      <td>0.675768</td>\n",
       "      <td>3.630654</td>\n",
       "      <td>1.301360</td>\n",
       "      <td>0.973309</td>\n",
       "      <td>1.060407</td>\n",
       "    </tr>\n",
       "    <tr>\n",
       "      <th>89</th>\n",
       "      <td>25</td>\n",
       "      <td>5</td>\n",
       "      <td>10</td>\n",
       "      <td>20</td>\n",
       "      <td>276799.43750</td>\n",
       "      <td>126795.867188</td>\n",
       "      <td>96867.828125</td>\n",
       "      <td>105117.468750</td>\n",
       "      <td>-0.305862</td>\n",
       "      <td>-0.046851</td>\n",
       "      <td>-0.143213</td>\n",
       "      <td>-0.086378</td>\n",
       "      <td>0.685410</td>\n",
       "      <td>2.381745</td>\n",
       "      <td>-0.091282</td>\n",
       "      <td>0.608968</td>\n",
       "      <td>2.767994</td>\n",
       "      <td>1.267959</td>\n",
       "      <td>0.968678</td>\n",
       "      <td>1.051175</td>\n",
       "    </tr>\n",
       "  </tbody>\n",
       "</table>\n",
       "<p>90 rows × 20 columns</p>\n",
       "</div>"
      ],
      "text/plain": [
       "    TIME_WINDOW  K_SIZE  CONV_MID  CONV_FINAL  train_portfolio_value  \\\n",
       "0            50       3         5           5           320382.44000   \n",
       "1            50       3         5          10           267608.88000   \n",
       "2            50       3         5          20           274533.10000   \n",
       "3            50       3        10           5           328544.00000   \n",
       "4            50       3        10          10           302270.94000   \n",
       "..          ...     ...       ...         ...                    ...   \n",
       "85           25       5         5          10           411840.56250   \n",
       "86           25       5         5          20           690568.06250   \n",
       "87           25       5        10           5           435820.25000   \n",
       "88           25       5        10          10           363065.40625   \n",
       "89           25       5        10          20           276799.43750   \n",
       "\n",
       "    2021_portfolio_value  2022_portfolio_value  2023_portfolio_value  \\\n",
       "0          123974.195000         100835.510000         115646.820000   \n",
       "1          123833.340000         100667.790000         113932.210000   \n",
       "2          123793.730000          99567.195000         116115.890000   \n",
       "3          125503.650000          98766.580000         116112.330000   \n",
       "4          124344.100000         100606.390000         115522.110000   \n",
       "..                   ...                   ...                   ...   \n",
       "85         130851.031250          97461.171875         106248.062500   \n",
       "86         130324.265625          97280.617188         106154.796875   \n",
       "87         131722.375000          97180.851562         105817.554688   \n",
       "88         130136.023438          97330.859375         106040.726562   \n",
       "89         126795.867188          96867.828125         105117.468750   \n",
       "\n",
       "    train_drawdown  2021_drawdown  2022_drawdown  2023_drawdown  train_sharpe  \\\n",
       "0        -0.308698      -0.040540      -0.148230      -0.099387      0.743939   \n",
       "1        -0.334926      -0.061128      -0.135814      -0.093242      0.657976   \n",
       "2        -0.337678      -0.054411      -0.152924      -0.104601      0.679288   \n",
       "3        -0.329956      -0.057787      -0.068073      -0.102576      0.819953   \n",
       "4        -0.289352      -0.055117      -0.152592      -0.112859      0.665594   \n",
       "..             ...            ...            ...            ...           ...   \n",
       "85       -0.283829      -0.044330      -0.148526      -0.096389      0.783526   \n",
       "86       -0.423404      -0.044590      -0.146667      -0.091771      0.866595   \n",
       "87       -0.436339      -0.046463      -0.147408      -0.090460      0.738184   \n",
       "88       -0.284242      -0.052271      -0.144531      -0.090514      0.776317   \n",
       "89       -0.305862      -0.046851      -0.143213      -0.086378      0.685410   \n",
       "\n",
       "    2021_sharpe  2022_sharpe  2023_sharpe  train_cumulative  2021_cumulative  \\\n",
       "0      2.535556     0.152041     1.772826          3.203824         1.239742   \n",
       "1      2.456712     0.136309     1.639025          2.676089         1.238333   \n",
       "2      2.471280     0.069657     1.737024          2.745331         1.237937   \n",
       "3      2.563939    -0.223365     1.840516          3.285440         1.255036   \n",
       "4      2.466682     0.138799     1.731117          3.022709         1.243441   \n",
       "..          ...          ...          ...               ...              ...   \n",
       "85     2.626537    -0.045976     0.671471          4.118406         1.308510   \n",
       "86     2.602527    -0.062514     0.680588          6.905681         1.303243   \n",
       "87     2.653361    -0.065530     0.666764          4.358202         1.317224   \n",
       "88     2.561369    -0.061890     0.675768          3.630654         1.301360   \n",
       "89     2.381745    -0.091282     0.608968          2.767994         1.267959   \n",
       "\n",
       "    2022_cumulative  2023_cumulative  \n",
       "0          1.008355         1.156468  \n",
       "1          1.006678         1.139322  \n",
       "2          0.995672         1.161159  \n",
       "3          0.987666         1.161123  \n",
       "4          1.006064         1.155221  \n",
       "..              ...              ...  \n",
       "85         0.974612         1.062481  \n",
       "86         0.972806         1.061548  \n",
       "87         0.971809         1.058176  \n",
       "88         0.973309         1.060407  \n",
       "89         0.968678         1.051175  \n",
       "\n",
       "[90 rows x 20 columns]"
      ]
     },
     "execution_count": 22,
     "metadata": {},
     "output_type": "execute_result"
    }
   ],
   "source": [
    "results_df2"
   ]
  },
  {
   "cell_type": "code",
   "execution_count": 33,
   "metadata": {},
   "outputs": [],
   "source": [
    "results_df2.to_csv('results_df2.csv', index=False)"
   ]
  },
  {
   "cell_type": "code",
   "execution_count": null,
   "metadata": {},
   "outputs": [],
   "source": []
  },
  {
   "cell_type": "code",
   "execution_count": null,
   "metadata": {},
   "outputs": [],
   "source": [
    "results_df.to_csv('results_df.csv', index=False)"
   ]
  },
  {
   "cell_type": "code",
   "execution_count": null,
   "metadata": {},
   "outputs": [],
   "source": []
  },
  {
   "cell_type": "code",
   "execution_count": null,
   "metadata": {},
   "outputs": [],
   "source": []
  },
  {
   "cell_type": "code",
   "execution_count": null,
   "metadata": {},
   "outputs": [],
   "source": []
  },
  {
   "cell_type": "code",
   "execution_count": null,
   "metadata": {},
   "outputs": [],
   "source": []
  },
  {
   "cell_type": "code",
   "execution_count": null,
   "metadata": {},
   "outputs": [],
   "source": [
    "FEATURE_NAMES = ['close',\n",
    "                 'high',\n",
    "                 'low',\n",
    "                 'High_VIX',\n",
    "                 'Low_VIX',\n",
    "                 'Close_VIX',\n",
    "                 'High_SPY',\n",
    "                 'Low_SPY',\n",
    "                 'Close_SPY',\n",
    "                 'Volume_SPY',\n",
    "                 'Fear Greed', \n",
    "                 'ratingScore',\n",
    "                 'ratingDetailsDCFScore',\n",
    "                 'ratingDetailsROEScore',\n",
    "                 'ratingDetailsROAScore',\n",
    "                 'ratingDetailsPEScore',\n",
    "                 'ratingDetailsPBScore',\n",
    "                 'expenses',\n",
    "                 'GDP', \n",
    "                 'exports', \n",
    "                 'imports',\n",
    "                 'pound_dollar_exchange_rate',\n",
    "                 'unemployment',\n",
    "                 'ics',\n",
    "                 'TTM Revenue(Billion)',\n",
    "                 'TTM EBITDA(Billion)',\n",
    "                 'EBITDA Margin',\n",
    "                 'Price to Book Ratio',\n",
    "                 'PE Ratio',\n",
    "                 'Price to Sales Ratio',\n",
    "                 'Assets',\n",
    "                 'NetIncomeLoss',\n",
    "                 'Return on Equity(%)']\n",
    "\n",
    "TIME_WINDOW = 50\n",
    "COMISSION_FEE = 0.0025\n",
    "K_SIZE = 4\n",
    "CONV_MID = 5\n",
    "CONV_FINAL= 20\n",
    "\n",
    "environment = PortfolioOptimizationEnv(\n",
    "        df_portfolio_train,\n",
    "        initial_amount=100000,\n",
    "        comission_fee_pct=COMISSION_FEE,\n",
    "        time_window=TIME_WINDOW,\n",
    "        features=FEATURE_NAMES,\n",
    "        normalize_df=None,\n",
    "        reward_function=custom_reward_function,\n",
    "        reward_scaling=1.0\n",
    "    )\n",
    "\n",
    "# set PolicyGradient parameters\n",
    "model_kwargs = {\n",
    "    \"lr\": 0.01,\n",
    "    \"policy\": EIIE,\n",
    "}\n",
    "\n",
    "# here, we can set EIIE's parameters\n",
    "policy_kwargs = {\n",
    "    \"initial_features\": len(FEATURE_NAMES),\n",
    "    \"k_size\": K_SIZE,\n",
    "    \"time_window\": TIME_WINDOW,\n",
    "    \"conv_mid_features\":CONV_MID,\n",
    "    \"conv_final_features\":CONV_FINAL}\n",
    "\n",
    "EIIE_model = DRLAgent(environment).get_model(\"pg\", device, model_kwargs, policy_kwargs)"
   ]
  },
  {
   "cell_type": "markdown",
   "metadata": {},
   "source": [
    "# DRL Model Training (Jan 2011- Dec 2020)"
   ]
  },
  {
   "cell_type": "code",
   "execution_count": null,
   "metadata": {
    "scrolled": false
   },
   "outputs": [],
   "source": [
    "DRLAgent.train_model(EIIE_model, episodes=5)\n",
    "torch.save(EIIE_model.train_policy.state_dict(), \"policy_EIIE(test).pt\")"
   ]
  },
  {
   "cell_type": "markdown",
   "metadata": {},
   "source": [
    "# DRL Model Evaluation (Jan 2021-Dec 2023)"
   ]
  },
  {
   "cell_type": "code",
   "execution_count": null,
   "metadata": {},
   "outputs": [],
   "source": [
    "import os\n",
    "import shutil\n",
    "\n",
    "environment_2021 = PortfolioOptimizationEnv(\n",
    "    df_portfolio_2021,\n",
    "    initial_amount=100000,\n",
    "    comission_fee_pct=COMISSION_FEE,\n",
    "    time_window=TIME_WINDOW,\n",
    "    features=FEATURE_NAMES,\n",
    "    normalize_df=None,\n",
    "    reward_function=custom_reward_function,\n",
    "    reward_scaling=1.0\n",
    ")\n",
    "\n",
    "environment_2022 = PortfolioOptimizationEnv(\n",
    "    df_portfolio_2022,\n",
    "    initial_amount=100000,\n",
    "    comission_fee_pct=COMISSION_FEE,\n",
    "    time_window=TIME_WINDOW,\n",
    "    features=FEATURE_NAMES,\n",
    "    normalize_df=None,\n",
    "    reward_function=custom_reward_function,\n",
    "    reward_scaling=1.0\n",
    ")\n",
    "\n",
    "environment_2023 = PortfolioOptimizationEnv(\n",
    "    df_portfolio_2023,\n",
    "    initial_amount=100000,\n",
    "    comission_fee_pct=COMISSION_FEE,\n",
    "    time_window=TIME_WINDOW,\n",
    "    features=FEATURE_NAMES,\n",
    "    normalize_df=None,\n",
    "    reward_function=custom_reward_function,\n",
    "    reward_scaling=1.0\n",
    ")\n",
    "\n",
    "EIIE_results = {\n",
    "    \"train\": {},\n",
    "    \"2021\": {},\n",
    "    \"2022\": {},\n",
    "    \"2023\": {}\n",
    "}\n",
    "# EI3_results = {\n",
    "#     \"train\": {},\n",
    "#     \"2021\": {},\n",
    "#     \"2022\": {},\n",
    "#     \"2023\": {}\n",
    "# }\n",
    "\n",
    "# instantiate an architecture with the same arguments used in training\n",
    "# and load with load_state_dict.\n",
    "\n",
    "EIIE_policy = EIIE(time_window = TIME_WINDOW, device = device, initial_features = len(FEATURE_NAMES),\n",
    "              k_size = K_SIZE, conv_mid_features = CONV_MID,conv_final_features = CONV_FINAL)\n",
    "\n",
    "EIIE_policy.load_state_dict(torch.load(\"policy_EIIE(test).pt\"))\n",
    "\n",
    "environment.reset()\n",
    "src_folder = \"results/rl\"\n",
    "dst_folder = \"results/train\"\n",
    "if not os.path.exists(src_folder):\n",
    "    os.makedirs(src_folder)\n",
    "if os.path.exists(dst_folder):\n",
    "    shutil.rmtree(dst_folder)\n",
    "DRLAgent.DRL_validation(EIIE_model, environment, policy=EIIE_policy)\n",
    "os.rename(src_folder, dst_folder)\n",
    "EIIE_results[\"train\"][\"value\"] = environment._asset_memory[\"final\"]\n",
    "EIIE_results[\"train\"][\"actions\"] = environment._actions_memory\n",
    "\n",
    "src_folder = \"results/rl\"\n",
    "dst_folder = \"results/2021\"\n",
    "if not os.path.exists(src_folder):\n",
    "    os.makedirs(src_folder)\n",
    "if os.path.exists(dst_folder):\n",
    "    shutil.rmtree(dst_folder)\n",
    "DRLAgent.DRL_validation(EIIE_model, environment_2021, policy=EIIE_policy)\n",
    "os.rename(src_folder, dst_folder)\n",
    "EIIE_results[\"2021\"][\"value\"] = environment_2021._asset_memory[\"final\"]\n",
    "EIIE_results[\"2021\"][\"actions\"] = environment_2021._actions_memory\n",
    "\n",
    "src_folder = \"results/rl\"\n",
    "dst_folder = \"results/2022\"\n",
    "if not os.path.exists(src_folder):\n",
    "    os.makedirs(src_folder)\n",
    "if os.path.exists(dst_folder):\n",
    "    shutil.rmtree(dst_folder)\n",
    "DRLAgent.DRL_validation(EIIE_model, environment_2022, policy=EIIE_policy)\n",
    "os.rename(src_folder, dst_folder)\n",
    "EIIE_results[\"2022\"][\"value\"] = environment_2022._asset_memory[\"final\"]\n",
    "EIIE_results[\"2022\"][\"actions\"] = environment_2022._actions_memory\n",
    "\n",
    "src_folder = \"results/rl\"\n",
    "dst_folder = \"results/2023\"\n",
    "if not os.path.exists(src_folder):\n",
    "    os.makedirs(src_folder)\n",
    "if os.path.exists(dst_folder):\n",
    "    shutil.rmtree(dst_folder)\n",
    "DRLAgent.DRL_validation(EIIE_model, environment_2023, policy=EIIE_policy)\n",
    "os.rename(src_folder, dst_folder)\n",
    "EIIE_results[\"2023\"][\"value\"] = environment_2023._asset_memory[\"final\"]\n",
    "EIIE_results[\"2023\"][\"actions\"] = environment_2023._actions_memory\n",
    "\n",
    "\n",
    "# EI3_policy = EI3(time_window=50, device=device)\n",
    "# EI3_policy.load_state_dict(torch.load(\"policy_EI3.pt\"))\n",
    "\n",
    "# environment.reset()\n",
    "# DRLAgent.DRL_validation(EI3_model, environment, policy=EI3_policy)\n",
    "# EI3_results[\"train\"][\"value\"] = environment._asset_memory[\"final\"]\n",
    "# environment_2021.reset()\n",
    "# DRLAgent.DRL_validation(EI3_model, environment_2021, policy=EI3_policy)\n",
    "# EI3_results[\"2021\"][\"value\"] = environment_2021._asset_memory[\"final\"]\n",
    "# environment_2022.reset()\n",
    "# DRLAgent.DRL_validation(EI3_model, environment_2022, policy=EI3_policy)\n",
    "# EI3_results[\"2022\"][\"value\"] = environment_2022._asset_memory[\"final\"]\n",
    "# environment_2023.reset()\n",
    "# DRLAgent.DRL_validation(EI3_model, environment_2023, policy=EI3_policy)\n",
    "# EI3_results[\"2023\"][\"value\"] = environment_2023._asset_memory[\"final\"]\n",
    "\n",
    "#uniform buy n hold\n",
    "if not os.path.exists(src_folder):\n",
    "    os.makedirs(src_folder)\n",
    "UBAH_results = {\n",
    "    \"train\": {\"value\": [], \"actions\": []},\n",
    "    \"2021\": {\"value\": [], \"actions\": []},\n",
    "    \"2022\": {\"value\": [], \"actions\": []},\n",
    "    \"2023\": {\"value\": [], \"actions\": []}\n",
    "}\n",
    "\n",
    "PORTFOLIO_SIZE = len(TEST_SET)\n",
    "\n",
    "# train period\n",
    "terminated = False\n",
    "environment.reset()\n",
    "while not terminated:\n",
    "    action = [0] + [1/PORTFOLIO_SIZE] * PORTFOLIO_SIZE\n",
    "    _, _, terminated, _ = environment.step(action)\n",
    "    UBAH_results[\"train\"][\"actions\"].append(action)\n",
    "UBAH_results[\"train\"][\"value\"] = environment._asset_memory[\"final\"]\n",
    "\n",
    "# 2021\n",
    "terminated = False\n",
    "environment_2021.reset()\n",
    "while not terminated:\n",
    "    action = [0] + [1/PORTFOLIO_SIZE] * PORTFOLIO_SIZE\n",
    "    _, _, terminated, _ = environment_2021.step(action)\n",
    "    UBAH_results[\"2021\"][\"actions\"].append(action)\n",
    "UBAH_results[\"2021\"][\"value\"] = environment_2021._asset_memory[\"final\"]\n",
    "\n",
    "# 2022\n",
    "terminated = False\n",
    "environment_2022.reset()\n",
    "while not terminated:\n",
    "    action = [0] + [1/PORTFOLIO_SIZE] * PORTFOLIO_SIZE\n",
    "    _, _, terminated, _ = environment_2022.step(action)\n",
    "    UBAH_results[\"2022\"][\"actions\"].append(action)\n",
    "UBAH_results[\"2022\"][\"value\"] = environment_2022._asset_memory[\"final\"]\n",
    "\n",
    "# 2023\n",
    "terminated = False\n",
    "environment_2023.reset()\n",
    "while not terminated:\n",
    "    action = [0] + [1/PORTFOLIO_SIZE] * PORTFOLIO_SIZE\n",
    "    _, _, terminated, _ = environment_2023.step(action)\n",
    "    UBAH_results[\"2023\"][\"actions\"].append(action)\n",
    "UBAH_results[\"2023\"][\"value\"] = environment_2023._asset_memory[\"final\"]"
   ]
  },
  {
   "cell_type": "code",
   "execution_count": null,
   "metadata": {
    "scrolled": false
   },
   "outputs": [],
   "source": [
    "import matplotlib.pyplot as plt\n",
    "%matplotlib inline \n",
    "\n",
    "plt.plot(UBAH_results[\"train\"][\"value\"], label=\"Buy and Hold\")\n",
    "plt.plot(EIIE_results[\"train\"][\"value\"], label=\"EIIE\")\n",
    "#plt.plot(EI3_results[\"train\"][\"value\"], label=\"EI3\")\n",
    "\n",
    "plt.xlabel(\"Days\")\n",
    "plt.ylabel(\"Portfolio Value\")\n",
    "plt.title(\"Performance in training period\")\n",
    "plt.legend()\n",
    "\n",
    "plt.show()\n",
    "\n",
    "plt.plot(UBAH_results[\"2021\"][\"value\"], label=\"Buy and Hold\")\n",
    "plt.plot(EIIE_results[\"2021\"][\"value\"], label=\"EIIE\")\n",
    "#plt.plot(EI3_results[\"2021\"][\"value\"], label=\"EI3\")\n",
    "\n",
    "plt.xlabel(\"Days\")\n",
    "plt.ylabel(\"Portfolio Value\")\n",
    "plt.title(\"Performance in 2021\")\n",
    "plt.legend()\n",
    "\n",
    "plt.show()\n",
    "\n",
    "plt.plot(UBAH_results[\"2022\"][\"value\"], label=\"Buy and Hold\")\n",
    "plt.plot(EIIE_results[\"2022\"][\"value\"], label=\"EIIE\")\n",
    "#plt.plot(EI3_results[\"2022\"][\"value\"], label=\"EI3\")\n",
    "\n",
    "plt.xlabel(\"Days\")\n",
    "plt.ylabel(\"Portfolio Value\")\n",
    "plt.title(\"Performance in 2022\")\n",
    "plt.legend()\n",
    "\n",
    "plt.show()\n",
    "\n",
    "plt.plot(UBAH_results[\"2023\"][\"value\"], label=\"Buy and Hold\")\n",
    "plt.plot(EIIE_results[\"2023\"][\"value\"], label=\"EIIE\")\n",
    "#plt.plot(EI3_results[\"2023\"][\"value\"], label=\"EI3\")\n",
    "\n",
    "plt.xlabel(\"Days\")\n",
    "plt.ylabel(\"Portfolio Value\")\n",
    "plt.title(\"Performance in 2023\")\n",
    "plt.legend()\n",
    "\n",
    "plt.show()"
   ]
  },
  {
   "cell_type": "markdown",
   "metadata": {},
   "source": [
    "# Portfolio Allocation by Trained DRL Model"
   ]
  },
  {
   "cell_type": "code",
   "execution_count": null,
   "metadata": {
    "scrolled": false
   },
   "outputs": [],
   "source": [
    "# Function to plot action memory\n",
    "def plot_action_memory(actions, tickers, label):\n",
    "    \"\"\"Visualize portfolio allocation over time.\"\"\"\n",
    "    actions_df = pd.DataFrame(actions, columns=[\"cash\"] + tickers)\n",
    "    actions_df.plot(kind=\"line\", figsize=(12, 8), title=f\"Portfolio Allocation Breakdown - {label}\")\n",
    "    plt.ylabel(\"Portfolio Weight\")\n",
    "    plt.xlabel(\"Time Step\")\n",
    "    plt.legend(loc=\"upper left\", bbox_to_anchor=(1, 1))\n",
    "    plt.grid(True)\n",
    "    plt.tight_layout()\n",
    "    plt.show()\n",
    "\n",
    "# Plot EIIE actions for the training period\n",
    "plot_action_memory(EIIE_results[\"train\"][\"actions\"], TEST_SET, \"EIIE - Train\")\n",
    "\n",
    "# Plot EIIE actions for 2021\n",
    "plot_action_memory(EIIE_results[\"2021\"][\"actions\"], TEST_SET, \"EIIE - 2021\")\n",
    "\n",
    "# Plot EIIE actions for 2022\n",
    "plot_action_memory(EIIE_results[\"2022\"][\"actions\"], TEST_SET, \"EIIE - 2022\")\n",
    "\n",
    "# Plot EIIE actions for 2023\n",
    "plot_action_memory(EIIE_results[\"2023\"][\"actions\"], TEST_SET, \"EIIE - 2023\")\n",
    "\n",
    "# Similarly, plot UBAH actions for each period\n",
    "# plot_action_memory(UBAH_results[\"train\"][\"actions\"], TEST_SET, \"UBAH - Train\")\n",
    "# plot_action_memory(UBAH_results[\"2021\"][\"actions\"], TEST_SET, \"UBAH - 2021\")\n",
    "# plot_action_memory(UBAH_results[\"2022\"][\"actions\"], TEST_SET, \"UBAH - 2022\")\n",
    "# plot_action_memory(UBAH_results[\"2023\"][\"actions\"], TEST_SET, \"UBAH - 2023\")"
   ]
  },
  {
   "cell_type": "code",
   "execution_count": null,
   "metadata": {},
   "outputs": [],
   "source": []
  },
  {
   "cell_type": "code",
   "execution_count": 31,
   "metadata": {},
   "outputs": [],
   "source": [
    "results_df2 = results_df2[[\"TIME_WINDOW\", \"K_SIZE\", \"CONV_MID\", \"CONV_FINAL\", \n",
    "            'train_portfolio_value', 'train_drawdown', 'train_sharpe','train_cumulative',\n",
    "            '2021_portfolio_value', '2021_drawdown', '2021_sharpe','2021_cumulative',\n",
    "             '2022_portfolio_value', '2022_drawdown', '2022_sharpe','2022_cumulative',\n",
    "             '2023_portfolio_value', '2023_drawdown', '2023_sharpe','2023_cumulative']]"
   ]
  },
  {
   "cell_type": "code",
   "execution_count": null,
   "metadata": {},
   "outputs": [],
   "source": []
  }
 ],
 "metadata": {
  "kernelspec": {
   "display_name": "Python 3.10 (myenv)",
   "language": "python",
   "name": "myenv"
  },
  "language_info": {
   "codemirror_mode": {
    "name": "ipython",
    "version": 3
   },
   "file_extension": ".py",
   "mimetype": "text/x-python",
   "name": "python",
   "nbconvert_exporter": "python",
   "pygments_lexer": "ipython3",
   "version": "3.10.0"
  }
 },
 "nbformat": 4,
 "nbformat_minor": 2
}
